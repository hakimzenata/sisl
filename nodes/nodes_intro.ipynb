{
 "cells": [
  {
   "cell_type": "markdown",
   "id": "ab557674",
   "metadata": {},
   "source": [
    "Nodes and workflows\n",
    "--------\n",
    "\n",
    "Nodes and workflows are a functionality within `sisl` that allows you to define functional workflows that are lazily computed in a very easy way. Some of the reasons that you might want to use the `sisl.nodes` framework are:\n",
    "\n",
    "- **Cleaner and maintainable code**: The framework forces to write your workflows in a functional style. That is, **each piece of functionality** must be packed into **a node, which must be a pure function**, i.e. a function whose result depends only on its inputs. If you manage to do this, your code will be much more reusable and reproduceable by other people. It also helps a lot in testing your code, since you can very easily test each piece individually.\n",
    "- **Easier to use by an external interface**: Graphical interfaces (GUI) can have a hard time interacting with code if there is no clear division of functionalities or the inputs to provide are very complex. Nodes are pieces of functionality with simple input fields. Whenever an input to a node is too complex, you can always generate it from another node, simplifying the input that the user needs to provide. Linking a node's output to another node's input is therefore a very efficient way of creating \"workchains\" from a GUI by providing only simple inputs.\n",
    "\n",
    "*Note*: The plan is to convert [`sisl-gui`](https://pypi.org/project/sisl-gui/) to use these nodes and workflows, so whatever that you develope within the framework will be usable automatically by the GUI.\n",
    "\n",
    "### Nodes\n",
    "\n",
    "In `sisl.nodes`, you have the `Node` class:"
   ]
  },
  {
   "cell_type": "code",
   "execution_count": 1,
   "id": "bc48e2c4",
   "metadata": {
    "execution": {
     "iopub.execute_input": "2023-02-06T06:52:49.831623Z",
     "iopub.status.busy": "2023-02-06T06:52:49.831412Z",
     "iopub.status.idle": "2023-02-06T06:52:50.665139Z",
     "shell.execute_reply": "2023-02-06T06:52:50.664474Z"
    }
   },
   "outputs": [],
   "source": [
    "import sisl\n",
    "from sisl.nodes import Node"
   ]
  },
  {
   "cell_type": "markdown",
   "id": "1883c9ef",
   "metadata": {},
   "source": [
    "You can easily create a node from a function with the `from_func` method:"
   ]
  },
  {
   "cell_type": "code",
   "execution_count": 2,
   "id": "ac09f8b8",
   "metadata": {
    "execution": {
     "iopub.execute_input": "2023-02-06T06:52:50.668677Z",
     "iopub.status.busy": "2023-02-06T06:52:50.667984Z",
     "iopub.status.idle": "2023-02-06T06:52:50.671993Z",
     "shell.execute_reply": "2023-02-06T06:52:50.671388Z"
    }
   },
   "outputs": [],
   "source": [
    "@Node.from_func\n",
    "def my_sum(a: int, b: int):\n",
    "    print(f\"SUMMING {a} + {b}\")\n",
    "    return a + b\n",
    "\n",
    "# Instead of using it as a decorator, if you want to keep the pristine function,\n",
    "# you can always create the node later:\n",
    "#\n",
    "# def my_sum(a: int, b: int):\n",
    "#     print(f\"SUMMING {a} + {b}\")\n",
    "#     return a + b\n",
    "#\n",
    "# my_sum_node = Node.from_func(my_sum)"
   ]
  },
  {
   "attachments": {},
   "cell_type": "markdown",
   "id": "e8eae22d",
   "metadata": {},
   "source": [
    "By default, **nodes compute lazily**. That is they only run when you explicitly ask for the result. Therefore, calling your node won't run the function, it will just create a new node instance."
   ]
  },
  {
   "cell_type": "code",
   "execution_count": 3,
   "id": "4f4006f4",
   "metadata": {
    "execution": {
     "iopub.execute_input": "2023-02-06T06:52:50.674734Z",
     "iopub.status.busy": "2023-02-06T06:52:50.674402Z",
     "iopub.status.idle": "2023-02-06T06:52:50.686180Z",
     "shell.execute_reply": "2023-02-06T06:52:50.685594Z"
    }
   },
   "outputs": [
    {
     "data": {
      "text/plain": [
       "<sisl.nodes.node.my_sum at 0x7fbec5a0a430>"
      ]
     },
     "execution_count": 3,
     "metadata": {},
     "output_type": "execute_result"
    }
   ],
   "source": [
    "my_sum(2, 5)"
   ]
  },
  {
   "cell_type": "markdown",
   "id": "56348124",
   "metadata": {},
   "source": [
    "It is only when you call `.get()` on it that it will compute its result."
   ]
  },
  {
   "cell_type": "code",
   "execution_count": 4,
   "id": "21c54a1c",
   "metadata": {
    "execution": {
     "iopub.execute_input": "2023-02-06T06:52:50.688956Z",
     "iopub.status.busy": "2023-02-06T06:52:50.688618Z",
     "iopub.status.idle": "2023-02-06T06:52:50.694934Z",
     "shell.execute_reply": "2023-02-06T06:52:50.694362Z"
    }
   },
   "outputs": [
    {
     "name": "stdout",
     "output_type": "stream",
     "text": [
      "SUMMING 2 + 5\n"
     ]
    },
    {
     "data": {
      "text/plain": [
       "7"
      ]
     },
     "execution_count": 4,
     "metadata": {},
     "output_type": "execute_result"
    }
   ],
   "source": [
    "result = my_sum(2, 5)\n",
    "\n",
    "result.get()"
   ]
  },
  {
   "cell_type": "markdown",
   "id": "ed90e577",
   "metadata": {},
   "source": [
    "The result is then stored in the node, and if you keep requesting it the node will not need to recompute, it will just return the result:"
   ]
  },
  {
   "cell_type": "code",
   "execution_count": 5,
   "id": "4ae1f5ce",
   "metadata": {
    "execution": {
     "iopub.execute_input": "2023-02-06T06:52:50.697560Z",
     "iopub.status.busy": "2023-02-06T06:52:50.697235Z",
     "iopub.status.idle": "2023-02-06T06:52:50.703021Z",
     "shell.execute_reply": "2023-02-06T06:52:50.702446Z"
    }
   },
   "outputs": [
    {
     "data": {
      "text/plain": [
       "7"
      ]
     },
     "execution_count": 5,
     "metadata": {},
     "output_type": "execute_result"
    }
   ],
   "source": [
    "# This won't execute the function, so we won't see the printed message.\n",
    "result.get()"
   ]
  },
  {
   "cell_type": "markdown",
   "id": "78496815",
   "metadata": {},
   "source": [
    "Nodes will tipically be part of a workflow. If you want to change an input in a section of your workflow, you should not need to substitute your node. Therefore, nodes have a method to change inputs:"
   ]
  },
  {
   "cell_type": "code",
   "execution_count": 6,
   "id": "37dedda5",
   "metadata": {
    "execution": {
     "iopub.execute_input": "2023-02-06T06:52:50.705622Z",
     "iopub.status.busy": "2023-02-06T06:52:50.705293Z",
     "iopub.status.idle": "2023-02-06T06:52:50.710962Z",
     "shell.execute_reply": "2023-02-06T06:52:50.710402Z"
    }
   },
   "outputs": [
    {
     "data": {
      "text/plain": [
       "<sisl.nodes.node.my_sum at 0x7fbec5a0a220>"
      ]
     },
     "execution_count": 6,
     "metadata": {},
     "output_type": "execute_result"
    }
   ],
   "source": [
    "result.update_inputs(a=8)"
   ]
  },
  {
   "cell_type": "markdown",
   "id": "acfb2817",
   "metadata": {},
   "source": [
    "And now, when you need the value again, it will understand that the stored output is outdated and recompute:"
   ]
  },
  {
   "cell_type": "code",
   "execution_count": 7,
   "id": "cba981f5",
   "metadata": {
    "execution": {
     "iopub.execute_input": "2023-02-06T06:52:50.713595Z",
     "iopub.status.busy": "2023-02-06T06:52:50.713259Z",
     "iopub.status.idle": "2023-02-06T06:52:50.719851Z",
     "shell.execute_reply": "2023-02-06T06:52:50.719275Z"
    }
   },
   "outputs": [
    {
     "name": "stdout",
     "output_type": "stream",
     "text": [
      "SUMMING 8 + 5\n"
     ]
    },
    {
     "data": {
      "text/plain": [
       "13"
      ]
     },
     "execution_count": 7,
     "metadata": {},
     "output_type": "execute_result"
    }
   ],
   "source": [
    "result.get()"
   ]
  },
  {
   "cell_type": "markdown",
   "id": "62e9a61b",
   "metadata": {},
   "source": [
    "You can also set a node's special `automatic_recalc` input to `True`. In this way, each time the input is changed, the node will recompute."
   ]
  },
  {
   "cell_type": "code",
   "execution_count": 8,
   "id": "72b23330",
   "metadata": {
    "execution": {
     "iopub.execute_input": "2023-02-06T06:52:50.722389Z",
     "iopub.status.busy": "2023-02-06T06:52:50.722041Z",
     "iopub.status.idle": "2023-02-06T06:52:50.729004Z",
     "shell.execute_reply": "2023-02-06T06:52:50.728433Z"
    }
   },
   "outputs": [
    {
     "name": "stdout",
     "output_type": "stream",
     "text": [
      "SUMMING 2 + 5\n",
      "SUMMING 8 + 5\n"
     ]
    },
    {
     "data": {
      "text/plain": [
       "<sisl.nodes.node.my_sum at 0x7fbec5a0acd0>"
      ]
     },
     "execution_count": 8,
     "metadata": {},
     "output_type": "execute_result"
    }
   ],
   "source": [
    "auto_result = my_sum(2, 5, automatic_recalc=True)\n",
    "    \n",
    "auto_result.get()\n",
    "auto_result.update_inputs(a=8)"
   ]
  },
  {
   "cell_type": "markdown",
   "id": "3d12f7e0",
   "metadata": {},
   "source": [
    "And now comes the most useful thing about nodes. If you pass a node as an input to another node, the **nodes are recursively resolved** until they reach a leaf that is not a node.\n",
    "\n",
    "In the following example, we will create a node that depends on another node. We will see that whenever you need the result for the final node, all its dependencies are computed."
   ]
  },
  {
   "cell_type": "code",
   "execution_count": 9,
   "id": "f6cbd52b",
   "metadata": {
    "execution": {
     "iopub.execute_input": "2023-02-06T06:52:50.731817Z",
     "iopub.status.busy": "2023-02-06T06:52:50.731352Z",
     "iopub.status.idle": "2023-02-06T06:52:50.737831Z",
     "shell.execute_reply": "2023-02-06T06:52:50.737274Z"
    }
   },
   "outputs": [
    {
     "name": "stdout",
     "output_type": "stream",
     "text": [
      "SUMMING 2 + 5\n",
      "SUMMING 7 + 5\n"
     ]
    },
    {
     "data": {
      "text/plain": [
       "12"
      ]
     },
     "execution_count": 9,
     "metadata": {},
     "output_type": "execute_result"
    }
   ],
   "source": [
    "# Compute a first value\n",
    "first_val = my_sum(2, 5)\n",
    "# Use the first value to compute our final value\n",
    "final_val = my_sum(first_val, 5)\n",
    "    \n",
    "final_val.get()"
   ]
  },
  {
   "cell_type": "markdown",
   "id": "9632904f",
   "metadata": {},
   "source": [
    "Exactly as in the case where we had only one node, if you update the inputs of any node, the results also get recomputed when the value is requested.\n",
    "\n",
    "In the following example we update the input of the first node. When we request the output of the last node, the first node goes like \"Wait a moment, I am outdated, I need to recompute my value\". Then when the value is recomputed, the final node goes on to also recompute its value with the new input."
   ]
  },
  {
   "cell_type": "code",
   "execution_count": 10,
   "id": "82d31f33",
   "metadata": {
    "execution": {
     "iopub.execute_input": "2023-02-06T06:52:50.740255Z",
     "iopub.status.busy": "2023-02-06T06:52:50.739918Z",
     "iopub.status.idle": "2023-02-06T06:52:50.745156Z",
     "shell.execute_reply": "2023-02-06T06:52:50.744545Z"
    }
   },
   "outputs": [
    {
     "name": "stdout",
     "output_type": "stream",
     "text": [
      "SUMMING 7 + 5\n",
      "SUMMING 12 + 5\n"
     ]
    },
    {
     "data": {
      "text/plain": [
       "17"
      ]
     },
     "execution_count": 10,
     "metadata": {},
     "output_type": "execute_result"
    }
   ],
   "source": [
    "first_val.update_inputs(a=7)\n",
    "final_val.get()"
   ]
  },
  {
   "cell_type": "markdown",
   "id": "2430d05f",
   "metadata": {},
   "source": [
    "And if a node doesn't need to be recomputed, it will just return the stored output. In the following cell we update the inputs of our second node, but the first one still has the same inputs and therefore doesn't need to recompute:"
   ]
  },
  {
   "cell_type": "code",
   "execution_count": 11,
   "id": "79a64b11",
   "metadata": {
    "execution": {
     "iopub.execute_input": "2023-02-06T06:52:50.747436Z",
     "iopub.status.busy": "2023-02-06T06:52:50.747238Z",
     "iopub.status.idle": "2023-02-06T06:52:50.755517Z",
     "shell.execute_reply": "2023-02-06T06:52:50.754942Z"
    }
   },
   "outputs": [
    {
     "name": "stdout",
     "output_type": "stream",
     "text": [
      "SUMMING 12 + 20\n"
     ]
    },
    {
     "data": {
      "text/plain": [
       "32"
      ]
     },
     "execution_count": 11,
     "metadata": {},
     "output_type": "execute_result"
    }
   ],
   "source": [
    "final_val.update_inputs(b=20)\n",
    "final_val.get()"
   ]
  },
  {
   "cell_type": "markdown",
   "id": "acc2f1f4",
   "metadata": {},
   "source": [
    "When nodes are passed as inputs, they are not only recursively resolved. A **connection** between them is made so that they can **propagate information through the tree**. That is, when a node updates its inputs, it will send a signal up the tree that its output is outdated. In this way, if some node up the tree wants automatic recalculation, it will trigger a recompute of himself, which will recursively reach the outdated node.\n",
    "\n",
    "Let's create again two nodes, but this time the final one will have automatic recalculation:"
   ]
  },
  {
   "cell_type": "code",
   "execution_count": 12,
   "id": "6717188b",
   "metadata": {
    "execution": {
     "iopub.execute_input": "2023-02-06T06:52:50.757933Z",
     "iopub.status.busy": "2023-02-06T06:52:50.757597Z",
     "iopub.status.idle": "2023-02-06T06:52:50.762639Z",
     "shell.execute_reply": "2023-02-06T06:52:50.762041Z"
    }
   },
   "outputs": [
    {
     "name": "stdout",
     "output_type": "stream",
     "text": [
      "SUMMING 2 + 5\n",
      "SUMMING 7 + 5\n"
     ]
    },
    {
     "data": {
      "text/plain": [
       "12"
      ]
     },
     "execution_count": 12,
     "metadata": {},
     "output_type": "execute_result"
    }
   ],
   "source": [
    "# Compute a first value\n",
    "first_val = my_sum(2, 5)\n",
    "# Use the first value to compute our final value, which we want to\n",
    "# automatically recompute when there are changes.\n",
    "final_val = my_sum(first_val, 5, automatic_recalc=True)\n",
    "\n",
    "# Get the value\n",
    "final_val.get()"
   ]
  },
  {
   "cell_type": "markdown",
   "id": "078fbcf7",
   "metadata": {},
   "source": [
    "Now, when we update the inputs of the first node, the second one will notice, and it will trigger a recompute on all the tree, just as if we had called its `.get()` method."
   ]
  },
  {
   "cell_type": "code",
   "execution_count": 13,
   "id": "38e973d6",
   "metadata": {
    "execution": {
     "iopub.execute_input": "2023-02-06T06:52:50.765702Z",
     "iopub.status.busy": "2023-02-06T06:52:50.765371Z",
     "iopub.status.idle": "2023-02-06T06:52:50.769953Z",
     "shell.execute_reply": "2023-02-06T06:52:50.769338Z"
    }
   },
   "outputs": [
    {
     "name": "stdout",
     "output_type": "stream",
     "text": [
      "SUMMING 7 + 5\n",
      "SUMMING 12 + 5\n"
     ]
    },
    {
     "data": {
      "text/plain": [
       "<sisl.nodes.node.my_sum at 0x7fbec5a0aca0>"
      ]
     },
     "execution_count": 13,
     "metadata": {},
     "output_type": "execute_result"
    }
   ],
   "source": [
    "# Update the inputs of the first node, which will trigger recalculation\n",
    "first_val.update_inputs(a=7)"
   ]
  },
  {
   "cell_type": "markdown",
   "id": "baeaeff7",
   "metadata": {},
   "source": [
    "This might be useful to create \"event listeners\" that enable live updating naturally. We might introduce \"async\" nodes at some point (?).\n",
    "\n",
    "### Workflows\n",
    "\n",
    "At this point, the need for somehow packing the workchain that we created arises naturally. What you would usually do is to wrap your code into a function. And that is also what we do here. We call this wrapper function a workflow, and workflows can be created just as nodes are:"
   ]
  },
  {
   "cell_type": "code",
   "execution_count": 14,
   "id": "308f24da",
   "metadata": {
    "execution": {
     "iopub.execute_input": "2023-02-06T06:52:50.772290Z",
     "iopub.status.busy": "2023-02-06T06:52:50.771962Z",
     "iopub.status.idle": "2023-02-06T06:52:50.778447Z",
     "shell.execute_reply": "2023-02-06T06:52:50.777809Z"
    }
   },
   "outputs": [
    {
     "name": "stderr",
     "output_type": "stream",
     "text": [
      "warn:0: SislWarning: Decorators are ignored for now on workflow creation. Ignoring 1 decorators on triple_sum\n"
     ]
    }
   ],
   "source": [
    "from sisl.nodes import Workflow\n",
    "\n",
    "def my_sum(a, b):\n",
    "    print(f\"SUMMING {a} + {b}\")\n",
    "    return a + b\n",
    "\n",
    "# Define our workchain as a workflow.\n",
    "@Workflow.from_func\n",
    "def triple_sum(a: int, b: int, c: int):\n",
    "    first_val = my_sum(a, b)\n",
    "    return my_sum(first_val, c)\n",
    "\n",
    "# Again, if you want to keep the pristine function,\n",
    "# don't use the decorator\n",
    "#\n",
    "# def triple_sum(a: int, b: int, c: int):\n",
    "#    first_val = my_sum(a, b)\n",
    "#    return my_sum(first_val, c)\n",
    "#\n",
    "# my_workflow = Workflow.from_func(triple_sum)"
   ]
  },
  {
   "cell_type": "markdown",
   "id": "b465e625",
   "metadata": {},
   "source": [
    "When a workflow is defined, the nodes within it are discovered and stored in `dryrun_nodes`:"
   ]
  },
  {
   "cell_type": "code",
   "execution_count": 15,
   "id": "1da1d4ec",
   "metadata": {
    "execution": {
     "iopub.execute_input": "2023-02-06T06:52:50.781042Z",
     "iopub.status.busy": "2023-02-06T06:52:50.780494Z",
     "iopub.status.idle": "2023-02-06T06:52:50.784694Z",
     "shell.execute_reply": "2023-02-06T06:52:50.784066Z"
    },
    "scrolled": true
   },
   "outputs": [
    {
     "data": {
      "text/plain": [
       "<sisl.nodes.workflow.WorkflowNodes at 0x7fbefc5edac0>"
      ]
     },
     "execution_count": 15,
     "metadata": {},
     "output_type": "execute_result"
    }
   ],
   "source": [
    "wf_nodes = triple_sum.dryrun_nodes\n",
    "wf_nodes"
   ]
  },
  {
   "cell_type": "markdown",
   "id": "24c8e468",
   "metadata": {},
   "source": [
    "You can print them to get an idea of the nodes that you have there:"
   ]
  },
  {
   "cell_type": "code",
   "execution_count": 16,
   "id": "aeea29c6",
   "metadata": {
    "execution": {
     "iopub.execute_input": "2023-02-06T06:52:50.787011Z",
     "iopub.status.busy": "2023-02-06T06:52:50.786671Z",
     "iopub.status.idle": "2023-02-06T06:52:50.790084Z",
     "shell.execute_reply": "2023-02-06T06:52:50.789479Z"
    }
   },
   "outputs": [
    {
     "name": "stdout",
     "output_type": "stream",
     "text": [
      "Inputs: {'a': <sisl.nodes.workflow.WorkflowInput object at 0x7fbefc5edb20>, 'b': <sisl.nodes.workflow.WorkflowInput object at 0x7fbefc5eda00>, 'c': <sisl.nodes.workflow.WorkflowInput object at 0x7fbefc5ed9d0>}\n",
      "\n",
      "Workers: {'my_sum': <sisl.nodes.node.my_sum object at 0x7fbefc5f71f0>, 'my_sum_1': <sisl.nodes.node.my_sum object at 0x7fbec5a0a340>}\n",
      "\n",
      "Output: <sisl.nodes.workflow.WorkflowOutput object at 0x7fbefc5f7fd0>\n",
      "\n",
      "Named nodes: {'first_val': 'my_sum'}\n"
     ]
    }
   ],
   "source": [
    "print(wf_nodes)"
   ]
  },
  {
   "cell_type": "markdown",
   "id": "ebb6f767",
   "metadata": {},
   "source": [
    "One important thing that you can see here is that the workflow gives names to the nodes that it uses so that it can easily find them when needed. The name is usually just the node's name, but if there are multiple nodes of the same type it can get a bit more messy, because it adds a suffix `_1`, `_2`, `_3`...\n",
    "\n",
    "For that reason, it is always a good idea to give more human understandable names to nodes. On workflow creation, **variable assignments are automatically discovered**, and the workflow uses the name of the variable as an alias to find the node. In this way, you can very easily give more meaningful names to nodes so that you can find them afterwards!"
   ]
  },
  {
   "cell_type": "code",
   "execution_count": 17,
   "id": "2245562b",
   "metadata": {
    "execution": {
     "iopub.execute_input": "2023-02-06T06:52:50.792406Z",
     "iopub.status.busy": "2023-02-06T06:52:50.792085Z",
     "iopub.status.idle": "2023-02-06T06:52:50.796093Z",
     "shell.execute_reply": "2023-02-06T06:52:50.795495Z"
    }
   },
   "outputs": [
    {
     "data": {
      "text/plain": [
       "<sisl.nodes.node.my_sum at 0x7fbefc5f71f0>"
      ]
     },
     "execution_count": 17,
     "metadata": {},
     "output_type": "execute_result"
    }
   ],
   "source": [
    "wf_nodes.first_val"
   ]
  },
  {
   "cell_type": "markdown",
   "id": "c6cb14a5",
   "metadata": {},
   "source": [
    "Accessing nodes of the workflows is nice, but often it is **difficult to get an idea of the whole workflow** if it gets a bit complex.\n",
    "\n",
    "It is always easier to **understand the workflow by visualizing it**. For that, you can use the `visualize` method of its `network` attribute, but you need `networkx` and `pyvis` installed in your computer, which you can install through `pip`."
   ]
  },
  {
   "cell_type": "code",
   "execution_count": 18,
   "id": "fa7579c6",
   "metadata": {
    "execution": {
     "iopub.execute_input": "2023-02-06T06:52:50.798695Z",
     "iopub.status.busy": "2023-02-06T06:52:50.798369Z",
     "iopub.status.idle": "2023-02-06T06:52:50.953213Z",
     "shell.execute_reply": "2023-02-06T06:52:50.952476Z"
    }
   },
   "outputs": [
    {
     "data": {
      "text/html": [
       "<div style=\"height:600px\"><html>\n",
       "    <head>\n",
       "        <meta charset=\"utf-8\">\n",
       "        \n",
       "            <script>function neighbourhoodHighlight(params) {\n",
       "  // console.log(\"in nieghbourhoodhighlight\");\n",
       "  allNodes = nodes.get({ returnType: \"Object\" });\n",
       "  // originalNodes = JSON.parse(JSON.stringify(allNodes));\n",
       "  // if something is selected:\n",
       "  if (params.nodes.length > 0) {\n",
       "    highlightActive = true;\n",
       "    var i, j;\n",
       "    var selectedNode = params.nodes[0];\n",
       "    var degrees = 2;\n",
       "\n",
       "    // mark all nodes as hard to read.\n",
       "    for (let nodeId in allNodes) {\n",
       "      // nodeColors[nodeId] = allNodes[nodeId].color;\n",
       "      allNodes[nodeId].color = \"rgba(200,200,200,0.5)\";\n",
       "      if (allNodes[nodeId].hiddenLabel === undefined) {\n",
       "        allNodes[nodeId].hiddenLabel = allNodes[nodeId].label;\n",
       "        allNodes[nodeId].label = undefined;\n",
       "      }\n",
       "    }\n",
       "    var connectedNodes = network.getConnectedNodes(selectedNode);\n",
       "    var allConnectedNodes = [];\n",
       "\n",
       "    // get the second degree nodes\n",
       "    for (i = 1; i < degrees; i++) {\n",
       "      for (j = 0; j < connectedNodes.length; j++) {\n",
       "        allConnectedNodes = allConnectedNodes.concat(\n",
       "          network.getConnectedNodes(connectedNodes[j])\n",
       "        );\n",
       "      }\n",
       "    }\n",
       "\n",
       "    // all second degree nodes get a different color and their label back\n",
       "    for (i = 0; i < allConnectedNodes.length; i++) {\n",
       "      // allNodes[allConnectedNodes[i]].color = \"pink\";\n",
       "      allNodes[allConnectedNodes[i]].color = \"rgba(150,150,150,0.75)\";\n",
       "      if (allNodes[allConnectedNodes[i]].hiddenLabel !== undefined) {\n",
       "        allNodes[allConnectedNodes[i]].label =\n",
       "          allNodes[allConnectedNodes[i]].hiddenLabel;\n",
       "        allNodes[allConnectedNodes[i]].hiddenLabel = undefined;\n",
       "      }\n",
       "    }\n",
       "\n",
       "    // all first degree nodes get their own color and their label back\n",
       "    for (i = 0; i < connectedNodes.length; i++) {\n",
       "      // allNodes[connectedNodes[i]].color = undefined;\n",
       "      allNodes[connectedNodes[i]].color = nodeColors[connectedNodes[i]];\n",
       "      if (allNodes[connectedNodes[i]].hiddenLabel !== undefined) {\n",
       "        allNodes[connectedNodes[i]].label =\n",
       "          allNodes[connectedNodes[i]].hiddenLabel;\n",
       "        allNodes[connectedNodes[i]].hiddenLabel = undefined;\n",
       "      }\n",
       "    }\n",
       "\n",
       "    // the main node gets its own color and its label back.\n",
       "    // allNodes[selectedNode].color = undefined;\n",
       "    allNodes[selectedNode].color = nodeColors[selectedNode];\n",
       "    if (allNodes[selectedNode].hiddenLabel !== undefined) {\n",
       "      allNodes[selectedNode].label = allNodes[selectedNode].hiddenLabel;\n",
       "      allNodes[selectedNode].hiddenLabel = undefined;\n",
       "    }\n",
       "  } else if (highlightActive === true) {\n",
       "    // console.log(\"highlightActive was true\");\n",
       "    // reset all nodes\n",
       "    for (let nodeId in allNodes) {\n",
       "      // allNodes[nodeId].color = \"purple\";\n",
       "      allNodes[nodeId].color = nodeColors[nodeId];\n",
       "      // delete allNodes[nodeId].color;\n",
       "      if (allNodes[nodeId].hiddenLabel !== undefined) {\n",
       "        allNodes[nodeId].label = allNodes[nodeId].hiddenLabel;\n",
       "        allNodes[nodeId].hiddenLabel = undefined;\n",
       "      }\n",
       "    }\n",
       "    highlightActive = false;\n",
       "  }\n",
       "\n",
       "  // transform the object into an array\n",
       "  var updateArray = [];\n",
       "  if (params.nodes.length > 0) {\n",
       "    for (let nodeId in allNodes) {\n",
       "      if (allNodes.hasOwnProperty(nodeId)) {\n",
       "        // console.log(allNodes[nodeId]);\n",
       "        updateArray.push(allNodes[nodeId]);\n",
       "      }\n",
       "    }\n",
       "    nodes.update(updateArray);\n",
       "  } else {\n",
       "    // console.log(\"Nothing was selected\");\n",
       "    for (let nodeId in allNodes) {\n",
       "      if (allNodes.hasOwnProperty(nodeId)) {\n",
       "        // console.log(allNodes[nodeId]);\n",
       "        // allNodes[nodeId].color = {};\n",
       "        updateArray.push(allNodes[nodeId]);\n",
       "      }\n",
       "    }\n",
       "    nodes.update(updateArray);\n",
       "  }\n",
       "}\n",
       "\n",
       "function filterHighlight(params) {\n",
       "  allNodes = nodes.get({ returnType: \"Object\" });\n",
       "  // if something is selected:\n",
       "  if (params.nodes.length > 0) {\n",
       "    filterActive = true;\n",
       "    let selectedNodes = params.nodes;\n",
       "\n",
       "    // hiding all nodes and saving the label\n",
       "    for (let nodeId in allNodes) {\n",
       "      allNodes[nodeId].hidden = true;\n",
       "      if (allNodes[nodeId].savedLabel === undefined) {\n",
       "        allNodes[nodeId].savedLabel = allNodes[nodeId].label;\n",
       "        allNodes[nodeId].label = undefined;\n",
       "      }\n",
       "    }\n",
       "\n",
       "    for (let i=0; i < selectedNodes.length; i++) {\n",
       "      allNodes[selectedNodes[i]].hidden = false;\n",
       "      if (allNodes[selectedNodes[i]].savedLabel !== undefined) {\n",
       "        allNodes[selectedNodes[i]].label = allNodes[selectedNodes[i]].savedLabel;\n",
       "        allNodes[selectedNodes[i]].savedLabel = undefined;\n",
       "      }\n",
       "    }\n",
       "\n",
       "  } else if (filterActive === true) {\n",
       "    // reset all nodes\n",
       "    for (let nodeId in allNodes) {\n",
       "      allNodes[nodeId].hidden = false;\n",
       "      if (allNodes[nodeId].savedLabel !== undefined) {\n",
       "        allNodes[nodeId].label = allNodes[nodeId].savedLabel;\n",
       "        allNodes[nodeId].savedLabel = undefined;\n",
       "      }\n",
       "    }\n",
       "    filterActive = false;\n",
       "  }\n",
       "\n",
       "  // transform the object into an array\n",
       "  var updateArray = [];\n",
       "  if (params.nodes.length > 0) {\n",
       "    for (let nodeId in allNodes) {\n",
       "      if (allNodes.hasOwnProperty(nodeId)) {\n",
       "        updateArray.push(allNodes[nodeId]);\n",
       "      }\n",
       "    }\n",
       "    nodes.update(updateArray);\n",
       "  } else {\n",
       "    for (let nodeId in allNodes) {\n",
       "      if (allNodes.hasOwnProperty(nodeId)) {\n",
       "        updateArray.push(allNodes[nodeId]);\n",
       "      }\n",
       "    }\n",
       "    nodes.update(updateArray);\n",
       "  }\n",
       "}\n",
       "\n",
       "function selectNode(nodes) {\n",
       "  network.selectNodes(nodes);\n",
       "  neighbourhoodHighlight({ nodes: nodes });\n",
       "  return nodes;\n",
       "}\n",
       "\n",
       "function selectNodes(nodes) {\n",
       "  network.selectNodes(nodes);\n",
       "  filterHighlight({nodes: nodes});\n",
       "  return nodes;\n",
       "}\n",
       "\n",
       "function highlightFilter(filter) {\n",
       "  let selectedNodes = []\n",
       "  let selectedProp = filter['property']\n",
       "  if (filter['item'] === 'node') {\n",
       "    let allNodes = nodes.get({ returnType: \"Object\" });\n",
       "    for (let nodeId in allNodes) {\n",
       "      if (allNodes[nodeId][selectedProp] && filter['value'].includes((allNodes[nodeId][selectedProp]).toString())) {\n",
       "        selectedNodes.push(nodeId)\n",
       "      }\n",
       "    }\n",
       "  }\n",
       "  else if (filter['item'] === 'edge'){\n",
       "    let allEdges = edges.get({returnType: 'object'});\n",
       "    // check if the selected property exists for selected edge and select the nodes connected to the edge\n",
       "    for (let edge in allEdges) {\n",
       "      if (allEdges[edge][selectedProp] && filter['value'].includes((allEdges[edge][selectedProp]).toString())) {\n",
       "        selectedNodes.push(allEdges[edge]['from'])\n",
       "        selectedNodes.push(allEdges[edge]['to'])\n",
       "      }\n",
       "    }\n",
       "  }\n",
       "  selectNodes(selectedNodes)\n",
       "}</script>\n",
       "            <link rel=\"stylesheet\" href=\"https://cdnjs.cloudflare.com/ajax/libs/vis-network/9.1.2/dist/dist/vis-network.min.css\" integrity=\"sha512-WgxfT5LWjfszlPHXRmBWHkV2eceiWTOBvrKCNbdgDYTHrT2AeLCGbF4sZlZw3UMN3WtL0tGUoIAKsu8mllg/XA==\" crossorigin=\"anonymous\" referrerpolicy=\"no-referrer\" />\n",
       "            <script src=\"https://cdnjs.cloudflare.com/ajax/libs/vis-network/9.1.2/dist/vis-network.min.js\" integrity=\"sha512-LnvoEWDFrqGHlHmDD2101OrLcbsfkrzoSpvtSQtxK3RMnRV0eOkhhBN2dXHKRrUU8p2DGRTk35n4O8nWSVe1mQ==\" crossorigin=\"anonymous\" referrerpolicy=\"no-referrer\"></script>\n",
       "            \n",
       "            \n",
       "            \n",
       "            \n",
       "            \n",
       "            \n",
       "\n",
       "        \n",
       "<center>\n",
       "<h1></h1>\n",
       "</center>\n",
       "\n",
       "<!-- <link rel=\"stylesheet\" href=\"../node_modules/vis/dist/vis.min.css\" type=\"text/css\" />\n",
       "<script type=\"text/javascript\" src=\"../node_modules/vis/dist/vis.js\"> </script>-->\n",
       "        <link\n",
       "          href=\"https://cdn.jsdelivr.net/npm/bootstrap@5.0.0-beta3/dist/css/bootstrap.min.css\"\n",
       "          rel=\"stylesheet\"\n",
       "          integrity=\"sha384-eOJMYsd53ii+scO/bJGFsiCZc+5NDVN2yr8+0RDqr0Ql0h+rP48ckxlpbzKgwra6\"\n",
       "          crossorigin=\"anonymous\"\n",
       "        />\n",
       "        <script\n",
       "          src=\"https://cdn.jsdelivr.net/npm/bootstrap@5.0.0-beta3/dist/js/bootstrap.bundle.min.js\"\n",
       "          integrity=\"sha384-JEW9xMcG8R+pH31jmWH6WWP0WintQrMb4s7ZOdauHnUtxwoG2vI5DkLtS3qm9Ekf\"\n",
       "          crossorigin=\"anonymous\"\n",
       "        ></script>\n",
       "\n",
       "\n",
       "        <center>\n",
       "          <h1></h1>\n",
       "        </center>\n",
       "        <style type=\"text/css\">\n",
       "\n",
       "             #mynetwork {\n",
       "                 width: 100%;\n",
       "                 height: 600px;\n",
       "                 background-color: #ffffff;\n",
       "                 border: 1px solid lightgray;\n",
       "                 position: relative;\n",
       "                 float: left;\n",
       "             }\n",
       "\n",
       "             \n",
       "\n",
       "             \n",
       "\n",
       "             \n",
       "        </style>\n",
       "    </head>\n",
       "\n",
       "\n",
       "    <body>\n",
       "        <div class=\"card\" style=\"width: 100%\">\n",
       "            \n",
       "            \n",
       "            <div id=\"mynetwork\" class=\"card-body\"></div>\n",
       "        </div>\n",
       "\n",
       "        \n",
       "        \n",
       "\n",
       "        <script type=\"text/javascript\">\n",
       "\n",
       "              // initialize global variables.\n",
       "              var edges;\n",
       "              var nodes;\n",
       "              var allNodes;\n",
       "              var allEdges;\n",
       "              var nodeColors;\n",
       "              var originalNodes;\n",
       "              var network;\n",
       "              var container;\n",
       "              var options, data;\n",
       "              var filter = {\n",
       "                  item : '',\n",
       "                  property : '',\n",
       "                  value : []\n",
       "              };\n",
       "\n",
       "              \n",
       "\n",
       "              \n",
       "\n",
       "              // This method is responsible for drawing the graph, returns the drawn network\n",
       "              function drawGraph() {\n",
       "                  var container = document.getElementById('mynetwork');\n",
       "\n",
       "                  \n",
       "\n",
       "                  // parsing and collecting nodes and edges from the python\n",
       "                  nodes = new vis.DataSet([{\"color\": \"#fde725\", \"font\": {}, \"id\": \"my_sum_1\", \"label\": \"my_sum_1\", \"level\": 3.0, \"mass\": 2, \"shape\": \"circle\", \"size\": 10, \"title\": \"Node class: my_sum\\nNo documentation\\n............................................\\nautomatic_recalc = False\\na = Linked( my_sum.output )\\nb = Linked( triple_sum.c )\\n\"}, {\"color\": \"pink\", \"font\": {\"color\": \"black\"}, \"id\": \"output\", \"label\": \"Output\", \"level\": 4.0, \"mass\": 2, \"shape\": \"box\", \"size\": 10, \"title\": \"Node class: WorkflowOutput\\nNo documentation\\n............................................\\nautomatic_recalc = False\\nvalue = Linked( my_sum_1.output )\\n\"}, {\"color\": \"#ccc\", \"font\": {\"color\": \"black\"}, \"id\": \"a\", \"label\": \"Input(a)\", \"level\": 1.0, \"mass\": 2, \"shape\": \"box\", \"size\": 10, \"title\": \"Node class: WorkflowInput\\nNo documentation\\n............................................\\nvalue = \\u003cobject object at 0x7fbec5f9a860\\u003e\\nautomatic_recalc = False\\ninput_key = a\\n\"}, {\"color\": \"#440154\", \"font\": {\"color\": \"white\"}, \"id\": \"my_sum\", \"label\": \"first_val\", \"level\": 2.0, \"mass\": 2, \"shape\": \"circle\", \"size\": 10, \"title\": \"Node class: my_sum\\nNo documentation\\n............................................\\nautomatic_recalc = False\\na = Linked( triple_sum.a )\\nb = Linked( triple_sum.b )\\n\"}, {\"color\": \"#ccc\", \"font\": {\"color\": \"black\"}, \"id\": \"b\", \"label\": \"Input(b)\", \"level\": 1.0, \"mass\": 2, \"shape\": \"box\", \"size\": 10, \"title\": \"Node class: WorkflowInput\\nNo documentation\\n............................................\\nvalue = \\u003cobject object at 0x7fbec5f9a860\\u003e\\nautomatic_recalc = False\\ninput_key = b\\n\"}, {\"color\": \"#ccc\", \"font\": {\"color\": \"black\"}, \"id\": \"c\", \"label\": \"Input(c)\", \"level\": 2.0, \"mass\": 2, \"shape\": \"box\", \"size\": 10, \"title\": \"Node class: WorkflowInput\\nNo documentation\\n............................................\\nvalue = \\u003cobject object at 0x7fbec5f9a860\\u003e\\nautomatic_recalc = False\\ninput_key = c\\n\"}]);\n",
       "                  edges = new vis.DataSet([{\"arrows\": \"to\", \"from\": \"my_sum_1\", \"label\": \"value\", \"title\": \"my_sum() -\\u003e WorkflowOutput.value\", \"to\": \"output\", \"width\": 1}, {\"arrows\": \"to\", \"from\": \"a\", \"label\": \"a\", \"title\": \"WorkflowInput() -\\u003e my_sum.a\", \"to\": \"my_sum\", \"width\": 1}, {\"arrows\": \"to\", \"from\": \"my_sum\", \"label\": \"a\", \"title\": \"my_sum() -\\u003e my_sum.a\", \"to\": \"my_sum_1\", \"width\": 1}, {\"arrows\": \"to\", \"from\": \"b\", \"label\": \"b\", \"title\": \"WorkflowInput() -\\u003e my_sum.b\", \"to\": \"my_sum\", \"width\": 1}, {\"arrows\": \"to\", \"from\": \"c\", \"label\": \"b\", \"title\": \"WorkflowInput() -\\u003e my_sum.b\", \"to\": \"my_sum_1\", \"width\": 1}]);\n",
       "\n",
       "                  nodeColors = {};\n",
       "                  allNodes = nodes.get({ returnType: \"Object\" });\n",
       "                  for (nodeId in allNodes) {\n",
       "                    nodeColors[nodeId] = allNodes[nodeId].color;\n",
       "                  }\n",
       "                  allEdges = edges.get({ returnType: \"Object\" });\n",
       "                  // adding nodes and edges to the graph\n",
       "                  data = {nodes: nodes, edges: edges};\n",
       "\n",
       "                  var options = {\n",
       "    \"configure\": {\n",
       "        \"enabled\": false\n",
       "    },\n",
       "    \"edges\": {\n",
       "        \"color\": {\n",
       "            \"inherit\": true\n",
       "        },\n",
       "        \"smooth\": {\n",
       "            \"enabled\": true,\n",
       "            \"type\": \"dynamic\"\n",
       "        }\n",
       "    },\n",
       "    \"interaction\": {\n",
       "        \"dragNodes\": true,\n",
       "        \"hideEdgesOnDrag\": false,\n",
       "        \"hideNodesOnDrag\": false\n",
       "    },\n",
       "    \"layout\": {\n",
       "        \"hierarchical\": {\n",
       "            \"blockShifting\": true,\n",
       "            \"edgeMinimization\": true,\n",
       "            \"enabled\": true,\n",
       "            \"levelSeparation\": 150,\n",
       "            \"parentCentralization\": true,\n",
       "            \"sortMethod\": \"hubsize\",\n",
       "            \"treeSpacing\": 200\n",
       "        },\n",
       "        \"improvedLayout\": true,\n",
       "        \"randomSeed\": 0\n",
       "    },\n",
       "    \"physics\": {\n",
       "        \"enabled\": true,\n",
       "        \"stabilization\": {\n",
       "            \"enabled\": true,\n",
       "            \"fit\": true,\n",
       "            \"iterations\": 1000,\n",
       "            \"onlyDynamicEdges\": false,\n",
       "            \"updateInterval\": 50\n",
       "        }\n",
       "    }\n",
       "};\n",
       "\n",
       "                  \n",
       "\n",
       "\n",
       "                  \n",
       "\n",
       "                  network = new vis.Network(container, data, options);\n",
       "\n",
       "                  \n",
       "\n",
       "                  \n",
       "\n",
       "                  \n",
       "\n",
       "\n",
       "                  \n",
       "\n",
       "                  return network;\n",
       "\n",
       "              }\n",
       "              drawGraph();\n",
       "        </script>\n",
       "    </body>\n",
       "</html></div>"
      ],
      "text/plain": [
       "<IPython.core.display.HTML object>"
      ]
     },
     "metadata": {
      "text/html": {
       "isolated": true
      }
     },
     "output_type": "display_data"
    }
   ],
   "source": [
    "triple_sum.network.visualize(notebook=True,)"
   ]
  },
  {
   "cell_type": "markdown",
   "id": "3ffd6243",
   "metadata": {},
   "source": [
    "There are many tweaks that you can try on the visualization, but we are not going to enter into the details. You can play with it to find the most appropiate representation!\n",
    "\n",
    "Workflows are just a way of organizing nodes, so they work exactly the same. By default, they are lazy, so calling your workflow class will just get you an instance:"
   ]
  },
  {
   "cell_type": "markdown",
   "id": "8c934cef",
   "metadata": {},
   "source": [
    "Workflows are, unlike nodes, lazy by default. So when you call a workflow, you get a workflow instance:"
   ]
  },
  {
   "cell_type": "code",
   "execution_count": 19,
   "id": "23a4cb80",
   "metadata": {
    "execution": {
     "iopub.execute_input": "2023-02-06T06:52:50.956416Z",
     "iopub.status.busy": "2023-02-06T06:52:50.956032Z",
     "iopub.status.idle": "2023-02-06T06:52:50.960927Z",
     "shell.execute_reply": "2023-02-06T06:52:50.960286Z"
    }
   },
   "outputs": [
    {
     "data": {
      "text/plain": [
       "<sisl.nodes.node.triple_sum at 0x7fbec5a20040>"
      ]
     },
     "execution_count": 19,
     "metadata": {},
     "output_type": "execute_result"
    }
   ],
   "source": [
    "result = triple_sum(2, 3, 4)\n",
    "result"
   ]
  },
  {
   "cell_type": "markdown",
   "id": "560c1f8c",
   "metadata": {},
   "source": [
    "And then whenever you ask for the value, the workflow runs."
   ]
  },
  {
   "cell_type": "code",
   "execution_count": 20,
   "id": "0eb25eef",
   "metadata": {
    "execution": {
     "iopub.execute_input": "2023-02-06T06:52:50.963800Z",
     "iopub.status.busy": "2023-02-06T06:52:50.963580Z",
     "iopub.status.idle": "2023-02-06T06:52:50.968288Z",
     "shell.execute_reply": "2023-02-06T06:52:50.967647Z"
    }
   },
   "outputs": [
    {
     "name": "stdout",
     "output_type": "stream",
     "text": [
      "SUMMING 2 + 3\n",
      "SUMMING 5 + 4\n"
     ]
    },
    {
     "data": {
      "text/plain": [
       "9"
      ]
     },
     "execution_count": 20,
     "metadata": {},
     "output_type": "execute_result"
    }
   ],
   "source": [
    "result.get()"
   ]
  },
  {
   "cell_type": "markdown",
   "id": "6b702fa6",
   "metadata": {},
   "source": [
    "Workflows link their inputs to inputs of the nodes they contain. In this way, if you update some input of the workflow, only the nodes that used that input will get updated, and only the necessary recomputation will be performed, exactly as we saw before."
   ]
  },
  {
   "cell_type": "code",
   "execution_count": 21,
   "id": "d05a9539",
   "metadata": {
    "execution": {
     "iopub.execute_input": "2023-02-06T06:52:50.971604Z",
     "iopub.status.busy": "2023-02-06T06:52:50.971378Z",
     "iopub.status.idle": "2023-02-06T06:52:50.975645Z",
     "shell.execute_reply": "2023-02-06T06:52:50.975026Z"
    }
   },
   "outputs": [
    {
     "data": {
      "text/plain": [
       "<sisl.nodes.node.triple_sum at 0x7fbec5a20040>"
      ]
     },
     "execution_count": 21,
     "metadata": {},
     "output_type": "execute_result"
    }
   ],
   "source": [
    "result.update_inputs(c=8)"
   ]
  },
  {
   "cell_type": "code",
   "execution_count": 22,
   "id": "85a5b586",
   "metadata": {
    "execution": {
     "iopub.execute_input": "2023-02-06T06:52:50.978435Z",
     "iopub.status.busy": "2023-02-06T06:52:50.978003Z",
     "iopub.status.idle": "2023-02-06T06:52:50.982731Z",
     "shell.execute_reply": "2023-02-06T06:52:50.982101Z"
    }
   },
   "outputs": [
    {
     "name": "stdout",
     "output_type": "stream",
     "text": [
      "SUMMING 5 + 8\n"
     ]
    },
    {
     "data": {
      "text/plain": [
       "13"
      ]
     },
     "execution_count": 22,
     "metadata": {},
     "output_type": "execute_result"
    }
   ],
   "source": [
    "result.get()"
   ]
  },
  {
   "cell_type": "markdown",
   "id": "0a777514",
   "metadata": {},
   "source": [
    "Once the workflow has been instantiated, it will contain **instantiated nodes**, which are different from the nodes that are produced during the discovery run."
   ]
  },
  {
   "cell_type": "code",
   "execution_count": 23,
   "id": "d4ecbeae",
   "metadata": {
    "execution": {
     "iopub.execute_input": "2023-02-06T06:52:50.985991Z",
     "iopub.status.busy": "2023-02-06T06:52:50.985640Z",
     "iopub.status.idle": "2023-02-06T06:52:50.989794Z",
     "shell.execute_reply": "2023-02-06T06:52:50.989195Z"
    }
   },
   "outputs": [
    {
     "data": {
      "text/plain": [
       "<sisl.nodes.workflow.WorkflowNodes at 0x7fbec54a7d90>"
      ]
     },
     "execution_count": 23,
     "metadata": {},
     "output_type": "execute_result"
    }
   ],
   "source": [
    "result.nodes"
   ]
  },
  {
   "cell_type": "markdown",
   "id": "db310bfa",
   "metadata": {},
   "source": [
    "One can imagine **reusing their result for something else**.\n",
    "\n",
    "As an example, we can create an automatically recalculating node that will just inform us whenever the intermediate value changes"
   ]
  },
  {
   "cell_type": "code",
   "execution_count": 24,
   "id": "8330551a",
   "metadata": {
    "execution": {
     "iopub.execute_input": "2023-02-06T06:52:50.992126Z",
     "iopub.status.busy": "2023-02-06T06:52:50.991798Z",
     "iopub.status.idle": "2023-02-06T06:52:50.997788Z",
     "shell.execute_reply": "2023-02-06T06:52:50.997161Z"
    }
   },
   "outputs": [
    {
     "name": "stdout",
     "output_type": "stream",
     "text": [
      "SUMMING 10 + 3\n",
      "VALUE CHANGED, it now is 13\n"
     ]
    },
    {
     "data": {
      "text/plain": [
       "<sisl.nodes.node.triple_sum at 0x7fbec5a20040>"
      ]
     },
     "execution_count": 24,
     "metadata": {},
     "output_type": "execute_result"
    }
   ],
   "source": [
    "@Node.from_func\n",
    "def alert_change(val: int, automatic_recalc=True):\n",
    "    print(f\"VALUE CHANGED, it now is {val}\")\n",
    "    \n",
    "# We feed the node that produces the intermediate value into our alert node \n",
    "my_alert = alert_change(result.nodes.first_val)\n",
    "    \n",
    "    \n",
    "# Now when we update the inputs of the workflow, the node will propagate the information through\n",
    "# our new node.\n",
    "result.update_inputs(a=10)"
   ]
  },
  {
   "cell_type": "markdown",
   "id": "7b266dbf",
   "metadata": {},
   "source": [
    "It sometimes might be useful to provide methods for a workflow. For that case, workflows can also be defined with class syntax, passing the workflow as a static method in the `_workflow` method."
   ]
  },
  {
   "cell_type": "code",
   "execution_count": 25,
   "id": "7250e251",
   "metadata": {
    "execution": {
     "iopub.execute_input": "2023-02-06T06:52:51.000175Z",
     "iopub.status.busy": "2023-02-06T06:52:50.999841Z",
     "iopub.status.idle": "2023-02-06T06:52:51.005987Z",
     "shell.execute_reply": "2023-02-06T06:52:51.005350Z"
    }
   },
   "outputs": [
    {
     "name": "stderr",
     "output_type": "stream",
     "text": [
      "warn:0: SislWarning: Decorators are ignored for now on workflow creation. Ignoring 1 decorators on _workflow\n"
     ]
    }
   ],
   "source": [
    "class TripleSum(Workflow):\n",
    "    \n",
    "    # Define the function that runs the workflow, exactly as we did before.\n",
    "    @staticmethod\n",
    "    def _workflow(a: int, b: int, c: int):\n",
    "        first_val = my_sum(a, b)\n",
    "        return my_sum(first_val, c)\n",
    "    \n",
    "    # Now, we have the possibility of adding new methods to it.\n",
    "    def scale(self, factor: int):\n",
    "        self.update_inputs(\n",
    "            a=self.get_input('a')*factor,\n",
    "            b=self.get_input('b')*factor,\n",
    "            c=self.get_input('c')*factor\n",
    "        )"
   ]
  },
  {
   "cell_type": "markdown",
   "id": "4587423e",
   "metadata": {},
   "source": [
    "We can now use the workflow exactly as we did before."
   ]
  },
  {
   "cell_type": "code",
   "execution_count": 26,
   "id": "fc020892",
   "metadata": {
    "execution": {
     "iopub.execute_input": "2023-02-06T06:52:51.008501Z",
     "iopub.status.busy": "2023-02-06T06:52:51.008176Z",
     "iopub.status.idle": "2023-02-06T06:52:51.013396Z",
     "shell.execute_reply": "2023-02-06T06:52:51.012786Z"
    }
   },
   "outputs": [
    {
     "name": "stdout",
     "output_type": "stream",
     "text": [
      "SUMMING 2 + 3\n",
      "SUMMING 5 + 4\n"
     ]
    },
    {
     "data": {
      "text/plain": [
       "9"
      ]
     },
     "execution_count": 26,
     "metadata": {},
     "output_type": "execute_result"
    }
   ],
   "source": [
    "result = TripleSum(2, 3, 4)\n",
    "result.get()"
   ]
  },
  {
   "cell_type": "markdown",
   "id": "c0b6390d",
   "metadata": {},
   "source": [
    "But with the added possibility of using this useful provided method:"
   ]
  },
  {
   "cell_type": "code",
   "execution_count": 27,
   "id": "61ec8624",
   "metadata": {
    "execution": {
     "iopub.execute_input": "2023-02-06T06:52:51.016653Z",
     "iopub.status.busy": "2023-02-06T06:52:51.016315Z",
     "iopub.status.idle": "2023-02-06T06:52:51.021170Z",
     "shell.execute_reply": "2023-02-06T06:52:51.020541Z"
    }
   },
   "outputs": [
    {
     "name": "stdout",
     "output_type": "stream",
     "text": [
      "SUMMING 8 + 12\n",
      "SUMMING 20 + 16\n"
     ]
    },
    {
     "data": {
      "text/plain": [
       "36"
      ]
     },
     "execution_count": 27,
     "metadata": {},
     "output_type": "execute_result"
    }
   ],
   "source": [
    "result.scale(4)\n",
    "result.get()"
   ]
  },
  {
   "cell_type": "markdown",
   "id": "5c953306",
   "metadata": {},
   "source": [
    "It is important to know that **whatever calculation that you do in your workflow's code** will be **reconverted to a node**. This means that its inputs and outputs are stored. As a not so obvious example, if you sum three values, the intermediate sum will be stored as a node:"
   ]
  },
  {
   "cell_type": "code",
   "execution_count": 28,
   "id": "95c5e1d2",
   "metadata": {
    "execution": {
     "iopub.execute_input": "2023-02-06T06:52:51.023815Z",
     "iopub.status.busy": "2023-02-06T06:52:51.023478Z",
     "iopub.status.idle": "2023-02-06T06:52:51.048461Z",
     "shell.execute_reply": "2023-02-06T06:52:51.047751Z"
    },
    "scrolled": false
   },
   "outputs": [
    {
     "name": "stderr",
     "output_type": "stream",
     "text": [
      "warn:0: SislWarning: Decorators are ignored for now on workflow creation. Ignoring 1 decorators on sum_triple\n"
     ]
    },
    {
     "data": {
      "text/html": [
       "<div style=\"height:600px\"><html>\n",
       "    <head>\n",
       "        <meta charset=\"utf-8\">\n",
       "        \n",
       "            <script>function neighbourhoodHighlight(params) {\n",
       "  // console.log(\"in nieghbourhoodhighlight\");\n",
       "  allNodes = nodes.get({ returnType: \"Object\" });\n",
       "  // originalNodes = JSON.parse(JSON.stringify(allNodes));\n",
       "  // if something is selected:\n",
       "  if (params.nodes.length > 0) {\n",
       "    highlightActive = true;\n",
       "    var i, j;\n",
       "    var selectedNode = params.nodes[0];\n",
       "    var degrees = 2;\n",
       "\n",
       "    // mark all nodes as hard to read.\n",
       "    for (let nodeId in allNodes) {\n",
       "      // nodeColors[nodeId] = allNodes[nodeId].color;\n",
       "      allNodes[nodeId].color = \"rgba(200,200,200,0.5)\";\n",
       "      if (allNodes[nodeId].hiddenLabel === undefined) {\n",
       "        allNodes[nodeId].hiddenLabel = allNodes[nodeId].label;\n",
       "        allNodes[nodeId].label = undefined;\n",
       "      }\n",
       "    }\n",
       "    var connectedNodes = network.getConnectedNodes(selectedNode);\n",
       "    var allConnectedNodes = [];\n",
       "\n",
       "    // get the second degree nodes\n",
       "    for (i = 1; i < degrees; i++) {\n",
       "      for (j = 0; j < connectedNodes.length; j++) {\n",
       "        allConnectedNodes = allConnectedNodes.concat(\n",
       "          network.getConnectedNodes(connectedNodes[j])\n",
       "        );\n",
       "      }\n",
       "    }\n",
       "\n",
       "    // all second degree nodes get a different color and their label back\n",
       "    for (i = 0; i < allConnectedNodes.length; i++) {\n",
       "      // allNodes[allConnectedNodes[i]].color = \"pink\";\n",
       "      allNodes[allConnectedNodes[i]].color = \"rgba(150,150,150,0.75)\";\n",
       "      if (allNodes[allConnectedNodes[i]].hiddenLabel !== undefined) {\n",
       "        allNodes[allConnectedNodes[i]].label =\n",
       "          allNodes[allConnectedNodes[i]].hiddenLabel;\n",
       "        allNodes[allConnectedNodes[i]].hiddenLabel = undefined;\n",
       "      }\n",
       "    }\n",
       "\n",
       "    // all first degree nodes get their own color and their label back\n",
       "    for (i = 0; i < connectedNodes.length; i++) {\n",
       "      // allNodes[connectedNodes[i]].color = undefined;\n",
       "      allNodes[connectedNodes[i]].color = nodeColors[connectedNodes[i]];\n",
       "      if (allNodes[connectedNodes[i]].hiddenLabel !== undefined) {\n",
       "        allNodes[connectedNodes[i]].label =\n",
       "          allNodes[connectedNodes[i]].hiddenLabel;\n",
       "        allNodes[connectedNodes[i]].hiddenLabel = undefined;\n",
       "      }\n",
       "    }\n",
       "\n",
       "    // the main node gets its own color and its label back.\n",
       "    // allNodes[selectedNode].color = undefined;\n",
       "    allNodes[selectedNode].color = nodeColors[selectedNode];\n",
       "    if (allNodes[selectedNode].hiddenLabel !== undefined) {\n",
       "      allNodes[selectedNode].label = allNodes[selectedNode].hiddenLabel;\n",
       "      allNodes[selectedNode].hiddenLabel = undefined;\n",
       "    }\n",
       "  } else if (highlightActive === true) {\n",
       "    // console.log(\"highlightActive was true\");\n",
       "    // reset all nodes\n",
       "    for (let nodeId in allNodes) {\n",
       "      // allNodes[nodeId].color = \"purple\";\n",
       "      allNodes[nodeId].color = nodeColors[nodeId];\n",
       "      // delete allNodes[nodeId].color;\n",
       "      if (allNodes[nodeId].hiddenLabel !== undefined) {\n",
       "        allNodes[nodeId].label = allNodes[nodeId].hiddenLabel;\n",
       "        allNodes[nodeId].hiddenLabel = undefined;\n",
       "      }\n",
       "    }\n",
       "    highlightActive = false;\n",
       "  }\n",
       "\n",
       "  // transform the object into an array\n",
       "  var updateArray = [];\n",
       "  if (params.nodes.length > 0) {\n",
       "    for (let nodeId in allNodes) {\n",
       "      if (allNodes.hasOwnProperty(nodeId)) {\n",
       "        // console.log(allNodes[nodeId]);\n",
       "        updateArray.push(allNodes[nodeId]);\n",
       "      }\n",
       "    }\n",
       "    nodes.update(updateArray);\n",
       "  } else {\n",
       "    // console.log(\"Nothing was selected\");\n",
       "    for (let nodeId in allNodes) {\n",
       "      if (allNodes.hasOwnProperty(nodeId)) {\n",
       "        // console.log(allNodes[nodeId]);\n",
       "        // allNodes[nodeId].color = {};\n",
       "        updateArray.push(allNodes[nodeId]);\n",
       "      }\n",
       "    }\n",
       "    nodes.update(updateArray);\n",
       "  }\n",
       "}\n",
       "\n",
       "function filterHighlight(params) {\n",
       "  allNodes = nodes.get({ returnType: \"Object\" });\n",
       "  // if something is selected:\n",
       "  if (params.nodes.length > 0) {\n",
       "    filterActive = true;\n",
       "    let selectedNodes = params.nodes;\n",
       "\n",
       "    // hiding all nodes and saving the label\n",
       "    for (let nodeId in allNodes) {\n",
       "      allNodes[nodeId].hidden = true;\n",
       "      if (allNodes[nodeId].savedLabel === undefined) {\n",
       "        allNodes[nodeId].savedLabel = allNodes[nodeId].label;\n",
       "        allNodes[nodeId].label = undefined;\n",
       "      }\n",
       "    }\n",
       "\n",
       "    for (let i=0; i < selectedNodes.length; i++) {\n",
       "      allNodes[selectedNodes[i]].hidden = false;\n",
       "      if (allNodes[selectedNodes[i]].savedLabel !== undefined) {\n",
       "        allNodes[selectedNodes[i]].label = allNodes[selectedNodes[i]].savedLabel;\n",
       "        allNodes[selectedNodes[i]].savedLabel = undefined;\n",
       "      }\n",
       "    }\n",
       "\n",
       "  } else if (filterActive === true) {\n",
       "    // reset all nodes\n",
       "    for (let nodeId in allNodes) {\n",
       "      allNodes[nodeId].hidden = false;\n",
       "      if (allNodes[nodeId].savedLabel !== undefined) {\n",
       "        allNodes[nodeId].label = allNodes[nodeId].savedLabel;\n",
       "        allNodes[nodeId].savedLabel = undefined;\n",
       "      }\n",
       "    }\n",
       "    filterActive = false;\n",
       "  }\n",
       "\n",
       "  // transform the object into an array\n",
       "  var updateArray = [];\n",
       "  if (params.nodes.length > 0) {\n",
       "    for (let nodeId in allNodes) {\n",
       "      if (allNodes.hasOwnProperty(nodeId)) {\n",
       "        updateArray.push(allNodes[nodeId]);\n",
       "      }\n",
       "    }\n",
       "    nodes.update(updateArray);\n",
       "  } else {\n",
       "    for (let nodeId in allNodes) {\n",
       "      if (allNodes.hasOwnProperty(nodeId)) {\n",
       "        updateArray.push(allNodes[nodeId]);\n",
       "      }\n",
       "    }\n",
       "    nodes.update(updateArray);\n",
       "  }\n",
       "}\n",
       "\n",
       "function selectNode(nodes) {\n",
       "  network.selectNodes(nodes);\n",
       "  neighbourhoodHighlight({ nodes: nodes });\n",
       "  return nodes;\n",
       "}\n",
       "\n",
       "function selectNodes(nodes) {\n",
       "  network.selectNodes(nodes);\n",
       "  filterHighlight({nodes: nodes});\n",
       "  return nodes;\n",
       "}\n",
       "\n",
       "function highlightFilter(filter) {\n",
       "  let selectedNodes = []\n",
       "  let selectedProp = filter['property']\n",
       "  if (filter['item'] === 'node') {\n",
       "    let allNodes = nodes.get({ returnType: \"Object\" });\n",
       "    for (let nodeId in allNodes) {\n",
       "      if (allNodes[nodeId][selectedProp] && filter['value'].includes((allNodes[nodeId][selectedProp]).toString())) {\n",
       "        selectedNodes.push(nodeId)\n",
       "      }\n",
       "    }\n",
       "  }\n",
       "  else if (filter['item'] === 'edge'){\n",
       "    let allEdges = edges.get({returnType: 'object'});\n",
       "    // check if the selected property exists for selected edge and select the nodes connected to the edge\n",
       "    for (let edge in allEdges) {\n",
       "      if (allEdges[edge][selectedProp] && filter['value'].includes((allEdges[edge][selectedProp]).toString())) {\n",
       "        selectedNodes.push(allEdges[edge]['from'])\n",
       "        selectedNodes.push(allEdges[edge]['to'])\n",
       "      }\n",
       "    }\n",
       "  }\n",
       "  selectNodes(selectedNodes)\n",
       "}</script>\n",
       "            <link rel=\"stylesheet\" href=\"https://cdnjs.cloudflare.com/ajax/libs/vis-network/9.1.2/dist/dist/vis-network.min.css\" integrity=\"sha512-WgxfT5LWjfszlPHXRmBWHkV2eceiWTOBvrKCNbdgDYTHrT2AeLCGbF4sZlZw3UMN3WtL0tGUoIAKsu8mllg/XA==\" crossorigin=\"anonymous\" referrerpolicy=\"no-referrer\" />\n",
       "            <script src=\"https://cdnjs.cloudflare.com/ajax/libs/vis-network/9.1.2/dist/vis-network.min.js\" integrity=\"sha512-LnvoEWDFrqGHlHmDD2101OrLcbsfkrzoSpvtSQtxK3RMnRV0eOkhhBN2dXHKRrUU8p2DGRTk35n4O8nWSVe1mQ==\" crossorigin=\"anonymous\" referrerpolicy=\"no-referrer\"></script>\n",
       "            \n",
       "            \n",
       "            \n",
       "            \n",
       "            \n",
       "            \n",
       "\n",
       "        \n",
       "<center>\n",
       "<h1></h1>\n",
       "</center>\n",
       "\n",
       "<!-- <link rel=\"stylesheet\" href=\"../node_modules/vis/dist/vis.min.css\" type=\"text/css\" />\n",
       "<script type=\"text/javascript\" src=\"../node_modules/vis/dist/vis.js\"> </script>-->\n",
       "        <link\n",
       "          href=\"https://cdn.jsdelivr.net/npm/bootstrap@5.0.0-beta3/dist/css/bootstrap.min.css\"\n",
       "          rel=\"stylesheet\"\n",
       "          integrity=\"sha384-eOJMYsd53ii+scO/bJGFsiCZc+5NDVN2yr8+0RDqr0Ql0h+rP48ckxlpbzKgwra6\"\n",
       "          crossorigin=\"anonymous\"\n",
       "        />\n",
       "        <script\n",
       "          src=\"https://cdn.jsdelivr.net/npm/bootstrap@5.0.0-beta3/dist/js/bootstrap.bundle.min.js\"\n",
       "          integrity=\"sha384-JEW9xMcG8R+pH31jmWH6WWP0WintQrMb4s7ZOdauHnUtxwoG2vI5DkLtS3qm9Ekf\"\n",
       "          crossorigin=\"anonymous\"\n",
       "        ></script>\n",
       "\n",
       "\n",
       "        <center>\n",
       "          <h1></h1>\n",
       "        </center>\n",
       "        <style type=\"text/css\">\n",
       "\n",
       "             #mynetwork {\n",
       "                 width: 100%;\n",
       "                 height: 600px;\n",
       "                 background-color: #ffffff;\n",
       "                 border: 1px solid lightgray;\n",
       "                 position: relative;\n",
       "                 float: left;\n",
       "             }\n",
       "\n",
       "             \n",
       "\n",
       "             \n",
       "\n",
       "             \n",
       "        </style>\n",
       "    </head>\n",
       "\n",
       "\n",
       "    <body>\n",
       "        <div class=\"card\" style=\"width: 100%\">\n",
       "            \n",
       "            \n",
       "            <div id=\"mynetwork\" class=\"card-body\"></div>\n",
       "        </div>\n",
       "\n",
       "        \n",
       "        \n",
       "\n",
       "        <script type=\"text/javascript\">\n",
       "\n",
       "              // initialize global variables.\n",
       "              var edges;\n",
       "              var nodes;\n",
       "              var allNodes;\n",
       "              var allEdges;\n",
       "              var nodeColors;\n",
       "              var originalNodes;\n",
       "              var network;\n",
       "              var container;\n",
       "              var options, data;\n",
       "              var filter = {\n",
       "                  item : '',\n",
       "                  property : '',\n",
       "                  value : []\n",
       "              };\n",
       "\n",
       "              \n",
       "\n",
       "              \n",
       "\n",
       "              // This method is responsible for drawing the graph, returns the drawn network\n",
       "              function drawGraph() {\n",
       "                  var container = document.getElementById('mynetwork');\n",
       "\n",
       "                  \n",
       "\n",
       "                  // parsing and collecting nodes and edges from the python\n",
       "                  nodes = new vis.DataSet([{\"color\": \"#fde725\", \"font\": {}, \"id\": \"UfuncNode_1\", \"label\": \"val\", \"level\": 3.0, \"mass\": 2, \"shape\": \"circle\", \"size\": 10, \"title\": \"Node class: UfuncNode\\nNo documentation\\n............................................\\nautomatic_recalc = False\\nkwargs = {\\u0027input_0\\u0027: \\u0027Linked( UfuncNode.output )\\u0027, \\u0027input_1\\u0027: \\u0027Linked( sum_triple.c )\\u0027}\\nufunc = \\u003cufunc \\u0027add\\u0027\\u003e\\nmethod = __call__\\ninput_kwargs = {}\\n\"}, {\"color\": \"pink\", \"font\": {\"color\": \"black\"}, \"id\": \"output\", \"label\": \"Output\", \"level\": 4.0, \"mass\": 2, \"shape\": \"box\", \"size\": 10, \"title\": \"Node class: WorkflowOutput\\nNo documentation\\n............................................\\nautomatic_recalc = False\\nvalue = Linked( UfuncNode_1.output )\\n\"}, {\"color\": \"#ccc\", \"font\": {\"color\": \"black\"}, \"id\": \"a\", \"label\": \"Input(a)\", \"level\": 1.0, \"mass\": 2, \"shape\": \"box\", \"size\": 10, \"title\": \"Node class: WorkflowInput\\nNo documentation\\n............................................\\nvalue = \\u003cobject object at 0x7fbec5f9a860\\u003e\\nautomatic_recalc = False\\ninput_key = a\\n\"}, {\"color\": \"#440154\", \"font\": {\"color\": \"white\"}, \"id\": \"UfuncNode\", \"label\": \"UfuncNode\", \"level\": 2.0, \"mass\": 2, \"shape\": \"circle\", \"size\": 10, \"title\": \"Node class: UfuncNode\\nNo documentation\\n............................................\\nautomatic_recalc = False\\nkwargs = {\\u0027input_0\\u0027: \\u0027Linked( sum_triple.a )\\u0027, \\u0027input_1\\u0027: \\u0027Linked( sum_triple.b )\\u0027}\\nufunc = \\u003cufunc \\u0027add\\u0027\\u003e\\nmethod = __call__\\ninput_kwargs = {}\\n\"}, {\"color\": \"#ccc\", \"font\": {\"color\": \"black\"}, \"id\": \"b\", \"label\": \"Input(b)\", \"level\": 1.0, \"mass\": 2, \"shape\": \"box\", \"size\": 10, \"title\": \"Node class: WorkflowInput\\nNo documentation\\n............................................\\nvalue = \\u003cobject object at 0x7fbec5f9a860\\u003e\\nautomatic_recalc = False\\ninput_key = b\\n\"}, {\"color\": \"#ccc\", \"font\": {\"color\": \"black\"}, \"id\": \"c\", \"label\": \"Input(c)\", \"level\": 2.0, \"mass\": 2, \"shape\": \"box\", \"size\": 10, \"title\": \"Node class: WorkflowInput\\nNo documentation\\n............................................\\nvalue = \\u003cobject object at 0x7fbec5f9a860\\u003e\\nautomatic_recalc = False\\ninput_key = c\\n\"}]);\n",
       "                  edges = new vis.DataSet([{\"arrows\": \"to\", \"from\": \"UfuncNode_1\", \"label\": \"value\", \"title\": \"UfuncNode() -\\u003e WorkflowOutput.value\", \"to\": \"output\", \"width\": 1}, {\"arrows\": \"to\", \"from\": \"a\", \"label\": \"kwargs[input_0]\", \"title\": \"WorkflowInput() -\\u003e UfuncNode.kwargs[input_0]\", \"to\": \"UfuncNode\", \"width\": 1}, {\"arrows\": \"to\", \"from\": \"UfuncNode\", \"label\": \"kwargs[input_0]\", \"title\": \"UfuncNode() -\\u003e UfuncNode.kwargs[input_0]\", \"to\": \"UfuncNode_1\", \"width\": 1}, {\"arrows\": \"to\", \"from\": \"b\", \"label\": \"kwargs[input_1]\", \"title\": \"WorkflowInput() -\\u003e UfuncNode.kwargs[input_1]\", \"to\": \"UfuncNode\", \"width\": 1}, {\"arrows\": \"to\", \"from\": \"c\", \"label\": \"kwargs[input_1]\", \"title\": \"WorkflowInput() -\\u003e UfuncNode.kwargs[input_1]\", \"to\": \"UfuncNode_1\", \"width\": 1}]);\n",
       "\n",
       "                  nodeColors = {};\n",
       "                  allNodes = nodes.get({ returnType: \"Object\" });\n",
       "                  for (nodeId in allNodes) {\n",
       "                    nodeColors[nodeId] = allNodes[nodeId].color;\n",
       "                  }\n",
       "                  allEdges = edges.get({ returnType: \"Object\" });\n",
       "                  // adding nodes and edges to the graph\n",
       "                  data = {nodes: nodes, edges: edges};\n",
       "\n",
       "                  var options = {\n",
       "    \"configure\": {\n",
       "        \"enabled\": false\n",
       "    },\n",
       "    \"edges\": {\n",
       "        \"color\": {\n",
       "            \"inherit\": true\n",
       "        },\n",
       "        \"smooth\": {\n",
       "            \"enabled\": true,\n",
       "            \"type\": \"dynamic\"\n",
       "        }\n",
       "    },\n",
       "    \"interaction\": {\n",
       "        \"dragNodes\": true,\n",
       "        \"hideEdgesOnDrag\": false,\n",
       "        \"hideNodesOnDrag\": false\n",
       "    },\n",
       "    \"layout\": {\n",
       "        \"hierarchical\": {\n",
       "            \"blockShifting\": true,\n",
       "            \"edgeMinimization\": true,\n",
       "            \"enabled\": true,\n",
       "            \"levelSeparation\": 150,\n",
       "            \"parentCentralization\": true,\n",
       "            \"sortMethod\": \"hubsize\",\n",
       "            \"treeSpacing\": 200\n",
       "        },\n",
       "        \"improvedLayout\": true,\n",
       "        \"randomSeed\": 0\n",
       "    },\n",
       "    \"physics\": {\n",
       "        \"enabled\": true,\n",
       "        \"stabilization\": {\n",
       "            \"enabled\": true,\n",
       "            \"fit\": true,\n",
       "            \"iterations\": 1000,\n",
       "            \"onlyDynamicEdges\": false,\n",
       "            \"updateInterval\": 50\n",
       "        }\n",
       "    }\n",
       "};\n",
       "\n",
       "                  \n",
       "\n",
       "\n",
       "                  \n",
       "\n",
       "                  network = new vis.Network(container, data, options);\n",
       "\n",
       "                  \n",
       "\n",
       "                  \n",
       "\n",
       "                  \n",
       "\n",
       "\n",
       "                  \n",
       "\n",
       "                  return network;\n",
       "\n",
       "              }\n",
       "              drawGraph();\n",
       "        </script>\n",
       "    </body>\n",
       "</html></div>"
      ],
      "text/plain": [
       "<IPython.core.display.HTML object>"
      ]
     },
     "metadata": {
      "text/html": {
       "isolated": true
      }
     },
     "output_type": "display_data"
    }
   ],
   "source": [
    "@Workflow.from_func\n",
    "def sum_triple(a, b, c):\n",
    "    val = a + b + c\n",
    "    return val\n",
    "\n",
    "sum_triple.network.visualize(notebook=True, )"
   ]
  },
  {
   "cell_type": "code",
   "execution_count": 29,
   "id": "b554e051",
   "metadata": {
    "execution": {
     "iopub.execute_input": "2023-02-06T06:52:51.051775Z",
     "iopub.status.busy": "2023-02-06T06:52:51.051390Z",
     "iopub.status.idle": "2023-02-06T06:52:51.071549Z",
     "shell.execute_reply": "2023-02-06T06:52:51.070847Z"
    }
   },
   "outputs": [
    {
     "data": {
      "text/plain": [
       "<class 'pyvis.network.Network'> |N|=3 |E|=2"
      ]
     },
     "execution_count": 29,
     "metadata": {},
     "output_type": "execute_result"
    }
   ],
   "source": [
    "sum_triple.network.to_pyvis(notebook=True)"
   ]
  },
  {
   "cell_type": "markdown",
   "id": "21ccbd4c",
   "metadata": {},
   "source": [
    "So if you don't want that, you should pack everything that you don't want to be saved in a separate function, and then use it in the workflow:"
   ]
  },
  {
   "cell_type": "code",
   "execution_count": 30,
   "id": "cff943fd",
   "metadata": {
    "execution": {
     "iopub.execute_input": "2023-02-06T06:52:51.074763Z",
     "iopub.status.busy": "2023-02-06T06:52:51.074205Z",
     "iopub.status.idle": "2023-02-06T06:52:51.097932Z",
     "shell.execute_reply": "2023-02-06T06:52:51.097280Z"
    }
   },
   "outputs": [
    {
     "name": "stderr",
     "output_type": "stream",
     "text": [
      "warn:0: SislWarning: Decorators are ignored for now on workflow creation. Ignoring 1 decorators on sum_triple\n"
     ]
    },
    {
     "data": {
      "text/html": [
       "<div style=\"height:600px\"><html>\n",
       "    <head>\n",
       "        <meta charset=\"utf-8\">\n",
       "        \n",
       "            <script>function neighbourhoodHighlight(params) {\n",
       "  // console.log(\"in nieghbourhoodhighlight\");\n",
       "  allNodes = nodes.get({ returnType: \"Object\" });\n",
       "  // originalNodes = JSON.parse(JSON.stringify(allNodes));\n",
       "  // if something is selected:\n",
       "  if (params.nodes.length > 0) {\n",
       "    highlightActive = true;\n",
       "    var i, j;\n",
       "    var selectedNode = params.nodes[0];\n",
       "    var degrees = 2;\n",
       "\n",
       "    // mark all nodes as hard to read.\n",
       "    for (let nodeId in allNodes) {\n",
       "      // nodeColors[nodeId] = allNodes[nodeId].color;\n",
       "      allNodes[nodeId].color = \"rgba(200,200,200,0.5)\";\n",
       "      if (allNodes[nodeId].hiddenLabel === undefined) {\n",
       "        allNodes[nodeId].hiddenLabel = allNodes[nodeId].label;\n",
       "        allNodes[nodeId].label = undefined;\n",
       "      }\n",
       "    }\n",
       "    var connectedNodes = network.getConnectedNodes(selectedNode);\n",
       "    var allConnectedNodes = [];\n",
       "\n",
       "    // get the second degree nodes\n",
       "    for (i = 1; i < degrees; i++) {\n",
       "      for (j = 0; j < connectedNodes.length; j++) {\n",
       "        allConnectedNodes = allConnectedNodes.concat(\n",
       "          network.getConnectedNodes(connectedNodes[j])\n",
       "        );\n",
       "      }\n",
       "    }\n",
       "\n",
       "    // all second degree nodes get a different color and their label back\n",
       "    for (i = 0; i < allConnectedNodes.length; i++) {\n",
       "      // allNodes[allConnectedNodes[i]].color = \"pink\";\n",
       "      allNodes[allConnectedNodes[i]].color = \"rgba(150,150,150,0.75)\";\n",
       "      if (allNodes[allConnectedNodes[i]].hiddenLabel !== undefined) {\n",
       "        allNodes[allConnectedNodes[i]].label =\n",
       "          allNodes[allConnectedNodes[i]].hiddenLabel;\n",
       "        allNodes[allConnectedNodes[i]].hiddenLabel = undefined;\n",
       "      }\n",
       "    }\n",
       "\n",
       "    // all first degree nodes get their own color and their label back\n",
       "    for (i = 0; i < connectedNodes.length; i++) {\n",
       "      // allNodes[connectedNodes[i]].color = undefined;\n",
       "      allNodes[connectedNodes[i]].color = nodeColors[connectedNodes[i]];\n",
       "      if (allNodes[connectedNodes[i]].hiddenLabel !== undefined) {\n",
       "        allNodes[connectedNodes[i]].label =\n",
       "          allNodes[connectedNodes[i]].hiddenLabel;\n",
       "        allNodes[connectedNodes[i]].hiddenLabel = undefined;\n",
       "      }\n",
       "    }\n",
       "\n",
       "    // the main node gets its own color and its label back.\n",
       "    // allNodes[selectedNode].color = undefined;\n",
       "    allNodes[selectedNode].color = nodeColors[selectedNode];\n",
       "    if (allNodes[selectedNode].hiddenLabel !== undefined) {\n",
       "      allNodes[selectedNode].label = allNodes[selectedNode].hiddenLabel;\n",
       "      allNodes[selectedNode].hiddenLabel = undefined;\n",
       "    }\n",
       "  } else if (highlightActive === true) {\n",
       "    // console.log(\"highlightActive was true\");\n",
       "    // reset all nodes\n",
       "    for (let nodeId in allNodes) {\n",
       "      // allNodes[nodeId].color = \"purple\";\n",
       "      allNodes[nodeId].color = nodeColors[nodeId];\n",
       "      // delete allNodes[nodeId].color;\n",
       "      if (allNodes[nodeId].hiddenLabel !== undefined) {\n",
       "        allNodes[nodeId].label = allNodes[nodeId].hiddenLabel;\n",
       "        allNodes[nodeId].hiddenLabel = undefined;\n",
       "      }\n",
       "    }\n",
       "    highlightActive = false;\n",
       "  }\n",
       "\n",
       "  // transform the object into an array\n",
       "  var updateArray = [];\n",
       "  if (params.nodes.length > 0) {\n",
       "    for (let nodeId in allNodes) {\n",
       "      if (allNodes.hasOwnProperty(nodeId)) {\n",
       "        // console.log(allNodes[nodeId]);\n",
       "        updateArray.push(allNodes[nodeId]);\n",
       "      }\n",
       "    }\n",
       "    nodes.update(updateArray);\n",
       "  } else {\n",
       "    // console.log(\"Nothing was selected\");\n",
       "    for (let nodeId in allNodes) {\n",
       "      if (allNodes.hasOwnProperty(nodeId)) {\n",
       "        // console.log(allNodes[nodeId]);\n",
       "        // allNodes[nodeId].color = {};\n",
       "        updateArray.push(allNodes[nodeId]);\n",
       "      }\n",
       "    }\n",
       "    nodes.update(updateArray);\n",
       "  }\n",
       "}\n",
       "\n",
       "function filterHighlight(params) {\n",
       "  allNodes = nodes.get({ returnType: \"Object\" });\n",
       "  // if something is selected:\n",
       "  if (params.nodes.length > 0) {\n",
       "    filterActive = true;\n",
       "    let selectedNodes = params.nodes;\n",
       "\n",
       "    // hiding all nodes and saving the label\n",
       "    for (let nodeId in allNodes) {\n",
       "      allNodes[nodeId].hidden = true;\n",
       "      if (allNodes[nodeId].savedLabel === undefined) {\n",
       "        allNodes[nodeId].savedLabel = allNodes[nodeId].label;\n",
       "        allNodes[nodeId].label = undefined;\n",
       "      }\n",
       "    }\n",
       "\n",
       "    for (let i=0; i < selectedNodes.length; i++) {\n",
       "      allNodes[selectedNodes[i]].hidden = false;\n",
       "      if (allNodes[selectedNodes[i]].savedLabel !== undefined) {\n",
       "        allNodes[selectedNodes[i]].label = allNodes[selectedNodes[i]].savedLabel;\n",
       "        allNodes[selectedNodes[i]].savedLabel = undefined;\n",
       "      }\n",
       "    }\n",
       "\n",
       "  } else if (filterActive === true) {\n",
       "    // reset all nodes\n",
       "    for (let nodeId in allNodes) {\n",
       "      allNodes[nodeId].hidden = false;\n",
       "      if (allNodes[nodeId].savedLabel !== undefined) {\n",
       "        allNodes[nodeId].label = allNodes[nodeId].savedLabel;\n",
       "        allNodes[nodeId].savedLabel = undefined;\n",
       "      }\n",
       "    }\n",
       "    filterActive = false;\n",
       "  }\n",
       "\n",
       "  // transform the object into an array\n",
       "  var updateArray = [];\n",
       "  if (params.nodes.length > 0) {\n",
       "    for (let nodeId in allNodes) {\n",
       "      if (allNodes.hasOwnProperty(nodeId)) {\n",
       "        updateArray.push(allNodes[nodeId]);\n",
       "      }\n",
       "    }\n",
       "    nodes.update(updateArray);\n",
       "  } else {\n",
       "    for (let nodeId in allNodes) {\n",
       "      if (allNodes.hasOwnProperty(nodeId)) {\n",
       "        updateArray.push(allNodes[nodeId]);\n",
       "      }\n",
       "    }\n",
       "    nodes.update(updateArray);\n",
       "  }\n",
       "}\n",
       "\n",
       "function selectNode(nodes) {\n",
       "  network.selectNodes(nodes);\n",
       "  neighbourhoodHighlight({ nodes: nodes });\n",
       "  return nodes;\n",
       "}\n",
       "\n",
       "function selectNodes(nodes) {\n",
       "  network.selectNodes(nodes);\n",
       "  filterHighlight({nodes: nodes});\n",
       "  return nodes;\n",
       "}\n",
       "\n",
       "function highlightFilter(filter) {\n",
       "  let selectedNodes = []\n",
       "  let selectedProp = filter['property']\n",
       "  if (filter['item'] === 'node') {\n",
       "    let allNodes = nodes.get({ returnType: \"Object\" });\n",
       "    for (let nodeId in allNodes) {\n",
       "      if (allNodes[nodeId][selectedProp] && filter['value'].includes((allNodes[nodeId][selectedProp]).toString())) {\n",
       "        selectedNodes.push(nodeId)\n",
       "      }\n",
       "    }\n",
       "  }\n",
       "  else if (filter['item'] === 'edge'){\n",
       "    let allEdges = edges.get({returnType: 'object'});\n",
       "    // check if the selected property exists for selected edge and select the nodes connected to the edge\n",
       "    for (let edge in allEdges) {\n",
       "      if (allEdges[edge][selectedProp] && filter['value'].includes((allEdges[edge][selectedProp]).toString())) {\n",
       "        selectedNodes.push(allEdges[edge]['from'])\n",
       "        selectedNodes.push(allEdges[edge]['to'])\n",
       "      }\n",
       "    }\n",
       "  }\n",
       "  selectNodes(selectedNodes)\n",
       "}</script>\n",
       "            <link rel=\"stylesheet\" href=\"https://cdnjs.cloudflare.com/ajax/libs/vis-network/9.1.2/dist/dist/vis-network.min.css\" integrity=\"sha512-WgxfT5LWjfszlPHXRmBWHkV2eceiWTOBvrKCNbdgDYTHrT2AeLCGbF4sZlZw3UMN3WtL0tGUoIAKsu8mllg/XA==\" crossorigin=\"anonymous\" referrerpolicy=\"no-referrer\" />\n",
       "            <script src=\"https://cdnjs.cloudflare.com/ajax/libs/vis-network/9.1.2/dist/vis-network.min.js\" integrity=\"sha512-LnvoEWDFrqGHlHmDD2101OrLcbsfkrzoSpvtSQtxK3RMnRV0eOkhhBN2dXHKRrUU8p2DGRTk35n4O8nWSVe1mQ==\" crossorigin=\"anonymous\" referrerpolicy=\"no-referrer\"></script>\n",
       "            \n",
       "            \n",
       "            \n",
       "            \n",
       "            \n",
       "            \n",
       "\n",
       "        \n",
       "<center>\n",
       "<h1></h1>\n",
       "</center>\n",
       "\n",
       "<!-- <link rel=\"stylesheet\" href=\"../node_modules/vis/dist/vis.min.css\" type=\"text/css\" />\n",
       "<script type=\"text/javascript\" src=\"../node_modules/vis/dist/vis.js\"> </script>-->\n",
       "        <link\n",
       "          href=\"https://cdn.jsdelivr.net/npm/bootstrap@5.0.0-beta3/dist/css/bootstrap.min.css\"\n",
       "          rel=\"stylesheet\"\n",
       "          integrity=\"sha384-eOJMYsd53ii+scO/bJGFsiCZc+5NDVN2yr8+0RDqr0Ql0h+rP48ckxlpbzKgwra6\"\n",
       "          crossorigin=\"anonymous\"\n",
       "        />\n",
       "        <script\n",
       "          src=\"https://cdn.jsdelivr.net/npm/bootstrap@5.0.0-beta3/dist/js/bootstrap.bundle.min.js\"\n",
       "          integrity=\"sha384-JEW9xMcG8R+pH31jmWH6WWP0WintQrMb4s7ZOdauHnUtxwoG2vI5DkLtS3qm9Ekf\"\n",
       "          crossorigin=\"anonymous\"\n",
       "        ></script>\n",
       "\n",
       "\n",
       "        <center>\n",
       "          <h1></h1>\n",
       "        </center>\n",
       "        <style type=\"text/css\">\n",
       "\n",
       "             #mynetwork {\n",
       "                 width: 100%;\n",
       "                 height: 600px;\n",
       "                 background-color: #ffffff;\n",
       "                 border: 1px solid lightgray;\n",
       "                 position: relative;\n",
       "                 float: left;\n",
       "             }\n",
       "\n",
       "             \n",
       "\n",
       "             \n",
       "\n",
       "             \n",
       "        </style>\n",
       "    </head>\n",
       "\n",
       "\n",
       "    <body>\n",
       "        <div class=\"card\" style=\"width: 100%\">\n",
       "            \n",
       "            \n",
       "            <div id=\"mynetwork\" class=\"card-body\"></div>\n",
       "        </div>\n",
       "\n",
       "        \n",
       "        \n",
       "\n",
       "        <script type=\"text/javascript\">\n",
       "\n",
       "              // initialize global variables.\n",
       "              var edges;\n",
       "              var nodes;\n",
       "              var allNodes;\n",
       "              var allEdges;\n",
       "              var nodeColors;\n",
       "              var originalNodes;\n",
       "              var network;\n",
       "              var container;\n",
       "              var options, data;\n",
       "              var filter = {\n",
       "                  item : '',\n",
       "                  property : '',\n",
       "                  value : []\n",
       "              };\n",
       "\n",
       "              \n",
       "\n",
       "              \n",
       "\n",
       "              // This method is responsible for drawing the graph, returns the drawn network\n",
       "              function drawGraph() {\n",
       "                  var container = document.getElementById('mynetwork');\n",
       "\n",
       "                  \n",
       "\n",
       "                  // parsing and collecting nodes and edges from the python\n",
       "                  nodes = new vis.DataSet([{\"color\": \"#440154\", \"font\": {\"color\": \"white\"}, \"id\": \"operation\", \"label\": \"val\", \"level\": 2.0, \"mass\": 2, \"shape\": \"circle\", \"size\": 10, \"title\": \"Node class: operation\\nNo documentation\\n............................................\\nautomatic_recalc = False\\na = Linked( sum_triple.a )\\nb = Linked( sum_triple.b )\\nc = Linked( sum_triple.c )\\n\"}, {\"color\": \"pink\", \"font\": {\"color\": \"black\"}, \"id\": \"output\", \"label\": \"Output\", \"level\": 3.0, \"mass\": 2, \"shape\": \"box\", \"size\": 10, \"title\": \"Node class: WorkflowOutput\\nNo documentation\\n............................................\\nautomatic_recalc = False\\nvalue = Linked( operation.output )\\n\"}, {\"color\": \"#ccc\", \"font\": {\"color\": \"black\"}, \"id\": \"a\", \"label\": \"Input(a)\", \"level\": 1.0, \"mass\": 2, \"shape\": \"box\", \"size\": 10, \"title\": \"Node class: WorkflowInput\\nNo documentation\\n............................................\\nvalue = \\u003cobject object at 0x7fbec5f9a860\\u003e\\nautomatic_recalc = False\\ninput_key = a\\n\"}, {\"color\": \"#ccc\", \"font\": {\"color\": \"black\"}, \"id\": \"b\", \"label\": \"Input(b)\", \"level\": 1.0, \"mass\": 2, \"shape\": \"box\", \"size\": 10, \"title\": \"Node class: WorkflowInput\\nNo documentation\\n............................................\\nvalue = \\u003cobject object at 0x7fbec5f9a860\\u003e\\nautomatic_recalc = False\\ninput_key = b\\n\"}, {\"color\": \"#ccc\", \"font\": {\"color\": \"black\"}, \"id\": \"c\", \"label\": \"Input(c)\", \"level\": 1.0, \"mass\": 2, \"shape\": \"box\", \"size\": 10, \"title\": \"Node class: WorkflowInput\\nNo documentation\\n............................................\\nvalue = \\u003cobject object at 0x7fbec5f9a860\\u003e\\nautomatic_recalc = False\\ninput_key = c\\n\"}]);\n",
       "                  edges = new vis.DataSet([{\"arrows\": \"to\", \"from\": \"operation\", \"label\": \"value\", \"title\": \"operation() -\\u003e WorkflowOutput.value\", \"to\": \"output\", \"width\": 1}, {\"arrows\": \"to\", \"from\": \"a\", \"label\": \"a\", \"title\": \"WorkflowInput() -\\u003e operation.a\", \"to\": \"operation\", \"width\": 1}, {\"arrows\": \"to\", \"from\": \"b\", \"label\": \"b\", \"title\": \"WorkflowInput() -\\u003e operation.b\", \"to\": \"operation\", \"width\": 1}, {\"arrows\": \"to\", \"from\": \"c\", \"label\": \"c\", \"title\": \"WorkflowInput() -\\u003e operation.c\", \"to\": \"operation\", \"width\": 1}]);\n",
       "\n",
       "                  nodeColors = {};\n",
       "                  allNodes = nodes.get({ returnType: \"Object\" });\n",
       "                  for (nodeId in allNodes) {\n",
       "                    nodeColors[nodeId] = allNodes[nodeId].color;\n",
       "                  }\n",
       "                  allEdges = edges.get({ returnType: \"Object\" });\n",
       "                  // adding nodes and edges to the graph\n",
       "                  data = {nodes: nodes, edges: edges};\n",
       "\n",
       "                  var options = {\n",
       "    \"configure\": {\n",
       "        \"enabled\": false\n",
       "    },\n",
       "    \"edges\": {\n",
       "        \"color\": {\n",
       "            \"inherit\": true\n",
       "        },\n",
       "        \"smooth\": {\n",
       "            \"enabled\": true,\n",
       "            \"type\": \"dynamic\"\n",
       "        }\n",
       "    },\n",
       "    \"interaction\": {\n",
       "        \"dragNodes\": true,\n",
       "        \"hideEdgesOnDrag\": false,\n",
       "        \"hideNodesOnDrag\": false\n",
       "    },\n",
       "    \"layout\": {\n",
       "        \"hierarchical\": {\n",
       "            \"blockShifting\": true,\n",
       "            \"edgeMinimization\": true,\n",
       "            \"enabled\": true,\n",
       "            \"levelSeparation\": 150,\n",
       "            \"parentCentralization\": true,\n",
       "            \"sortMethod\": \"hubsize\",\n",
       "            \"treeSpacing\": 200\n",
       "        },\n",
       "        \"improvedLayout\": true,\n",
       "        \"randomSeed\": 0\n",
       "    },\n",
       "    \"physics\": {\n",
       "        \"enabled\": true,\n",
       "        \"stabilization\": {\n",
       "            \"enabled\": true,\n",
       "            \"fit\": true,\n",
       "            \"iterations\": 1000,\n",
       "            \"onlyDynamicEdges\": false,\n",
       "            \"updateInterval\": 50\n",
       "        }\n",
       "    }\n",
       "};\n",
       "\n",
       "                  \n",
       "\n",
       "\n",
       "                  \n",
       "\n",
       "                  network = new vis.Network(container, data, options);\n",
       "\n",
       "                  \n",
       "\n",
       "                  \n",
       "\n",
       "                  \n",
       "\n",
       "\n",
       "                  \n",
       "\n",
       "                  return network;\n",
       "\n",
       "              }\n",
       "              drawGraph();\n",
       "        </script>\n",
       "    </body>\n",
       "</html></div>"
      ],
      "text/plain": [
       "<IPython.core.display.HTML object>"
      ]
     },
     "metadata": {
      "text/html": {
       "isolated": true
      }
     },
     "output_type": "display_data"
    }
   ],
   "source": [
    "def operation(a, b, c):\n",
    "    return a + b + c\n",
    "\n",
    "@Workflow.from_func\n",
    "def sum_triple(a, b, c):\n",
    "    val = operation(a, b, c)\n",
    "    return val\n",
    "\n",
    "sum_triple.network.visualize(notebook=True)"
   ]
  },
  {
   "cell_type": "code",
   "execution_count": null,
   "id": "9a5b336b",
   "metadata": {},
   "outputs": [],
   "source": []
  }
 ],
 "metadata": {
  "kernelspec": {
   "display_name": "Python 3 (ipykernel)",
   "language": "python",
   "name": "python3"
  },
  "language_info": {
   "codemirror_mode": {
    "name": "ipython",
    "version": 3
   },
   "file_extension": ".py",
   "mimetype": "text/x-python",
   "name": "python",
   "nbconvert_exporter": "python",
   "pygments_lexer": "ipython3",
   "version": "3.9.16"
  }
 },
 "nbformat": 4,
 "nbformat_minor": 5
}
