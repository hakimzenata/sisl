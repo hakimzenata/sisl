{
 "cells": [
  {
   "cell_type": "markdown",
   "id": "b8465167",
   "metadata": {},
   "source": [
    "# Adding new backends "
   ]
  },
  {
   "cell_type": "code",
   "execution_count": 1,
   "id": "392448ab",
   "metadata": {
    "execution": {
     "iopub.execute_input": "2021-12-23T21:01:00.244996Z",
     "iopub.status.busy": "2021-12-23T21:01:00.243679Z",
     "iopub.status.idle": "2021-12-23T21:01:01.784727Z",
     "shell.execute_reply": "2021-12-23T21:01:01.783641Z"
    }
   },
   "outputs": [],
   "source": [
    "import sisl\n",
    "import sisl.viz\n",
    "\n",
    "# This is a toy band structure to illustrate the concepts treated throughout the notebook\n",
    "geom = sisl.geom.graphene(orthogonal=True)\n",
    "H = sisl.Hamiltonian(geom)\n",
    "H.construct([(0.1, 1.44), (0, -2.7)], )\n",
    "\n",
    "band_struct = sisl.BandStructure(H, [[0,0,0], [0.5,0,0]], 10, [\"Gamma\", \"X\"])"
   ]
  },
  {
   "cell_type": "markdown",
   "id": "df72db95",
   "metadata": {},
   "source": [
    "In the `sisl.viz` framework, the rendering part of the visualization is **completely detached from the processing part**. Because of that, we have the flexibility to add new ways of generating the final product by registering what we call `backends`.\n",
    "\n",
    "We will guide you through how you might customize this part of the framework. There are however, very distinct scenarios where you might find yourself. Each of the following sections explains the details of each situation, which are ordered in increasing complexity.\n",
    "\n",
    "<div class=\"alert alert-info\">\n",
    "\n",
    "Note\n",
    "    \n",
    "Even if you want to go to the most complex situation, make sure that you first understand the simpler ones!\n",
    "    \n",
    "</div>"
   ]
  },
  {
   "cell_type": "markdown",
   "id": "2cae0efe",
   "metadata": {},
   "source": [
    "## Extending an existing backend\n",
    "\n",
    "This is by far the easiest situation. For example, `sisl` **already provides a backend to plot bands with** `plotly`, but **you are not totally happy with the way it's done**.\n",
    "\n",
    "In this case, you grab the provided backend:"
   ]
  },
  {
   "cell_type": "code",
   "execution_count": 2,
   "id": "7baccb3a",
   "metadata": {
    "execution": {
     "iopub.execute_input": "2021-12-23T21:01:01.789000Z",
     "iopub.status.busy": "2021-12-23T21:01:01.788481Z",
     "iopub.status.idle": "2021-12-23T21:01:01.791385Z",
     "shell.execute_reply": "2021-12-23T21:01:01.790987Z"
    }
   },
   "outputs": [],
   "source": [
    "from sisl.viz.backends.plotly import PlotlyBandsBackend"
   ]
  },
  {
   "cell_type": "markdown",
   "id": "acf63183",
   "metadata": {},
   "source": [
    "And then create your own class that inherits from it:"
   ]
  },
  {
   "cell_type": "code",
   "execution_count": 3,
   "id": "8d32d73e",
   "metadata": {
    "execution": {
     "iopub.execute_input": "2021-12-23T21:01:01.796304Z",
     "iopub.status.busy": "2021-12-23T21:01:01.794798Z",
     "iopub.status.idle": "2021-12-23T21:01:01.797156Z",
     "shell.execute_reply": "2021-12-23T21:01:01.797657Z"
    }
   },
   "outputs": [],
   "source": [
    "class MyOwnBandsBackend(PlotlyBandsBackend):\n",
    "    pass"
   ]
  },
  {
   "cell_type": "markdown",
   "id": "6dc45378",
   "metadata": {},
   "source": [
    "The only thing left to do now is to **let** `BandsPlot` **know that there's a new backend available**. This action is called *registering* a backend."
   ]
  },
  {
   "cell_type": "code",
   "execution_count": 4,
   "id": "062d33e4",
   "metadata": {
    "execution": {
     "iopub.execute_input": "2021-12-23T21:01:01.802259Z",
     "iopub.status.busy": "2021-12-23T21:01:01.801053Z",
     "iopub.status.idle": "2021-12-23T21:01:01.802829Z",
     "shell.execute_reply": "2021-12-23T21:01:01.803225Z"
    }
   },
   "outputs": [],
   "source": [
    "from sisl.viz import BandsPlot\n",
    "\n",
    "BandsPlot.backends.register(\"plotly_myown\", MyOwnBandsBackend)\n",
    "# Pass default=True if you want to make it the default backend"
   ]
  },
  {
   "cell_type": "markdown",
   "id": "ac6d25e5",
   "metadata": {},
   "source": [
    "All good, you can already use your new backend!"
   ]
  },
  {
   "cell_type": "code",
   "execution_count": 5,
   "id": "0c1192b3",
   "metadata": {
    "execution": {
     "iopub.execute_input": "2021-12-23T21:01:01.808484Z",
     "iopub.status.busy": "2021-12-23T21:01:01.807853Z",
     "iopub.status.idle": "2021-12-23T21:01:01.927631Z",
     "shell.execute_reply": "2021-12-23T21:01:01.925621Z"
    }
   },
   "outputs": [
    {
     "data": {
      "application/vnd.jupyter.widget-view+json": {
       "model_id": "9981a613b90a41b697b329971e972da2",
       "version_major": 2,
       "version_minor": 0
      },
      "text/plain": [
       "FigureWidget({\n",
       "    'data': [{'hoverinfo': 'name',\n",
       "              'hovertemplate': '%{y:.2f} eV',\n",
       "              …"
      ]
     },
     "metadata": {},
     "output_type": "display_data"
    }
   ],
   "source": [
    "band_struct.plot(backend=\"plotly_myown\")"
   ]
  },
  {
   "cell_type": "markdown",
   "id": "71e6c80f",
   "metadata": {},
   "source": [
    "Now that we know that it can be registered, we can try to add new functionality. But of course, **we need to know how the backend works** if we need to modify it. All backends to draw bands inherit from `BandsBackend`, and you can find some information there on how it works. Let's read its documentation:"
   ]
  },
  {
   "cell_type": "code",
   "execution_count": 6,
   "id": "56fd66cd",
   "metadata": {
    "execution": {
     "iopub.execute_input": "2021-12-23T21:01:01.932254Z",
     "iopub.status.busy": "2021-12-23T21:01:01.931717Z",
     "iopub.status.idle": "2021-12-23T21:01:01.933766Z",
     "shell.execute_reply": "2021-12-23T21:01:01.934200Z"
    }
   },
   "outputs": [
    {
     "name": "stdout",
     "output_type": "stream",
     "text": [
      "Draws the bands provided by a `BandsPlot`\n",
      "\n",
      "    The workflow implemented by it is as follows:\n",
      "        First, `self.draw_bands` draws all bands like:\n",
      "            for band in bands:\n",
      "                if (spin texture needs to be drawn):\n",
      "                    `self._draw_spin_textured_band()`, NO GENERIC IMPLEMENTATION (optional) \n",
      "                else:\n",
      "                    `self._draw_band()`, generic implementation that calls `self._draw_line`\n",
      "        Once all bands are drawn, `self.draw_gaps` loops through all the gaps to be drawn:\n",
      "            for gap in gaps:\n",
      "                `self.draw_gap()`, MUST BE IMPLEMENTED!\n",
      "    \n"
     ]
    }
   ],
   "source": [
    "from sisl.viz.backends.templates import BandsBackend\n",
    "\n",
    "print(BandsBackend.__doc__)"
   ]
  },
  {
   "cell_type": "markdown",
   "id": "cec0e02b",
   "metadata": {},
   "source": [
    "<div class=\"alert alert-info\">\n",
    "\n",
    "Note\n",
    "    \n",
    "This already gives you an overview of how the backend works. If you want to know the very fine details, you can always go to the source code.\n",
    "    \n",
    "</div>\n",
    "\n",
    "So, clearly `PlotlyBandsBackend` already contains the `draw_gap` method, otherwise it would not work. \n",
    "\n",
    "From the workflow description, we understand that each band is drawn with the `_draw_band` method, which calls the generic `draw_line` method. In plotly, line information is passed as dictionaries that contain several parameters. One of them is, for example, `showlegend`, which controls whether the line appears in the legend. We can use therefore our plotly knowledge to only show at the legend those bands that are below the fermi level:"
   ]
  },
  {
   "cell_type": "code",
   "execution_count": 7,
   "id": "4a72408b",
   "metadata": {
    "execution": {
     "iopub.execute_input": "2021-12-23T21:01:01.940895Z",
     "iopub.status.busy": "2021-12-23T21:01:01.939520Z",
     "iopub.status.idle": "2021-12-23T21:01:01.941448Z",
     "shell.execute_reply": "2021-12-23T21:01:01.941862Z"
    }
   },
   "outputs": [],
   "source": [
    "# Create my new backend\n",
    "class MyOwnBandsBackend(PlotlyBandsBackend):\n",
    "    \n",
    "    def _draw_band(self, x, y, *args, **kwargs):\n",
    "        kwargs[\"showlegend\"] = bool(y.max() < 0)\n",
    "        super()._draw_band(x, y, *args, **kwargs)\n",
    "        \n",
    "# And register it again\n",
    "BandsPlot.backends.register(\"plotly_myown\", MyOwnBandsBackend)"
   ]
  },
  {
   "cell_type": "code",
   "execution_count": 8,
   "id": "bd11fcac",
   "metadata": {
    "execution": {
     "iopub.execute_input": "2021-12-23T21:01:01.963875Z",
     "iopub.status.busy": "2021-12-23T21:01:01.958083Z",
     "iopub.status.idle": "2021-12-23T21:01:02.009589Z",
     "shell.execute_reply": "2021-12-23T21:01:02.009136Z"
    }
   },
   "outputs": [
    {
     "data": {
      "application/vnd.jupyter.widget-view+json": {
       "model_id": "bf2d896326ab488b8ae42543fc64f396",
       "version_major": 2,
       "version_minor": 0
      },
      "text/plain": [
       "FigureWidget({\n",
       "    'data': [{'hoverinfo': 'name',\n",
       "              'hovertemplate': '%{y:.2f} eV',\n",
       "              …"
      ]
     },
     "metadata": {},
     "output_type": "display_data"
    }
   ],
   "source": [
    "band_struct.plot(backend=\"plotly_myown\")"
   ]
  },
  {
   "cell_type": "markdown",
   "id": "5e2cf114",
   "metadata": {},
   "source": [
    "This is not very interesting, but it does its job at illustrating the fact that you can register a slightly modified *backend*.\n",
    "\n",
    "You could use your fresh knowledge to, for example draw something after the bands are drawn:"
   ]
  },
  {
   "cell_type": "code",
   "execution_count": 9,
   "id": "bdc1df56",
   "metadata": {
    "execution": {
     "iopub.execute_input": "2021-12-23T21:01:02.014326Z",
     "iopub.status.busy": "2021-12-23T21:01:02.013839Z",
     "iopub.status.idle": "2021-12-23T21:01:02.017634Z",
     "shell.execute_reply": "2021-12-23T21:01:02.017086Z"
    }
   },
   "outputs": [],
   "source": [
    "class MyOwnBandsBackend(PlotlyBandsBackend):\n",
    "    \n",
    "    def draw_bands(self, *args, **kwargs):\n",
    "        super().draw_bands(*args, **kwargs)\n",
    "        # Now that all bands are drawn, draw a very interesting line at -2eV.\n",
    "        self.add_hline(y=-2, line_color=\"red\")\n",
    "    \n",
    "BandsPlot.backends.register(\"plotly_myown\", MyOwnBandsBackend)"
   ]
  },
  {
   "cell_type": "code",
   "execution_count": 10,
   "id": "81d832d0",
   "metadata": {
    "execution": {
     "iopub.execute_input": "2021-12-23T21:01:02.024520Z",
     "iopub.status.busy": "2021-12-23T21:01:02.022280Z",
     "iopub.status.idle": "2021-12-23T21:01:02.089877Z",
     "shell.execute_reply": "2021-12-23T21:01:02.090336Z"
    }
   },
   "outputs": [
    {
     "data": {
      "application/vnd.jupyter.widget-view+json": {
       "model_id": "f0c48cd64e5f471285f4328fba97e09f",
       "version_major": 2,
       "version_minor": 0
      },
      "text/plain": [
       "FigureWidget({\n",
       "    'data': [{'hoverinfo': 'name',\n",
       "              'hovertemplate': '%{y:.2f} eV',\n",
       "              …"
      ]
     },
     "metadata": {},
     "output_type": "display_data"
    }
   ],
   "source": [
    "band_struct.plot(backend=\"plotly_myown\")"
   ]
  },
  {
   "cell_type": "markdown",
   "id": "274e7b6b",
   "metadata": {},
   "source": [
    "We finish this section by stating that:\n",
    "\n",
    "- To extend a backend, you have to have **some knowledge about the corresponding framework** (in this case `plotly`)\n",
    "- You **don't need to create a new backend for every modification**. You can modify plots interactively however you want after the plot is generated. Creating a backend that extends an existing one is only useful if **there are changes that you will always want to do** because of personal preference or because you are building a graphical interface, for example."
   ]
  },
  {
   "cell_type": "markdown",
   "id": "537045a7",
   "metadata": {},
   "source": [
    "## Creating a backend for a supported framework\n",
    "\n",
    "Now imagine that, for some reason, `sisl` didn't provide a `PlotlyBandsBackend`. However, `sisl` does have a generic plotly backend:"
   ]
  },
  {
   "cell_type": "code",
   "execution_count": 11,
   "id": "86fa0668",
   "metadata": {
    "execution": {
     "iopub.execute_input": "2021-12-23T21:01:02.095735Z",
     "iopub.status.busy": "2021-12-23T21:01:02.094490Z",
     "iopub.status.idle": "2021-12-23T21:01:02.096325Z",
     "shell.execute_reply": "2021-12-23T21:01:02.096767Z"
    }
   },
   "outputs": [],
   "source": [
    "from sisl.viz.backends.plotly import PlotlyBackend"
   ]
  },
  {
   "cell_type": "markdown",
   "id": "90dcf337",
   "metadata": {},
   "source": [
    "And also a generic bands backend:"
   ]
  },
  {
   "cell_type": "code",
   "execution_count": 12,
   "id": "659a35bf",
   "metadata": {
    "execution": {
     "iopub.execute_input": "2021-12-23T21:01:02.102083Z",
     "iopub.status.busy": "2021-12-23T21:01:02.100632Z",
     "iopub.status.idle": "2021-12-23T21:01:02.102698Z",
     "shell.execute_reply": "2021-12-23T21:01:02.103250Z"
    }
   },
   "outputs": [],
   "source": [
    "from sisl.viz.backends.templates import BandsBackend"
   ]
  },
  {
   "cell_type": "markdown",
   "id": "cacb06ba",
   "metadata": {},
   "source": [
    "In these cases, your situation is not that bad. As you saw, the template backends make use of generic functions like `draw_line` as much as they can, so the effort to implement a plotly bands backend is reduced to those things that can't be generalized in that way.\n",
    "\n",
    "One thing is for sure, we need to combine the two pieces to create the backend that we want:"
   ]
  },
  {
   "cell_type": "code",
   "execution_count": 13,
   "id": "8b06d177",
   "metadata": {
    "execution": {
     "iopub.execute_input": "2021-12-23T21:01:02.107648Z",
     "iopub.status.busy": "2021-12-23T21:01:02.106565Z",
     "iopub.status.idle": "2021-12-23T21:01:02.108340Z",
     "shell.execute_reply": "2021-12-23T21:01:02.109040Z"
    }
   },
   "outputs": [],
   "source": [
    "class MyPlotlyBandsBackend(BandsBackend, PlotlyBackend):\n",
    "    pass"
   ]
  },
  {
   "cell_type": "markdown",
   "id": "ab103394",
   "metadata": {},
   "source": [
    "But is this enough? Let's see the documentation of `BandsBackend` one more time:"
   ]
  },
  {
   "cell_type": "code",
   "execution_count": 14,
   "id": "480b0224",
   "metadata": {
    "execution": {
     "iopub.execute_input": "2021-12-23T21:01:02.114055Z",
     "iopub.status.busy": "2021-12-23T21:01:02.112937Z",
     "iopub.status.idle": "2021-12-23T21:01:02.115780Z",
     "shell.execute_reply": "2021-12-23T21:01:02.115343Z"
    }
   },
   "outputs": [
    {
     "name": "stdout",
     "output_type": "stream",
     "text": [
      "Draws the bands provided by a `BandsPlot`\n",
      "\n",
      "    The workflow implemented by it is as follows:\n",
      "        First, `self.draw_bands` draws all bands like:\n",
      "            for band in bands:\n",
      "                if (spin texture needs to be drawn):\n",
      "                    `self._draw_spin_textured_band()`, NO GENERIC IMPLEMENTATION (optional) \n",
      "                else:\n",
      "                    `self._draw_band()`, generic implementation that calls `self._draw_line`\n",
      "        Once all bands are drawn, `self.draw_gaps` loops through all the gaps to be drawn:\n",
      "            for gap in gaps:\n",
      "                `self.draw_gap()`, MUST BE IMPLEMENTED!\n",
      "    \n"
     ]
    }
   ],
   "source": [
    "print(BandsBackend.__doc__)"
   ]
  },
  {
   "cell_type": "markdown",
   "id": "0bef77a7",
   "metadata": {},
   "source": [
    "So, there are to things that need to be implemented: `draw_spin_textured_band` and `draw_gap`.\n",
    "\n",
    "We won't bother to give our backend support for spin texture representations, but the `draw_gap` method is compulsory, so we have no choice. Let's understand what is expected from this method:"
   ]
  },
  {
   "cell_type": "code",
   "execution_count": 15,
   "id": "e5ca8118",
   "metadata": {
    "execution": {
     "iopub.execute_input": "2021-12-23T21:01:02.120030Z",
     "iopub.status.busy": "2021-12-23T21:01:02.119498Z",
     "iopub.status.idle": "2021-12-23T21:01:02.122284Z",
     "shell.execute_reply": "2021-12-23T21:01:02.121857Z"
    }
   },
   "outputs": [
    {
     "name": "stdout",
     "output_type": "stream",
     "text": [
      "Help on function draw_gap in module sisl.viz.backends.templates._plots.bands:\n",
      "\n",
      "draw_gap(self, ks, Es, color, name, **kwargs)\n",
      "    This method should draw a gap, given the k and E coordinates.\n",
      "    \n",
      "    The color of the line should be determined by `color`, and `name` should be used for labeling.\n",
      "    \n",
      "    Parameters\n",
      "    -----------\n",
      "    ks: numpy array of shape (2,)\n",
      "        The two k coordinates of the gap.\n",
      "    Es: numpy array of shape (2,)\n",
      "        The two E coordinates of the gap, sorted from minor to major.\n",
      "    color: str\n",
      "        Color with which the gap should be drawn.\n",
      "    name: str\n",
      "        Label that should be asigned to the gap.\n",
      "\n"
     ]
    }
   ],
   "source": [
    "help(BandsBackend.draw_gap)"
   ]
  },
  {
   "cell_type": "markdown",
   "id": "d21dcd7f",
   "metadata": {},
   "source": [
    "Quite simple, isn't it? It seems like we are provided with the coordinates of the gap and then we can display it however we want."
   ]
  },
  {
   "cell_type": "code",
   "execution_count": 16,
   "id": "68cbdb4e",
   "metadata": {
    "execution": {
     "iopub.execute_input": "2021-12-23T21:01:02.128250Z",
     "iopub.status.busy": "2021-12-23T21:01:02.127161Z",
     "iopub.status.idle": "2021-12-23T21:01:02.129117Z",
     "shell.execute_reply": "2021-12-23T21:01:02.129539Z"
    }
   },
   "outputs": [],
   "source": [
    "class MyPlotlyBandsBackend(BandsBackend, PlotlyBackend):\n",
    "    \n",
    "    def draw_gap(self, ks, Es, color, name, **kwargs):\n",
    "        \n",
    "        self.draw_line(\n",
    "            ks, Es, name=name,\n",
    "            text=f\"{Es[1]- Es[0]:.2f} eV\",\n",
    "            mode=\"lines+markers\",\n",
    "            line={\"color\": color},\n",
    "            marker_symbol = [\"triangle-up\", \"triangle-down\"],\n",
    "            marker={\"color\": color, \"size\": 20},\n",
    "            **kwargs\n",
    "        )\n",
    "\n",
    "# Make it the default backend for bands, since it is awesome.\n",
    "BandsPlot.backends.register(\"plotly_fromscratch\", MyPlotlyBandsBackend, default=True)"
   ]
  },
  {
   "cell_type": "markdown",
   "id": "233dbbbc",
   "metadata": {},
   "source": [
    "Let's see our masterpiece:"
   ]
  },
  {
   "cell_type": "code",
   "execution_count": 17,
   "id": "b8a0f8cc",
   "metadata": {
    "execution": {
     "iopub.execute_input": "2021-12-23T21:01:02.135285Z",
     "iopub.status.busy": "2021-12-23T21:01:02.134791Z",
     "iopub.status.idle": "2021-12-23T21:01:02.192179Z",
     "shell.execute_reply": "2021-12-23T21:01:02.190207Z"
    },
    "scrolled": false
   },
   "outputs": [
    {
     "data": {
      "application/vnd.jupyter.widget-view+json": {
       "model_id": "bfec0716315b456c9a7f89fa7eeb96de",
       "version_major": 2,
       "version_minor": 0
      },
      "text/plain": [
       "FigureWidget({\n",
       "    'data': [{'line': {'color': 'black', 'width': 1.0},\n",
       "              'mode': 'lines',\n",
       "        …"
      ]
     },
     "metadata": {},
     "output_type": "display_data"
    }
   ],
   "source": [
    "band_struct.plot(gap=True)"
   ]
  },
  {
   "cell_type": "markdown",
   "id": "54b7f92b",
   "metadata": {},
   "source": [
    "Beautiful!\n",
    "\n",
    "So, to end this section, just two remarks:\n",
    "\n",
    "- We have understood that if the framework is supported, the starting point is to **combine the generic backend for the framework** (`PlotlyBackend`) **with the template backend of the specific plot** (`BandsBackend`). Afterwards, we may have to tweak things a little.\n",
    "- **Knowing how the generic framework backend works** helps to make your code simpler. E.g. if you check `PlotlyBackend.__doc__`, you will find that we could have easily included some defaults for the axes titles."
   ]
  },
  {
   "cell_type": "markdown",
   "id": "2b461994",
   "metadata": {},
   "source": [
    "## Creating a backend for a non supported framework\n",
    "\n",
    "Armed with our knowledge from the previous sections, we face the most difficult of the challenges: *there's not even a generic backend for the framework that we want to use*.\n",
    "\n",
    "What we have to do is quite clear, **develop our own generic backend**. But how? Let's go to the `Backend` class for help:"
   ]
  },
  {
   "cell_type": "code",
   "execution_count": 18,
   "id": "5a3a8142",
   "metadata": {
    "execution": {
     "iopub.execute_input": "2021-12-23T21:01:02.197137Z",
     "iopub.status.busy": "2021-12-23T21:01:02.196494Z",
     "iopub.status.idle": "2021-12-23T21:01:02.198561Z",
     "shell.execute_reply": "2021-12-23T21:01:02.199404Z"
    }
   },
   "outputs": [
    {
     "name": "stdout",
     "output_type": "stream",
     "text": [
      "Base backend class that all backends should inherit from.\n",
      "\n",
      "    This class contains various methods that need to be implemented by its subclasses.\n",
      "\n",
      "    Methods that MUST be implemented are marked as abstract methods, therefore you won't\n",
      "    even be able to use the class if you don't implement them. On the other hand, there are\n",
      "    methods that are not absolutely essential to the general workings of the framework. \n",
      "    These are written in this class to raise a NotImplementedError. Therefore, the backend \n",
      "    will be instantiable but errors may happen during the plotting process.\n",
      "\n",
      "    Below are all methods that need to be implemented by...\n",
      "\n",
      "    (1) the generic backend of the framework:\n",
      "        - `clear`, MUST\n",
      "        - `draw_on`, optional (highly recommended, otherwise no multiple plot functionality)\n",
      "        - `draw_line`, optional (highly recommended for 2D)\n",
      "        - `draw_scatter`, optional (highly recommended for 2D)\n",
      "        - `draw_line3D`, optional\n",
      "        - `draw_scatter3D`, optional\n",
      "        - `draw_arrows3D`, optional\n",
      "        - `show`, optional\n",
      "\n",
      "    (2) specific backend of a plot:\n",
      "        - `draw`, MUST\n",
      "\n",
      "    Also, you probably need to write an `__init__` method to initialize the state of the plot.\n",
      "    Usually drawing methods will add to the state and finally on `show` you display the full\n",
      "    plot.\n",
      "    \n"
     ]
    }
   ],
   "source": [
    "from sisl.viz.backends.templates import Backend\n",
    "\n",
    "print(Backend.__doc__)"
   ]
  },
  {
   "cell_type": "markdown",
   "id": "1c1a01b0",
   "metadata": {},
   "source": [
    "<div class=\"alert alert-info\">\n",
    "\n",
    "Note\n",
    "    \n",
    "You can always look at the help of each specific method to understand exactly what you need to implement. E.g. `help(Backend.draw_line)`.\n",
    "    \n",
    "</div>\n",
    "\n",
    "To make it simple, let's say we want to create a backend for \"text\". This backend will **store everything as text in its state**, and it will print it on `show`. Here would be a minimal design:"
   ]
  },
  {
   "cell_type": "code",
   "execution_count": 19,
   "id": "b5201f73",
   "metadata": {
    "execution": {
     "iopub.execute_input": "2021-12-23T21:01:02.206026Z",
     "iopub.status.busy": "2021-12-23T21:01:02.205515Z",
     "iopub.status.idle": "2021-12-23T21:01:02.207721Z",
     "shell.execute_reply": "2021-12-23T21:01:02.207282Z"
    }
   },
   "outputs": [],
   "source": [
    "class TextBackend(Backend):\n",
    "    \n",
    "    def __init__(self, *args, **kwargs):\n",
    "        super().__init__(*args, **kwargs)\n",
    "        \n",
    "        self.text = \"\"\n",
    "    \n",
    "    def clear(self):\n",
    "        self.text = \"\"\n",
    "        \n",
    "    def draw_line(self, x, y, name, **kwargs):\n",
    "        self.text += f\"\\nLINE: {name}\\n{x}\\n{y}\"\n",
    "    \n",
    "    def draw_scatter(self, x, y, name, **kwargs):\n",
    "        self.text += f\"\\nSCATTER: {name}\\n{x}\\n{y}\"\n",
    "        \n",
    "    def draw_on(self, other_backend):\n",
    "        # Set the text attribute to the other backend's text, but store ours\n",
    "        self_text = self.text\n",
    "        self.text = other_backend.text\n",
    "        # Make the plot draw the figure\n",
    "        self._plot.get_figure(backend=self._backend_name, clear_fig=False)\n",
    "        # Restore our text attribute\n",
    "        self.text = self_text\n",
    "    \n",
    "    def show(self):\n",
    "        print(self.text)"
   ]
  },
  {
   "cell_type": "markdown",
   "id": "201f4a52",
   "metadata": {},
   "source": [
    "This could very well be our generic backend for the \"text\" framework. Now we can use the knowledge of the previous section to create a backend for the bands plot:"
   ]
  },
  {
   "cell_type": "code",
   "execution_count": 20,
   "id": "ac8369ad",
   "metadata": {
    "execution": {
     "iopub.execute_input": "2021-12-23T21:01:02.213313Z",
     "iopub.status.busy": "2021-12-23T21:01:02.212056Z",
     "iopub.status.idle": "2021-12-23T21:01:02.213913Z",
     "shell.execute_reply": "2021-12-23T21:01:02.214351Z"
    }
   },
   "outputs": [],
   "source": [
    "class TextBandsBackend(BandsBackend, TextBackend):\n",
    "    \n",
    "    def draw_gap(self, ks, Es, name, **kwargs):\n",
    "        self.draw_line(ks, Es, name=name)\n",
    "        \n",
    "# Register it, as always\n",
    "BandsPlot.backends.register(\"text\", TextBandsBackend)"
   ]
  },
  {
   "cell_type": "code",
   "execution_count": 21,
   "id": "c3d3d1db",
   "metadata": {
    "execution": {
     "iopub.execute_input": "2021-12-23T21:01:02.233586Z",
     "iopub.status.busy": "2021-12-23T21:01:02.230316Z",
     "iopub.status.idle": "2021-12-23T21:01:02.254078Z",
     "shell.execute_reply": "2021-12-23T21:01:02.253647Z"
    },
    "scrolled": false
   },
   "outputs": [
    {
     "name": "stdout",
     "output_type": "stream",
     "text": [
      "\n",
      "LINE: 0\n",
      "[0.         0.08194034 0.16388068 0.24582102 0.32776136 0.4097017\n",
      " 0.49164204 0.57358238 0.65552272 0.73746306]\n",
      "[-8.1        -8.07260764 -7.99070941 -7.85514486 -7.66732391 -7.42924537\n",
      " -7.14352854 -6.81346515 -6.44310336 -6.03738354]\n",
      "LINE: 1\n",
      "[0.         0.08194034 0.16388068 0.24582102 0.32776136 0.4097017\n",
      " 0.49164204 0.57358238 0.65552272 0.73746306]\n",
      "[-2.7        -2.78082828 -3.00808297 -3.34614692 -3.75661337 -4.20788704\n",
      " -4.67653718 -5.14555076 -5.60235836 -6.03738354]\n",
      "LINE: 2\n",
      "[0.         0.08194034 0.16388068 0.24582102 0.32776136 0.4097017\n",
      " 0.49164204 0.57358238 0.65552272 0.73746306]\n",
      "[2.7        2.78082828 3.00808297 3.34614692 3.75661337 4.20788704\n",
      " 4.67653718 5.14555076 5.60235836 6.03738354]\n",
      "LINE: 3\n",
      "[0.         0.08194034 0.16388068 0.24582102 0.32776136 0.4097017\n",
      " 0.49164204 0.57358238 0.65552272 0.73746306]\n",
      "[8.1        8.07260764 7.99070941 7.85514486 7.66732391 7.42924537\n",
      " 7.14352854 6.81346515 6.44310336 6.03738354]\n",
      "LINE: Gap\n",
      "[0.0, 0.0]\n",
      "[-2.6999999999999975, 2.7000000000000117]\n"
     ]
    }
   ],
   "source": [
    "band_struct.plot(backend=\"text\", gap=True, _debug=True)"
   ]
  },
  {
   "cell_type": "markdown",
   "id": "c2a7a05b",
   "metadata": {},
   "source": [
    "And everything works great! Note that since the backend is **independent of the processing logic**, I can use any setting of `BandsPlot` and it will work:"
   ]
  },
  {
   "cell_type": "code",
   "execution_count": 22,
   "id": "4d420a8d",
   "metadata": {
    "execution": {
     "iopub.execute_input": "2021-12-23T21:01:02.259492Z",
     "iopub.status.busy": "2021-12-23T21:01:02.258989Z",
     "iopub.status.idle": "2021-12-23T21:01:02.314200Z",
     "shell.execute_reply": "2021-12-23T21:01:02.314678Z"
    }
   },
   "outputs": [
    {
     "name": "stdout",
     "output_type": "stream",
     "text": [
      "\n",
      "LINE: 0\n",
      "[0.         0.08194034 0.16388068 0.24582102 0.32776136 0.4097017\n",
      " 0.49164204 0.57358238 0.65552272 0.73746306]\n",
      "[-8.1        -8.07260764 -7.99070941 -7.85514486 -7.66732391 -7.42924537\n",
      " -7.14352854 -6.81346515 -6.44310336 -6.03738354]\n",
      "LINE: 1\n",
      "[0.         0.08194034 0.16388068 0.24582102 0.32776136 0.4097017\n",
      " 0.49164204 0.57358238 0.65552272 0.73746306]\n",
      "[-2.7        -2.78082828 -3.00808297 -3.34614692 -3.75661337 -4.20788704\n",
      " -4.67653718 -5.14555076 -5.60235836 -6.03738354]\n",
      "LINE: 2\n",
      "[0.         0.08194034 0.16388068 0.24582102 0.32776136 0.4097017\n",
      " 0.49164204 0.57358238 0.65552272 0.73746306]\n",
      "[2.7        2.78082828 3.00808297 3.34614692 3.75661337 4.20788704\n",
      " 4.67653718 5.14555076 5.60235836 6.03738354]\n",
      "LINE: 3\n",
      "[0.         0.08194034 0.16388068 0.24582102 0.32776136 0.4097017\n",
      " 0.49164204 0.57358238 0.65552272 0.73746306]\n",
      "[8.1        8.07260764 7.99070941 7.85514486 7.66732391 7.42924537\n",
      " 7.14352854 6.81346515 6.44310336 6.03738354]\n",
      "LINE: Gap\n",
      "[0.0, 0.0]\n",
      "[-2.6999999999999975, 2.7000000000000117]\n",
      "LINE: Gap (Gamma-Gamma)\n",
      "[0.0, 0.0]\n",
      "[-2.6999999999999975, 2.7000000000000117]\n",
      "LINE: Gap (X-X)\n",
      "[0.7374630642229563, 0.7374630642229563]\n",
      "[-6.037383539249426, 6.037383539249433]\n"
     ]
    }
   ],
   "source": [
    "bands_plot = band_struct.plot(backend=\"text\", gap=True, _debug=True)\n",
    "bands_plot.update_settings(\n",
    "    bands_range=[0,1], \n",
    "    custom_gaps=[{\"from\": \"Gamma\", \"to\": \"Gamma\"}, {\"from\": \"X\", \"to\": \"X\"}]\n",
    ")"
   ]
  },
  {
   "cell_type": "markdown",
   "id": "0f2397d3",
   "metadata": {},
   "source": [
    "*It wasn't that difficult, right?*\n",
    "\n",
    "We are very thankful that you took the time to understand how to build backends on top of the `sisl.viz` framework! Any feedback on it will be highly appreciated and we are looking forward to see your implementations!"
   ]
  }
 ],
 "metadata": {
  "kernelspec": {
   "display_name": "Python 3",
   "language": "python",
   "name": "python3"
  },
  "language_info": {
   "codemirror_mode": {
    "name": "ipython",
    "version": 3
   },
   "file_extension": ".py",
   "mimetype": "text/x-python",
   "name": "python",
   "nbconvert_exporter": "python",
   "pygments_lexer": "ipython3",
   "version": "3.9.9"
  },
  "widgets": {
   "application/vnd.jupyter.widget-state+json": {
    "state": {
     "9981a613b90a41b697b329971e972da2": {
      "buffers": [
       {
        "data": "AAAAAAAAAAAu1InKCvq0Py7UicoK+sQ/Rb7OLxB3zz8u1InKCvrUPzpJLH2NONo/Rb7OLxB33z+pmThxyVriPy7UicoK+uQ/tA7bI0yZ5z8=",
        "encoding": "base64",
        "path": [
         "_data",
         0,
         "x",
         "buffer"
        ]
       },
       {
        "data": "KTMzMzMzIMB1sQ3ULCUgwNw91oZ89h/A1DIfGKtrH8DUHJz1VqsewAhr2BiMtx3AXzZDJfmSHMDwcUMC/UAbwNtL4eK8xRnAqPDZ3kcmGMA=",
        "encoding": "base64",
        "path": [
         "_data",
         0,
         "y",
         "buffer"
        ]
       },
       {
        "data": "AAAAAAAAAAAu1InKCvq0Py7UicoK+sQ/Rb7OLxB3zz8u1InKCvrUPzpJLH2NONo/Rb7OLxB33z+pmThxyVriPy7UicoK+uQ/tA7bI0yZ5z8=",
        "encoding": "base64",
        "path": [
         "_data",
         1,
         "x",
         "buffer"
        ]
       },
       {
        "data": "lJmZmZmZBcA46a7lIj8GwJiHZM6NEAjAmEJ3rejECsA4WvpPiw0OwFjhxlbg1BDAgwCiKca0EsAaPCNCC5UUwEXt7qDQaBbAqPDZ3kcmGMA=",
        "encoding": "base64",
        "path": [
         "_data",
         1,
         "y",
         "buffer"
        ]
       },
       {
        "data": "AAAAAAAAAAAu1InKCvq0Py7UicoK+sQ/Rb7OLxB3zz8u1InKCvrUPzpJLH2NONo/Rb7OLxB33z+pmThxyVriPy7UicoK+uQ/tA7bI0yZ5z8=",
        "encoding": "base64",
        "path": [
         "_data",
         2,
         "x",
         "buffer"
        ]
       },
       {
        "data": "tJmZmZmZBUBg6a7lIj8GQL6HZM6NEAhAskJ3rejECkBQWvpPiw0OQGThxlbg1BBAlACiKca0EkAjPCNCC5UUQEjt7qDQaBZAsPDZ3kcmGEA=",
        "encoding": "base64",
        "path": [
         "_data",
         2,
         "y",
         "buffer"
        ]
       },
       {
        "data": "AAAAAAAAAAAu1InKCvq0Py7UicoK+sQ/Rb7OLxB3zz8u1InKCvrUPzpJLH2NONo/Rb7OLxB33z+pmThxyVriPy7UicoK+uQ/tA7bI0yZ5z8=",
        "encoding": "base64",
        "path": [
         "_data",
         3,
         "x",
         "buffer"
        ]
       },
       {
        "data": "NDMzMzMzIEB/sQ3ULCUgQPI91oZ89h9A7DIfGKtrH0DmHJz1VqseQBlr2BiMtx1AbzZDJfmSHED9cUMC/UAbQOJL4eK8xRlAsPDZ3kcmGEA=",
        "encoding": "base64",
        "path": [
         "_data",
         3,
         "y",
         "buffer"
        ]
       }
      ],
      "model_module": "jupyterlab-plotly",
      "model_module_version": "^5.5.0",
      "model_name": "FigureModel",
      "state": {
       "_config": {
        "plotlyServerURL": "https://plot.ly"
       },
       "_data": [
        {
         "hoverinfo": "name",
         "hovertemplate": "%{y:.2f} eV",
         "line": {
          "color": "black",
          "width": 1.0
         },
         "mode": "lines",
         "name": "0",
         "opacity": 1,
         "type": "scatter",
         "uid": "d17c6e57-7c3d-43a3-afd5-16a78f6b2e4e",
         "x": {
          "dtype": "float64",
          "shape": [
           10
          ]
         },
         "y": {
          "dtype": "float64",
          "shape": [
           10
          ]
         }
        },
        {
         "hoverinfo": "name",
         "hovertemplate": "%{y:.2f} eV",
         "line": {
          "color": "black",
          "width": 1.0
         },
         "mode": "lines",
         "name": "1",
         "opacity": 1,
         "type": "scatter",
         "uid": "6355baf3-08ad-48f7-8e53-2d6cfeb27e6a",
         "x": {
          "dtype": "float64",
          "shape": [
           10
          ]
         },
         "y": {
          "dtype": "float64",
          "shape": [
           10
          ]
         }
        },
        {
         "hoverinfo": "name",
         "hovertemplate": "%{y:.2f} eV",
         "line": {
          "color": "black",
          "width": 1.0
         },
         "mode": "lines",
         "name": "2",
         "opacity": 1,
         "type": "scatter",
         "uid": "2a33df80-aa4f-40b8-82ff-3491941f72f6",
         "x": {
          "dtype": "float64",
          "shape": [
           10
          ]
         },
         "y": {
          "dtype": "float64",
          "shape": [
           10
          ]
         }
        },
        {
         "hoverinfo": "name",
         "hovertemplate": "%{y:.2f} eV",
         "line": {
          "color": "black",
          "width": 1.0
         },
         "mode": "lines",
         "name": "3",
         "opacity": 1,
         "type": "scatter",
         "uid": "a89f6619-a361-4fa1-9df2-6f26e341c238",
         "x": {
          "dtype": "float64",
          "shape": [
           10
          ]
         },
         "y": {
          "dtype": "float64",
          "shape": [
           10
          ]
         }
        }
       ],
       "_dom_classes": [],
       "_js2py_layoutDelta": {},
       "_js2py_pointsCallback": {},
       "_js2py_relayout": {},
       "_js2py_restyle": {},
       "_js2py_traceDeltas": {},
       "_js2py_update": {},
       "_last_layout_edit_id": 0,
       "_last_trace_edit_id": 0,
       "_layout": {
        "template": {
         "layout": {
          "hovermode": "closest",
          "paper_bgcolor": "white",
          "plot_bgcolor": "white",
          "scene": {
           "xaxis": {
            "color": "black",
            "gridcolor": "#ccc",
            "gridwidth": 1,
            "linewidth": 1,
            "mirror": true,
            "showgrid": false,
            "showline": true,
            "ticklen": 5,
            "ticks": "outside",
            "ticksuffix": " ",
            "visible": true,
            "zeroline": false,
            "zerolinecolor": "#ccc",
            "zerolinewidth": 1
           },
           "yaxis": {
            "color": "black",
            "gridcolor": "#ccc",
            "gridwidth": 1,
            "linewidth": 1,
            "mirror": true,
            "showgrid": false,
            "showline": true,
            "ticklen": 5,
            "ticks": "outside",
            "ticksuffix": " ",
            "visible": true,
            "zeroline": false,
            "zerolinecolor": "#ccc",
            "zerolinewidth": 1
           },
           "zaxis": {
            "color": "black",
            "gridcolor": "#ccc",
            "gridwidth": 1,
            "linewidth": 1,
            "mirror": true,
            "showgrid": false,
            "showline": true,
            "ticklen": 5,
            "ticks": "outside",
            "ticksuffix": " ",
            "visible": true,
            "zeroline": false,
            "zerolinecolor": "#ccc",
            "zerolinewidth": 1
           }
          },
          "xaxis": {
           "color": "black",
           "gridcolor": "#ccc",
           "gridwidth": 1,
           "linewidth": 1,
           "mirror": true,
           "showgrid": false,
           "showline": true,
           "ticklen": 5,
           "ticks": "outside",
           "ticksuffix": " ",
           "visible": true,
           "zeroline": false,
           "zerolinecolor": "#ccc",
           "zerolinewidth": 1
          },
          "yaxis": {
           "color": "black",
           "gridcolor": "#ccc",
           "gridwidth": 1,
           "linewidth": 1,
           "mirror": true,
           "showgrid": false,
           "showline": true,
           "ticklen": 5,
           "ticks": "outside",
           "ticksuffix": " ",
           "visible": true,
           "zeroline": false,
           "zerolinecolor": "#ccc",
           "zerolinewidth": 1
          }
         }
        },
        "xaxis": {
         "mirror": true,
         "range": [
          0.0,
          0.7374630642229563
         ],
         "showgrid": true,
         "ticktext": [
          "Gamma",
          "X"
         ],
         "tickvals": [
          0.0,
          0.7374630642229563
         ],
         "title": {
          "text": "K"
         }
        },
        "yaxis": {
         "mirror": true,
         "range": [
          -8.099999999999982,
          8.100000000000001
         ],
         "title": {
          "text": "Energy [eV]"
         }
        }
       },
       "_model_module": "jupyterlab-plotly",
       "_model_module_version": "^5.5.0",
       "_model_name": "FigureModel",
       "_py2js_addTraces": {},
       "_py2js_animate": {},
       "_py2js_deleteTraces": {},
       "_py2js_moveTraces": {},
       "_py2js_relayout": {},
       "_py2js_removeLayoutProps": {},
       "_py2js_removeTraceProps": {},
       "_py2js_restyle": {},
       "_py2js_update": {},
       "_view_count": 0,
       "_view_module": "jupyterlab-plotly",
       "_view_module_version": "^5.5.0",
       "_view_name": "FigureView"
      }
     },
     "bf2d896326ab488b8ae42543fc64f396": {
      "buffers": [
       {
        "data": "AAAAAAAAAAAu1InKCvq0Py7UicoK+sQ/Rb7OLxB3zz8u1InKCvrUPzpJLH2NONo/Rb7OLxB33z+pmThxyVriPy7UicoK+uQ/tA7bI0yZ5z8=",
        "encoding": "base64",
        "path": [
         "_data",
         0,
         "x",
         "buffer"
        ]
       },
       {
        "data": "KTMzMzMzIMB1sQ3ULCUgwNw91oZ89h/A1DIfGKtrH8DUHJz1VqsewAhr2BiMtx3AXzZDJfmSHMDwcUMC/UAbwNtL4eK8xRnAqPDZ3kcmGMA=",
        "encoding": "base64",
        "path": [
         "_data",
         0,
         "y",
         "buffer"
        ]
       },
       {
        "data": "AAAAAAAAAAAu1InKCvq0Py7UicoK+sQ/Rb7OLxB3zz8u1InKCvrUPzpJLH2NONo/Rb7OLxB33z+pmThxyVriPy7UicoK+uQ/tA7bI0yZ5z8=",
        "encoding": "base64",
        "path": [
         "_data",
         1,
         "x",
         "buffer"
        ]
       },
       {
        "data": "lJmZmZmZBcA46a7lIj8GwJiHZM6NEAjAmEJ3rejECsA4WvpPiw0OwFjhxlbg1BDAgwCiKca0EsAaPCNCC5UUwEXt7qDQaBbAqPDZ3kcmGMA=",
        "encoding": "base64",
        "path": [
         "_data",
         1,
         "y",
         "buffer"
        ]
       },
       {
        "data": "AAAAAAAAAAAu1InKCvq0Py7UicoK+sQ/Rb7OLxB3zz8u1InKCvrUPzpJLH2NONo/Rb7OLxB33z+pmThxyVriPy7UicoK+uQ/tA7bI0yZ5z8=",
        "encoding": "base64",
        "path": [
         "_data",
         2,
         "x",
         "buffer"
        ]
       },
       {
        "data": "tJmZmZmZBUBg6a7lIj8GQL6HZM6NEAhAskJ3rejECkBQWvpPiw0OQGThxlbg1BBAlACiKca0EkAjPCNCC5UUQEjt7qDQaBZAsPDZ3kcmGEA=",
        "encoding": "base64",
        "path": [
         "_data",
         2,
         "y",
         "buffer"
        ]
       },
       {
        "data": "AAAAAAAAAAAu1InKCvq0Py7UicoK+sQ/Rb7OLxB3zz8u1InKCvrUPzpJLH2NONo/Rb7OLxB33z+pmThxyVriPy7UicoK+uQ/tA7bI0yZ5z8=",
        "encoding": "base64",
        "path": [
         "_data",
         3,
         "x",
         "buffer"
        ]
       },
       {
        "data": "NDMzMzMzIEB/sQ3ULCUgQPI91oZ89h9A7DIfGKtrH0DmHJz1VqseQBlr2BiMtx1AbzZDJfmSHED9cUMC/UAbQOJL4eK8xRlAsPDZ3kcmGEA=",
        "encoding": "base64",
        "path": [
         "_data",
         3,
         "y",
         "buffer"
        ]
       }
      ],
      "model_module": "jupyterlab-plotly",
      "model_module_version": "^5.5.0",
      "model_name": "FigureModel",
      "state": {
       "_config": {
        "plotlyServerURL": "https://plot.ly"
       },
       "_data": [
        {
         "hoverinfo": "name",
         "hovertemplate": "%{y:.2f} eV",
         "line": {
          "color": "black",
          "width": 1.0
         },
         "mode": "lines",
         "name": "0",
         "opacity": 1,
         "showlegend": true,
         "type": "scatter",
         "uid": "23fb7e33-d5d8-403f-89bc-8a8870386030",
         "x": {
          "dtype": "float64",
          "shape": [
           10
          ]
         },
         "y": {
          "dtype": "float64",
          "shape": [
           10
          ]
         }
        },
        {
         "hoverinfo": "name",
         "hovertemplate": "%{y:.2f} eV",
         "line": {
          "color": "black",
          "width": 1.0
         },
         "mode": "lines",
         "name": "1",
         "opacity": 1,
         "showlegend": true,
         "type": "scatter",
         "uid": "839dfd84-8cea-4c71-b3e5-8a516e6cf17a",
         "x": {
          "dtype": "float64",
          "shape": [
           10
          ]
         },
         "y": {
          "dtype": "float64",
          "shape": [
           10
          ]
         }
        },
        {
         "hoverinfo": "name",
         "hovertemplate": "%{y:.2f} eV",
         "line": {
          "color": "black",
          "width": 1.0
         },
         "mode": "lines",
         "name": "2",
         "opacity": 1,
         "showlegend": false,
         "type": "scatter",
         "uid": "a69c9e80-b330-434e-8817-fa9f3387ea87",
         "x": {
          "dtype": "float64",
          "shape": [
           10
          ]
         },
         "y": {
          "dtype": "float64",
          "shape": [
           10
          ]
         }
        },
        {
         "hoverinfo": "name",
         "hovertemplate": "%{y:.2f} eV",
         "line": {
          "color": "black",
          "width": 1.0
         },
         "mode": "lines",
         "name": "3",
         "opacity": 1,
         "showlegend": false,
         "type": "scatter",
         "uid": "2456c065-c2f1-4377-9d51-d5a456fd413b",
         "x": {
          "dtype": "float64",
          "shape": [
           10
          ]
         },
         "y": {
          "dtype": "float64",
          "shape": [
           10
          ]
         }
        }
       ],
       "_dom_classes": [],
       "_js2py_layoutDelta": {},
       "_js2py_pointsCallback": {},
       "_js2py_relayout": {},
       "_js2py_restyle": {},
       "_js2py_traceDeltas": {},
       "_js2py_update": {},
       "_last_layout_edit_id": 0,
       "_last_trace_edit_id": 0,
       "_layout": {
        "template": {
         "layout": {
          "hovermode": "closest",
          "paper_bgcolor": "white",
          "plot_bgcolor": "white",
          "scene": {
           "xaxis": {
            "color": "black",
            "gridcolor": "#ccc",
            "gridwidth": 1,
            "linewidth": 1,
            "mirror": true,
            "showgrid": false,
            "showline": true,
            "ticklen": 5,
            "ticks": "outside",
            "ticksuffix": " ",
            "visible": true,
            "zeroline": false,
            "zerolinecolor": "#ccc",
            "zerolinewidth": 1
           },
           "yaxis": {
            "color": "black",
            "gridcolor": "#ccc",
            "gridwidth": 1,
            "linewidth": 1,
            "mirror": true,
            "showgrid": false,
            "showline": true,
            "ticklen": 5,
            "ticks": "outside",
            "ticksuffix": " ",
            "visible": true,
            "zeroline": false,
            "zerolinecolor": "#ccc",
            "zerolinewidth": 1
           },
           "zaxis": {
            "color": "black",
            "gridcolor": "#ccc",
            "gridwidth": 1,
            "linewidth": 1,
            "mirror": true,
            "showgrid": false,
            "showline": true,
            "ticklen": 5,
            "ticks": "outside",
            "ticksuffix": " ",
            "visible": true,
            "zeroline": false,
            "zerolinecolor": "#ccc",
            "zerolinewidth": 1
           }
          },
          "xaxis": {
           "color": "black",
           "gridcolor": "#ccc",
           "gridwidth": 1,
           "linewidth": 1,
           "mirror": true,
           "showgrid": false,
           "showline": true,
           "ticklen": 5,
           "ticks": "outside",
           "ticksuffix": " ",
           "visible": true,
           "zeroline": false,
           "zerolinecolor": "#ccc",
           "zerolinewidth": 1
          },
          "yaxis": {
           "color": "black",
           "gridcolor": "#ccc",
           "gridwidth": 1,
           "linewidth": 1,
           "mirror": true,
           "showgrid": false,
           "showline": true,
           "ticklen": 5,
           "ticks": "outside",
           "ticksuffix": " ",
           "visible": true,
           "zeroline": false,
           "zerolinecolor": "#ccc",
           "zerolinewidth": 1
          }
         }
        },
        "xaxis": {
         "mirror": true,
         "range": [
          0.0,
          0.7374630642229563
         ],
         "showgrid": true,
         "ticktext": [
          "Gamma",
          "X"
         ],
         "tickvals": [
          0.0,
          0.7374630642229563
         ],
         "title": {
          "text": "K"
         }
        },
        "yaxis": {
         "mirror": true,
         "range": [
          -8.099999999999982,
          8.100000000000001
         ],
         "title": {
          "text": "Energy [eV]"
         }
        }
       },
       "_model_module": "jupyterlab-plotly",
       "_model_module_version": "^5.5.0",
       "_model_name": "FigureModel",
       "_py2js_addTraces": {},
       "_py2js_animate": {},
       "_py2js_deleteTraces": {},
       "_py2js_moveTraces": {},
       "_py2js_relayout": {},
       "_py2js_removeLayoutProps": {},
       "_py2js_removeTraceProps": {},
       "_py2js_restyle": {},
       "_py2js_update": {},
       "_view_count": 0,
       "_view_module": "jupyterlab-plotly",
       "_view_module_version": "^5.5.0",
       "_view_name": "FigureView"
      }
     },
     "bfec0716315b456c9a7f89fa7eeb96de": {
      "buffers": [
       {
        "data": "AAAAAAAAAAAu1InKCvq0Py7UicoK+sQ/Rb7OLxB3zz8u1InKCvrUPzpJLH2NONo/Rb7OLxB33z+pmThxyVriPy7UicoK+uQ/tA7bI0yZ5z8=",
        "encoding": "base64",
        "path": [
         "_data",
         0,
         "x",
         "buffer"
        ]
       },
       {
        "data": "KTMzMzMzIMB1sQ3ULCUgwNw91oZ89h/A1DIfGKtrH8DUHJz1VqsewAhr2BiMtx3AXzZDJfmSHMDwcUMC/UAbwNtL4eK8xRnAqPDZ3kcmGMA=",
        "encoding": "base64",
        "path": [
         "_data",
         0,
         "y",
         "buffer"
        ]
       },
       {
        "data": "AAAAAAAAAAAu1InKCvq0Py7UicoK+sQ/Rb7OLxB3zz8u1InKCvrUPzpJLH2NONo/Rb7OLxB33z+pmThxyVriPy7UicoK+uQ/tA7bI0yZ5z8=",
        "encoding": "base64",
        "path": [
         "_data",
         1,
         "x",
         "buffer"
        ]
       },
       {
        "data": "lJmZmZmZBcA46a7lIj8GwJiHZM6NEAjAmEJ3rejECsA4WvpPiw0OwFjhxlbg1BDAgwCiKca0EsAaPCNCC5UUwEXt7qDQaBbAqPDZ3kcmGMA=",
        "encoding": "base64",
        "path": [
         "_data",
         1,
         "y",
         "buffer"
        ]
       },
       {
        "data": "AAAAAAAAAAAu1InKCvq0Py7UicoK+sQ/Rb7OLxB3zz8u1InKCvrUPzpJLH2NONo/Rb7OLxB33z+pmThxyVriPy7UicoK+uQ/tA7bI0yZ5z8=",
        "encoding": "base64",
        "path": [
         "_data",
         2,
         "x",
         "buffer"
        ]
       },
       {
        "data": "tJmZmZmZBUBg6a7lIj8GQL6HZM6NEAhAskJ3rejECkBQWvpPiw0OQGThxlbg1BBAlACiKca0EkAjPCNCC5UUQEjt7qDQaBZAsPDZ3kcmGEA=",
        "encoding": "base64",
        "path": [
         "_data",
         2,
         "y",
         "buffer"
        ]
       },
       {
        "data": "AAAAAAAAAAAu1InKCvq0Py7UicoK+sQ/Rb7OLxB3zz8u1InKCvrUPzpJLH2NONo/Rb7OLxB33z+pmThxyVriPy7UicoK+uQ/tA7bI0yZ5z8=",
        "encoding": "base64",
        "path": [
         "_data",
         3,
         "x",
         "buffer"
        ]
       },
       {
        "data": "NDMzMzMzIEB/sQ3ULCUgQPI91oZ89h9A7DIfGKtrH0DmHJz1VqseQBlr2BiMtx1AbzZDJfmSHED9cUMC/UAbQOJL4eK8xRlAsPDZ3kcmGEA=",
        "encoding": "base64",
        "path": [
         "_data",
         3,
         "y",
         "buffer"
        ]
       }
      ],
      "model_module": "jupyterlab-plotly",
      "model_module_version": "^5.5.0",
      "model_name": "FigureModel",
      "state": {
       "_config": {
        "plotlyServerURL": "https://plot.ly"
       },
       "_data": [
        {
         "line": {
          "color": "black",
          "width": 1.0
         },
         "mode": "lines",
         "name": "0",
         "opacity": 1,
         "type": "scatter",
         "uid": "a416dfad-1b28-4410-a731-ee2af00b7a0d",
         "x": {
          "dtype": "float64",
          "shape": [
           10
          ]
         },
         "y": {
          "dtype": "float64",
          "shape": [
           10
          ]
         }
        },
        {
         "line": {
          "color": "black",
          "width": 1.0
         },
         "mode": "lines",
         "name": "1",
         "opacity": 1,
         "type": "scatter",
         "uid": "f847bd3b-1fa4-43d4-bb7b-024403df4dc5",
         "x": {
          "dtype": "float64",
          "shape": [
           10
          ]
         },
         "y": {
          "dtype": "float64",
          "shape": [
           10
          ]
         }
        },
        {
         "line": {
          "color": "black",
          "width": 1.0
         },
         "mode": "lines",
         "name": "2",
         "opacity": 1,
         "type": "scatter",
         "uid": "e21dd56b-647a-4574-ab0e-fb94ad077bd0",
         "x": {
          "dtype": "float64",
          "shape": [
           10
          ]
         },
         "y": {
          "dtype": "float64",
          "shape": [
           10
          ]
         }
        },
        {
         "line": {
          "color": "black",
          "width": 1.0
         },
         "mode": "lines",
         "name": "3",
         "opacity": 1,
         "type": "scatter",
         "uid": "8f50d7e1-fe64-4ac8-9f9d-756e46662d60",
         "x": {
          "dtype": "float64",
          "shape": [
           10
          ]
         },
         "y": {
          "dtype": "float64",
          "shape": [
           10
          ]
         }
        },
        {
         "marker": {
          "size": 20,
          "symbol": [
           "triangle-up",
           "triangle-down"
          ]
         },
         "mode": "lines+markers",
         "name": "Gap",
         "opacity": 1,
         "text": "5.40 eV",
         "type": "scatter",
         "uid": "bcfd49a5-a2ef-4290-9a1c-84c30ceb281a",
         "x": [
          0.0,
          0.0
         ],
         "y": [
          -2.6999999999999975,
          2.7000000000000117
         ]
        }
       ],
       "_dom_classes": [],
       "_js2py_layoutDelta": {},
       "_js2py_pointsCallback": {},
       "_js2py_relayout": {},
       "_js2py_restyle": {},
       "_js2py_traceDeltas": {},
       "_js2py_update": {},
       "_last_layout_edit_id": 0,
       "_last_trace_edit_id": 0,
       "_layout": {
        "template": {
         "layout": {
          "hovermode": "closest",
          "paper_bgcolor": "white",
          "plot_bgcolor": "white",
          "scene": {
           "xaxis": {
            "color": "black",
            "gridcolor": "#ccc",
            "gridwidth": 1,
            "linewidth": 1,
            "mirror": true,
            "showgrid": false,
            "showline": true,
            "ticklen": 5,
            "ticks": "outside",
            "ticksuffix": " ",
            "visible": true,
            "zeroline": false,
            "zerolinecolor": "#ccc",
            "zerolinewidth": 1
           },
           "yaxis": {
            "color": "black",
            "gridcolor": "#ccc",
            "gridwidth": 1,
            "linewidth": 1,
            "mirror": true,
            "showgrid": false,
            "showline": true,
            "ticklen": 5,
            "ticks": "outside",
            "ticksuffix": " ",
            "visible": true,
            "zeroline": false,
            "zerolinecolor": "#ccc",
            "zerolinewidth": 1
           },
           "zaxis": {
            "color": "black",
            "gridcolor": "#ccc",
            "gridwidth": 1,
            "linewidth": 1,
            "mirror": true,
            "showgrid": false,
            "showline": true,
            "ticklen": 5,
            "ticks": "outside",
            "ticksuffix": " ",
            "visible": true,
            "zeroline": false,
            "zerolinecolor": "#ccc",
            "zerolinewidth": 1
           }
          },
          "xaxis": {
           "color": "black",
           "gridcolor": "#ccc",
           "gridwidth": 1,
           "linewidth": 1,
           "mirror": true,
           "showgrid": false,
           "showline": true,
           "ticklen": 5,
           "ticks": "outside",
           "ticksuffix": " ",
           "visible": true,
           "zeroline": false,
           "zerolinecolor": "#ccc",
           "zerolinewidth": 1
          },
          "yaxis": {
           "color": "black",
           "gridcolor": "#ccc",
           "gridwidth": 1,
           "linewidth": 1,
           "mirror": true,
           "showgrid": false,
           "showline": true,
           "ticklen": 5,
           "ticks": "outside",
           "ticksuffix": " ",
           "visible": true,
           "zeroline": false,
           "zerolinecolor": "#ccc",
           "zerolinewidth": 1
          }
         }
        }
       },
       "_model_module": "jupyterlab-plotly",
       "_model_module_version": "^5.5.0",
       "_model_name": "FigureModel",
       "_py2js_addTraces": {},
       "_py2js_animate": {},
       "_py2js_deleteTraces": {},
       "_py2js_moveTraces": {},
       "_py2js_relayout": {},
       "_py2js_removeLayoutProps": {},
       "_py2js_removeTraceProps": {},
       "_py2js_restyle": {},
       "_py2js_update": {},
       "_view_count": 0,
       "_view_module": "jupyterlab-plotly",
       "_view_module_version": "^5.5.0",
       "_view_name": "FigureView"
      }
     },
     "f0c48cd64e5f471285f4328fba97e09f": {
      "buffers": [
       {
        "data": "AAAAAAAAAAAu1InKCvq0Py7UicoK+sQ/Rb7OLxB3zz8u1InKCvrUPzpJLH2NONo/Rb7OLxB33z+pmThxyVriPy7UicoK+uQ/tA7bI0yZ5z8=",
        "encoding": "base64",
        "path": [
         "_data",
         0,
         "x",
         "buffer"
        ]
       },
       {
        "data": "KTMzMzMzIMB1sQ3ULCUgwNw91oZ89h/A1DIfGKtrH8DUHJz1VqsewAhr2BiMtx3AXzZDJfmSHMDwcUMC/UAbwNtL4eK8xRnAqPDZ3kcmGMA=",
        "encoding": "base64",
        "path": [
         "_data",
         0,
         "y",
         "buffer"
        ]
       },
       {
        "data": "AAAAAAAAAAAu1InKCvq0Py7UicoK+sQ/Rb7OLxB3zz8u1InKCvrUPzpJLH2NONo/Rb7OLxB33z+pmThxyVriPy7UicoK+uQ/tA7bI0yZ5z8=",
        "encoding": "base64",
        "path": [
         "_data",
         1,
         "x",
         "buffer"
        ]
       },
       {
        "data": "lJmZmZmZBcA46a7lIj8GwJiHZM6NEAjAmEJ3rejECsA4WvpPiw0OwFjhxlbg1BDAgwCiKca0EsAaPCNCC5UUwEXt7qDQaBbAqPDZ3kcmGMA=",
        "encoding": "base64",
        "path": [
         "_data",
         1,
         "y",
         "buffer"
        ]
       },
       {
        "data": "AAAAAAAAAAAu1InKCvq0Py7UicoK+sQ/Rb7OLxB3zz8u1InKCvrUPzpJLH2NONo/Rb7OLxB33z+pmThxyVriPy7UicoK+uQ/tA7bI0yZ5z8=",
        "encoding": "base64",
        "path": [
         "_data",
         2,
         "x",
         "buffer"
        ]
       },
       {
        "data": "tJmZmZmZBUBg6a7lIj8GQL6HZM6NEAhAskJ3rejECkBQWvpPiw0OQGThxlbg1BBAlACiKca0EkAjPCNCC5UUQEjt7qDQaBZAsPDZ3kcmGEA=",
        "encoding": "base64",
        "path": [
         "_data",
         2,
         "y",
         "buffer"
        ]
       },
       {
        "data": "AAAAAAAAAAAu1InKCvq0Py7UicoK+sQ/Rb7OLxB3zz8u1InKCvrUPzpJLH2NONo/Rb7OLxB33z+pmThxyVriPy7UicoK+uQ/tA7bI0yZ5z8=",
        "encoding": "base64",
        "path": [
         "_data",
         3,
         "x",
         "buffer"
        ]
       },
       {
        "data": "NDMzMzMzIEB/sQ3ULCUgQPI91oZ89h9A7DIfGKtrH0DmHJz1VqseQBlr2BiMtx1AbzZDJfmSHED9cUMC/UAbQOJL4eK8xRlAsPDZ3kcmGEA=",
        "encoding": "base64",
        "path": [
         "_data",
         3,
         "y",
         "buffer"
        ]
       }
      ],
      "model_module": "jupyterlab-plotly",
      "model_module_version": "^5.5.0",
      "model_name": "FigureModel",
      "state": {
       "_config": {
        "plotlyServerURL": "https://plot.ly"
       },
       "_data": [
        {
         "hoverinfo": "name",
         "hovertemplate": "%{y:.2f} eV",
         "line": {
          "color": "black",
          "width": 1.0
         },
         "mode": "lines",
         "name": "0",
         "opacity": 1,
         "type": "scatter",
         "uid": "33f8c028-fe45-4e67-aa1e-5f5756faebcb",
         "x": {
          "dtype": "float64",
          "shape": [
           10
          ]
         },
         "y": {
          "dtype": "float64",
          "shape": [
           10
          ]
         }
        },
        {
         "hoverinfo": "name",
         "hovertemplate": "%{y:.2f} eV",
         "line": {
          "color": "black",
          "width": 1.0
         },
         "mode": "lines",
         "name": "1",
         "opacity": 1,
         "type": "scatter",
         "uid": "a3ffd3cc-2496-4e32-94af-a2195ec91463",
         "x": {
          "dtype": "float64",
          "shape": [
           10
          ]
         },
         "y": {
          "dtype": "float64",
          "shape": [
           10
          ]
         }
        },
        {
         "hoverinfo": "name",
         "hovertemplate": "%{y:.2f} eV",
         "line": {
          "color": "black",
          "width": 1.0
         },
         "mode": "lines",
         "name": "2",
         "opacity": 1,
         "type": "scatter",
         "uid": "ec6277f9-29b7-401f-8755-973c18c51d19",
         "x": {
          "dtype": "float64",
          "shape": [
           10
          ]
         },
         "y": {
          "dtype": "float64",
          "shape": [
           10
          ]
         }
        },
        {
         "hoverinfo": "name",
         "hovertemplate": "%{y:.2f} eV",
         "line": {
          "color": "black",
          "width": 1.0
         },
         "mode": "lines",
         "name": "3",
         "opacity": 1,
         "type": "scatter",
         "uid": "e1d78b20-06fe-4e92-b9bb-687ace0a2d18",
         "x": {
          "dtype": "float64",
          "shape": [
           10
          ]
         },
         "y": {
          "dtype": "float64",
          "shape": [
           10
          ]
         }
        }
       ],
       "_dom_classes": [],
       "_js2py_layoutDelta": {},
       "_js2py_pointsCallback": {},
       "_js2py_relayout": {},
       "_js2py_restyle": {},
       "_js2py_traceDeltas": {},
       "_js2py_update": {},
       "_last_layout_edit_id": 0,
       "_last_trace_edit_id": 0,
       "_layout": {
        "shapes": [
         {
          "line": {
           "color": "red"
          },
          "type": "line",
          "x0": 0,
          "x1": 1,
          "xref": "x domain",
          "y0": -2,
          "y1": -2,
          "yref": "y"
         }
        ],
        "template": {
         "layout": {
          "hovermode": "closest",
          "paper_bgcolor": "white",
          "plot_bgcolor": "white",
          "scene": {
           "xaxis": {
            "color": "black",
            "gridcolor": "#ccc",
            "gridwidth": 1,
            "linewidth": 1,
            "mirror": true,
            "showgrid": false,
            "showline": true,
            "ticklen": 5,
            "ticks": "outside",
            "ticksuffix": " ",
            "visible": true,
            "zeroline": false,
            "zerolinecolor": "#ccc",
            "zerolinewidth": 1
           },
           "yaxis": {
            "color": "black",
            "gridcolor": "#ccc",
            "gridwidth": 1,
            "linewidth": 1,
            "mirror": true,
            "showgrid": false,
            "showline": true,
            "ticklen": 5,
            "ticks": "outside",
            "ticksuffix": " ",
            "visible": true,
            "zeroline": false,
            "zerolinecolor": "#ccc",
            "zerolinewidth": 1
           },
           "zaxis": {
            "color": "black",
            "gridcolor": "#ccc",
            "gridwidth": 1,
            "linewidth": 1,
            "mirror": true,
            "showgrid": false,
            "showline": true,
            "ticklen": 5,
            "ticks": "outside",
            "ticksuffix": " ",
            "visible": true,
            "zeroline": false,
            "zerolinecolor": "#ccc",
            "zerolinewidth": 1
           }
          },
          "xaxis": {
           "color": "black",
           "gridcolor": "#ccc",
           "gridwidth": 1,
           "linewidth": 1,
           "mirror": true,
           "showgrid": false,
           "showline": true,
           "ticklen": 5,
           "ticks": "outside",
           "ticksuffix": " ",
           "visible": true,
           "zeroline": false,
           "zerolinecolor": "#ccc",
           "zerolinewidth": 1
          },
          "yaxis": {
           "color": "black",
           "gridcolor": "#ccc",
           "gridwidth": 1,
           "linewidth": 1,
           "mirror": true,
           "showgrid": false,
           "showline": true,
           "ticklen": 5,
           "ticks": "outside",
           "ticksuffix": " ",
           "visible": true,
           "zeroline": false,
           "zerolinecolor": "#ccc",
           "zerolinewidth": 1
          }
         }
        },
        "xaxis": {
         "mirror": true,
         "range": [
          0.0,
          0.7374630642229563
         ],
         "showgrid": true,
         "ticktext": [
          "Gamma",
          "X"
         ],
         "tickvals": [
          0.0,
          0.7374630642229563
         ],
         "title": {
          "text": "K"
         }
        },
        "yaxis": {
         "mirror": true,
         "range": [
          -8.099999999999982,
          8.100000000000001
         ],
         "title": {
          "text": "Energy [eV]"
         }
        }
       },
       "_model_module": "jupyterlab-plotly",
       "_model_module_version": "^5.5.0",
       "_model_name": "FigureModel",
       "_py2js_addTraces": {},
       "_py2js_animate": {},
       "_py2js_deleteTraces": {},
       "_py2js_moveTraces": {},
       "_py2js_relayout": {},
       "_py2js_removeLayoutProps": {},
       "_py2js_removeTraceProps": {},
       "_py2js_restyle": {},
       "_py2js_update": {},
       "_view_count": 0,
       "_view_module": "jupyterlab-plotly",
       "_view_module_version": "^5.5.0",
       "_view_name": "FigureView"
      }
     }
    },
    "version_major": 2,
    "version_minor": 0
   }
  }
 },
 "nbformat": 4,
 "nbformat_minor": 5
}
