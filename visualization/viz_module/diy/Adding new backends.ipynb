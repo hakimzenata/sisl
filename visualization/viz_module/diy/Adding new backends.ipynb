{
 "cells": [
  {
   "cell_type": "markdown",
   "id": "b8465167",
   "metadata": {},
   "source": [
    "# Adding new backends "
   ]
  },
  {
   "cell_type": "code",
   "execution_count": 1,
   "id": "392448ab",
   "metadata": {
    "execution": {
     "iopub.execute_input": "2023-02-06T06:54:09.458887Z",
     "iopub.status.busy": "2023-02-06T06:54:09.458363Z",
     "iopub.status.idle": "2023-02-06T06:54:10.481230Z",
     "shell.execute_reply": "2023-02-06T06:54:10.480558Z"
    }
   },
   "outputs": [],
   "source": [
    "import sisl\n",
    "import sisl.viz\n",
    "\n",
    "# This is a toy band structure to illustrate the concepts treated throughout the notebook\n",
    "geom = sisl.geom.graphene(orthogonal=True)\n",
    "H = sisl.Hamiltonian(geom)\n",
    "H.construct([(0.1, 1.44), (0, -2.7)], )\n",
    "\n",
    "band_struct = sisl.BandStructure(H, [[0,0,0], [0.5,0,0]], 10, [\"Gamma\", \"X\"])"
   ]
  },
  {
   "cell_type": "markdown",
   "id": "df72db95",
   "metadata": {},
   "source": [
    "In the `sisl.viz` framework, the rendering part of the visualization is **completely detached from the processing part**. Because of that, we have the flexibility to add new ways of generating the final product by registering what we call `backends`.\n",
    "\n",
    "We will guide you through how you might customize this part of the framework. There are however, very distinct scenarios where you might find yourself. Each of the following sections explains the details of each situation, which are ordered in increasing complexity.\n",
    "\n",
    "<div class=\"alert alert-info\">\n",
    "\n",
    "Note\n",
    "    \n",
    "Even if you want to go to the most complex situation, make sure that you first understand the simpler ones!\n",
    "    \n",
    "</div>"
   ]
  },
  {
   "cell_type": "markdown",
   "id": "2cae0efe",
   "metadata": {},
   "source": [
    "## Extending an existing backend\n",
    "\n",
    "This is by far the easiest situation. For example, `sisl` **already provides a backend to plot bands with** `plotly`, but **you are not totally happy with the way it's done**.\n",
    "\n",
    "In this case, you grab the provided backend:"
   ]
  },
  {
   "cell_type": "code",
   "execution_count": 2,
   "id": "7baccb3a",
   "metadata": {
    "execution": {
     "iopub.execute_input": "2023-02-06T06:54:10.484914Z",
     "iopub.status.busy": "2023-02-06T06:54:10.484220Z",
     "iopub.status.idle": "2023-02-06T06:54:10.488454Z",
     "shell.execute_reply": "2023-02-06T06:54:10.487755Z"
    }
   },
   "outputs": [],
   "source": [
    "from sisl.viz.backends.plotly import PlotlyBandsBackend"
   ]
  },
  {
   "cell_type": "markdown",
   "id": "acf63183",
   "metadata": {},
   "source": [
    "And then create your own class that inherits from it:"
   ]
  },
  {
   "cell_type": "code",
   "execution_count": 3,
   "id": "8d32d73e",
   "metadata": {
    "execution": {
     "iopub.execute_input": "2023-02-06T06:54:10.491054Z",
     "iopub.status.busy": "2023-02-06T06:54:10.490702Z",
     "iopub.status.idle": "2023-02-06T06:54:10.494521Z",
     "shell.execute_reply": "2023-02-06T06:54:10.493939Z"
    }
   },
   "outputs": [],
   "source": [
    "class MyOwnBandsBackend(PlotlyBandsBackend):\n",
    "    pass"
   ]
  },
  {
   "cell_type": "markdown",
   "id": "6dc45378",
   "metadata": {},
   "source": [
    "The only thing left to do now is to **let** `BandsPlot` **know that there's a new backend available**. This action is called *registering* a backend."
   ]
  },
  {
   "cell_type": "code",
   "execution_count": 4,
   "id": "062d33e4",
   "metadata": {
    "execution": {
     "iopub.execute_input": "2023-02-06T06:54:10.497108Z",
     "iopub.status.busy": "2023-02-06T06:54:10.496781Z",
     "iopub.status.idle": "2023-02-06T06:54:10.500766Z",
     "shell.execute_reply": "2023-02-06T06:54:10.500196Z"
    }
   },
   "outputs": [],
   "source": [
    "from sisl.viz import BandsPlot\n",
    "\n",
    "BandsPlot.backends.register(\"plotly_myown\", MyOwnBandsBackend)\n",
    "# Pass default=True if you want to make it the default backend"
   ]
  },
  {
   "cell_type": "markdown",
   "id": "ac6d25e5",
   "metadata": {},
   "source": [
    "All good, you can already use your new backend!"
   ]
  },
  {
   "cell_type": "code",
   "execution_count": 5,
   "id": "0c1192b3",
   "metadata": {
    "execution": {
     "iopub.execute_input": "2023-02-06T06:54:10.503650Z",
     "iopub.status.busy": "2023-02-06T06:54:10.503179Z",
     "iopub.status.idle": "2023-02-06T06:54:10.629945Z",
     "shell.execute_reply": "2023-02-06T06:54:10.629264Z"
    }
   },
   "outputs": [
    {
     "data": {
      "application/vnd.jupyter.widget-view+json": {
       "model_id": "db082be5e3b9422a9073865f756e82f1",
       "version_major": 2,
       "version_minor": 0
      },
      "text/plain": [
       "FigureWidget({\n",
       "    'data': [{'hoverinfo': 'name',\n",
       "              'hovertemplate': '%{y:.2f} eV',\n",
       "              'line': {'color': 'black', 'width': 1.0},\n",
       "              'mode': 'lines',\n",
       "              'name': '0',\n",
       "              'opacity': 1,\n",
       "              'type': 'scatter',\n",
       "              'uid': 'e917ce21-7ce8-4335-a3f4-d0c96ac70711',\n",
       "              'x': array([0.        , 0.08194034, 0.16388068, 0.24582102, 0.32776136, 0.4097017 ,\n",
       "                          0.49164204, 0.57358238, 0.65552272, 0.73746306]),\n",
       "              'y': array([-8.1       , -8.07260764, -7.99070941, -7.85514486, -7.66732391,\n",
       "                          -7.42924537, -7.14352854, -6.81346515, -6.44310336, -6.03738354])},\n",
       "             {'hoverinfo': 'name',\n",
       "              'hovertemplate': '%{y:.2f} eV',\n",
       "              'line': {'color': 'black', 'width': 1.0},\n",
       "              'mode': 'lines',\n",
       "              'name': '1',\n",
       "              'opacity': 1,\n",
       "              'type': 'scatter',\n",
       "              'uid': '00592c73-5cc6-4d43-a6f1-8c174b0aa5de',\n",
       "              'x': array([0.        , 0.08194034, 0.16388068, 0.24582102, 0.32776136, 0.4097017 ,\n",
       "                          0.49164204, 0.57358238, 0.65552272, 0.73746306]),\n",
       "              'y': array([-2.7       , -2.78082828, -3.00808297, -3.34614692, -3.75661337,\n",
       "                          -4.20788704, -4.67653718, -5.14555076, -5.60235836, -6.03738354])},\n",
       "             {'hoverinfo': 'name',\n",
       "              'hovertemplate': '%{y:.2f} eV',\n",
       "              'line': {'color': 'black', 'width': 1.0},\n",
       "              'mode': 'lines',\n",
       "              'name': '2',\n",
       "              'opacity': 1,\n",
       "              'type': 'scatter',\n",
       "              'uid': 'fa5f9a66-a16d-4132-91f1-76c8cf6f0f3e',\n",
       "              'x': array([0.        , 0.08194034, 0.16388068, 0.24582102, 0.32776136, 0.4097017 ,\n",
       "                          0.49164204, 0.57358238, 0.65552272, 0.73746306]),\n",
       "              'y': array([2.7       , 2.78082828, 3.00808297, 3.34614692, 3.75661337, 4.20788704,\n",
       "                          4.67653718, 5.14555076, 5.60235836, 6.03738354])},\n",
       "             {'hoverinfo': 'name',\n",
       "              'hovertemplate': '%{y:.2f} eV',\n",
       "              'line': {'color': 'black', 'width': 1.0},\n",
       "              'mode': 'lines',\n",
       "              'name': '3',\n",
       "              'opacity': 1,\n",
       "              'type': 'scatter',\n",
       "              'uid': 'ecab5080-38dd-42c5-b3e3-3450511778f4',\n",
       "              'x': array([0.        , 0.08194034, 0.16388068, 0.24582102, 0.32776136, 0.4097017 ,\n",
       "                          0.49164204, 0.57358238, 0.65552272, 0.73746306]),\n",
       "              'y': array([8.1       , 8.07260764, 7.99070941, 7.85514486, 7.66732391, 7.42924537,\n",
       "                          7.14352854, 6.81346515, 6.44310336, 6.03738354])}],\n",
       "    'layout': {'template': '...',\n",
       "               'xaxis': {'mirror': True,\n",
       "                         'range': [0.0, 0.7374630642229563],\n",
       "                         'showgrid': True,\n",
       "                         'ticktext': [Gamma, X],\n",
       "                         'tickvals': [0.0, 0.7374630642229563],\n",
       "                         'title': {'text': 'K'}},\n",
       "               'yaxis': {'mirror': True, 'range': [-8.099999999999982, 8.1], 'title': {'text': 'Energy [eV]'}}}\n",
       "})"
      ]
     },
     "metadata": {},
     "output_type": "display_data"
    }
   ],
   "source": [
    "band_struct.plot(backend=\"plotly_myown\")"
   ]
  },
  {
   "cell_type": "markdown",
   "id": "71e6c80f",
   "metadata": {},
   "source": [
    "Now that we know that it can be registered, we can try to add new functionality. But of course, **we need to know how the backend works** if we need to modify it. All backends to draw bands inherit from `BandsBackend`, and you can find some information there on how it works. Let's read its documentation:"
   ]
  },
  {
   "cell_type": "code",
   "execution_count": 6,
   "id": "56fd66cd",
   "metadata": {
    "execution": {
     "iopub.execute_input": "2023-02-06T06:54:10.632801Z",
     "iopub.status.busy": "2023-02-06T06:54:10.632440Z",
     "iopub.status.idle": "2023-02-06T06:54:10.637836Z",
     "shell.execute_reply": "2023-02-06T06:54:10.637238Z"
    }
   },
   "outputs": [
    {
     "name": "stdout",
     "output_type": "stream",
     "text": [
      "Draws the bands provided by a `BandsPlot`\n",
      "\n",
      "    The workflow implemented by it is as follows:\n",
      "        First, `self.draw_bands` draws all bands like:\n",
      "            for band in bands:\n",
      "                if (spin texture needs to be drawn):\n",
      "                    `self._draw_spin_textured_band()`, NO GENERIC IMPLEMENTATION (optional) \n",
      "                else:\n",
      "                    `self._draw_band()`, generic implementation that calls `self._draw_line`\n",
      "        Once all bands are drawn, `self.draw_gaps` loops through all the gaps to be drawn:\n",
      "            for gap in gaps:\n",
      "                `self.draw_gap()`, MUST BE IMPLEMENTED!\n",
      "    \n"
     ]
    }
   ],
   "source": [
    "from sisl.viz.backends.templates import BandsBackend\n",
    "\n",
    "print(BandsBackend.__doc__)"
   ]
  },
  {
   "cell_type": "markdown",
   "id": "cec0e02b",
   "metadata": {},
   "source": [
    "<div class=\"alert alert-info\">\n",
    "\n",
    "Note\n",
    "    \n",
    "This already gives you an overview of how the backend works. If you want to know the very fine details, you can always go to the source code.\n",
    "    \n",
    "</div>\n",
    "\n",
    "So, clearly `PlotlyBandsBackend` already contains the `draw_gap` method, otherwise it would not work. \n",
    "\n",
    "From the workflow description, we understand that each band is drawn with the `_draw_band` method, which calls the generic `draw_line` method. In plotly, line information is passed as dictionaries that contain several parameters. One of them is, for example, `showlegend`, which controls whether the line appears in the legend. We can use therefore our plotly knowledge to only show at the legend those bands that are below the fermi level:"
   ]
  },
  {
   "cell_type": "code",
   "execution_count": 7,
   "id": "4a72408b",
   "metadata": {
    "execution": {
     "iopub.execute_input": "2023-02-06T06:54:10.640266Z",
     "iopub.status.busy": "2023-02-06T06:54:10.639932Z",
     "iopub.status.idle": "2023-02-06T06:54:10.644848Z",
     "shell.execute_reply": "2023-02-06T06:54:10.644274Z"
    }
   },
   "outputs": [],
   "source": [
    "# Create my new backend\n",
    "class MyOwnBandsBackend(PlotlyBandsBackend):\n",
    "    \n",
    "    def _draw_band(self, x, y, *args, **kwargs):\n",
    "        kwargs[\"showlegend\"] = bool(y.max() < 0)\n",
    "        super()._draw_band(x, y, *args, **kwargs)\n",
    "        \n",
    "# And register it again\n",
    "BandsPlot.backends.register(\"plotly_myown\", MyOwnBandsBackend)"
   ]
  },
  {
   "cell_type": "code",
   "execution_count": 8,
   "id": "bd11fcac",
   "metadata": {
    "execution": {
     "iopub.execute_input": "2023-02-06T06:54:10.647065Z",
     "iopub.status.busy": "2023-02-06T06:54:10.646848Z",
     "iopub.status.idle": "2023-02-06T06:54:10.698530Z",
     "shell.execute_reply": "2023-02-06T06:54:10.697872Z"
    }
   },
   "outputs": [
    {
     "data": {
      "application/vnd.jupyter.widget-view+json": {
       "model_id": "c1f211ef8b2c4193b21c97b66550acc8",
       "version_major": 2,
       "version_minor": 0
      },
      "text/plain": [
       "FigureWidget({\n",
       "    'data': [{'hoverinfo': 'name',\n",
       "              'hovertemplate': '%{y:.2f} eV',\n",
       "              'line': {'color': 'black', 'width': 1.0},\n",
       "              'mode': 'lines',\n",
       "              'name': '0',\n",
       "              'opacity': 1,\n",
       "              'showlegend': True,\n",
       "              'type': 'scatter',\n",
       "              'uid': '7bc36bb4-d934-4c6e-bb93-d4718b594794',\n",
       "              'x': array([0.        , 0.08194034, 0.16388068, 0.24582102, 0.32776136, 0.4097017 ,\n",
       "                          0.49164204, 0.57358238, 0.65552272, 0.73746306]),\n",
       "              'y': array([-8.1       , -8.07260764, -7.99070941, -7.85514486, -7.66732391,\n",
       "                          -7.42924537, -7.14352854, -6.81346515, -6.44310336, -6.03738354])},\n",
       "             {'hoverinfo': 'name',\n",
       "              'hovertemplate': '%{y:.2f} eV',\n",
       "              'line': {'color': 'black', 'width': 1.0},\n",
       "              'mode': 'lines',\n",
       "              'name': '1',\n",
       "              'opacity': 1,\n",
       "              'showlegend': True,\n",
       "              'type': 'scatter',\n",
       "              'uid': '1021cea8-3e21-48f2-934c-542800ceefbb',\n",
       "              'x': array([0.        , 0.08194034, 0.16388068, 0.24582102, 0.32776136, 0.4097017 ,\n",
       "                          0.49164204, 0.57358238, 0.65552272, 0.73746306]),\n",
       "              'y': array([-2.7       , -2.78082828, -3.00808297, -3.34614692, -3.75661337,\n",
       "                          -4.20788704, -4.67653718, -5.14555076, -5.60235836, -6.03738354])},\n",
       "             {'hoverinfo': 'name',\n",
       "              'hovertemplate': '%{y:.2f} eV',\n",
       "              'line': {'color': 'black', 'width': 1.0},\n",
       "              'mode': 'lines',\n",
       "              'name': '2',\n",
       "              'opacity': 1,\n",
       "              'showlegend': False,\n",
       "              'type': 'scatter',\n",
       "              'uid': 'c87bc310-523a-4919-813a-2e7779ded5ef',\n",
       "              'x': array([0.        , 0.08194034, 0.16388068, 0.24582102, 0.32776136, 0.4097017 ,\n",
       "                          0.49164204, 0.57358238, 0.65552272, 0.73746306]),\n",
       "              'y': array([2.7       , 2.78082828, 3.00808297, 3.34614692, 3.75661337, 4.20788704,\n",
       "                          4.67653718, 5.14555076, 5.60235836, 6.03738354])},\n",
       "             {'hoverinfo': 'name',\n",
       "              'hovertemplate': '%{y:.2f} eV',\n",
       "              'line': {'color': 'black', 'width': 1.0},\n",
       "              'mode': 'lines',\n",
       "              'name': '3',\n",
       "              'opacity': 1,\n",
       "              'showlegend': False,\n",
       "              'type': 'scatter',\n",
       "              'uid': 'ca6d2541-0e62-489c-9273-7a17643d60cd',\n",
       "              'x': array([0.        , 0.08194034, 0.16388068, 0.24582102, 0.32776136, 0.4097017 ,\n",
       "                          0.49164204, 0.57358238, 0.65552272, 0.73746306]),\n",
       "              'y': array([8.1       , 8.07260764, 7.99070941, 7.85514486, 7.66732391, 7.42924537,\n",
       "                          7.14352854, 6.81346515, 6.44310336, 6.03738354])}],\n",
       "    'layout': {'template': '...',\n",
       "               'xaxis': {'mirror': True,\n",
       "                         'range': [0.0, 0.7374630642229563],\n",
       "                         'showgrid': True,\n",
       "                         'ticktext': [Gamma, X],\n",
       "                         'tickvals': [0.0, 0.7374630642229563],\n",
       "                         'title': {'text': 'K'}},\n",
       "               'yaxis': {'mirror': True, 'range': [-8.099999999999982, 8.1], 'title': {'text': 'Energy [eV]'}}}\n",
       "})"
      ]
     },
     "metadata": {},
     "output_type": "display_data"
    }
   ],
   "source": [
    "band_struct.plot(backend=\"plotly_myown\")"
   ]
  },
  {
   "cell_type": "markdown",
   "id": "5e2cf114",
   "metadata": {},
   "source": [
    "This is not very interesting, but it does its job at illustrating the fact that you can register a slightly modified *backend*.\n",
    "\n",
    "You could use your fresh knowledge to, for example draw something after the bands are drawn:"
   ]
  },
  {
   "cell_type": "code",
   "execution_count": 9,
   "id": "bdc1df56",
   "metadata": {
    "execution": {
     "iopub.execute_input": "2023-02-06T06:54:10.701476Z",
     "iopub.status.busy": "2023-02-06T06:54:10.700951Z",
     "iopub.status.idle": "2023-02-06T06:54:10.705810Z",
     "shell.execute_reply": "2023-02-06T06:54:10.705235Z"
    }
   },
   "outputs": [],
   "source": [
    "class MyOwnBandsBackend(PlotlyBandsBackend):\n",
    "    \n",
    "    def draw_bands(self, *args, **kwargs):\n",
    "        super().draw_bands(*args, **kwargs)\n",
    "        # Now that all bands are drawn, draw a very interesting line at -2eV.\n",
    "        self.add_hline(y=-2, line_color=\"red\")\n",
    "    \n",
    "BandsPlot.backends.register(\"plotly_myown\", MyOwnBandsBackend)"
   ]
  },
  {
   "cell_type": "code",
   "execution_count": 10,
   "id": "81d832d0",
   "metadata": {
    "execution": {
     "iopub.execute_input": "2023-02-06T06:54:10.708301Z",
     "iopub.status.busy": "2023-02-06T06:54:10.707783Z",
     "iopub.status.idle": "2023-02-06T06:54:10.767025Z",
     "shell.execute_reply": "2023-02-06T06:54:10.766355Z"
    }
   },
   "outputs": [
    {
     "data": {
      "application/vnd.jupyter.widget-view+json": {
       "model_id": "6c116ea299e543f3af20bb572788b2e2",
       "version_major": 2,
       "version_minor": 0
      },
      "text/plain": [
       "FigureWidget({\n",
       "    'data': [{'hoverinfo': 'name',\n",
       "              'hovertemplate': '%{y:.2f} eV',\n",
       "              'line': {'color': 'black', 'width': 1.0},\n",
       "              'mode': 'lines',\n",
       "              'name': '0',\n",
       "              'opacity': 1,\n",
       "              'type': 'scatter',\n",
       "              'uid': '6400bb2f-4585-4cf0-a813-95488b7ddf69',\n",
       "              'x': array([0.        , 0.08194034, 0.16388068, 0.24582102, 0.32776136, 0.4097017 ,\n",
       "                          0.49164204, 0.57358238, 0.65552272, 0.73746306]),\n",
       "              'y': array([-8.1       , -8.07260764, -7.99070941, -7.85514486, -7.66732391,\n",
       "                          -7.42924537, -7.14352854, -6.81346515, -6.44310336, -6.03738354])},\n",
       "             {'hoverinfo': 'name',\n",
       "              'hovertemplate': '%{y:.2f} eV',\n",
       "              'line': {'color': 'black', 'width': 1.0},\n",
       "              'mode': 'lines',\n",
       "              'name': '1',\n",
       "              'opacity': 1,\n",
       "              'type': 'scatter',\n",
       "              'uid': '396b8d58-aa53-4347-8a0c-46ec5aaabc2d',\n",
       "              'x': array([0.        , 0.08194034, 0.16388068, 0.24582102, 0.32776136, 0.4097017 ,\n",
       "                          0.49164204, 0.57358238, 0.65552272, 0.73746306]),\n",
       "              'y': array([-2.7       , -2.78082828, -3.00808297, -3.34614692, -3.75661337,\n",
       "                          -4.20788704, -4.67653718, -5.14555076, -5.60235836, -6.03738354])},\n",
       "             {'hoverinfo': 'name',\n",
       "              'hovertemplate': '%{y:.2f} eV',\n",
       "              'line': {'color': 'black', 'width': 1.0},\n",
       "              'mode': 'lines',\n",
       "              'name': '2',\n",
       "              'opacity': 1,\n",
       "              'type': 'scatter',\n",
       "              'uid': '30950ae9-9ed5-426b-ab4a-7bd931257f0c',\n",
       "              'x': array([0.        , 0.08194034, 0.16388068, 0.24582102, 0.32776136, 0.4097017 ,\n",
       "                          0.49164204, 0.57358238, 0.65552272, 0.73746306]),\n",
       "              'y': array([2.7       , 2.78082828, 3.00808297, 3.34614692, 3.75661337, 4.20788704,\n",
       "                          4.67653718, 5.14555076, 5.60235836, 6.03738354])},\n",
       "             {'hoverinfo': 'name',\n",
       "              'hovertemplate': '%{y:.2f} eV',\n",
       "              'line': {'color': 'black', 'width': 1.0},\n",
       "              'mode': 'lines',\n",
       "              'name': '3',\n",
       "              'opacity': 1,\n",
       "              'type': 'scatter',\n",
       "              'uid': 'e730eab4-9303-40b0-8837-dd43b3ae9f0a',\n",
       "              'x': array([0.        , 0.08194034, 0.16388068, 0.24582102, 0.32776136, 0.4097017 ,\n",
       "                          0.49164204, 0.57358238, 0.65552272, 0.73746306]),\n",
       "              'y': array([8.1       , 8.07260764, 7.99070941, 7.85514486, 7.66732391, 7.42924537,\n",
       "                          7.14352854, 6.81346515, 6.44310336, 6.03738354])}],\n",
       "    'layout': {'shapes': [{'line': {'color': 'red'},\n",
       "                           'type': 'line',\n",
       "                           'x0': 0,\n",
       "                           'x1': 1,\n",
       "                           'xref': 'x domain',\n",
       "                           'y0': -2,\n",
       "                           'y1': -2,\n",
       "                           'yref': 'y'}],\n",
       "               'template': '...',\n",
       "               'xaxis': {'mirror': True,\n",
       "                         'range': [0.0, 0.7374630642229563],\n",
       "                         'showgrid': True,\n",
       "                         'ticktext': [Gamma, X],\n",
       "                         'tickvals': [0.0, 0.7374630642229563],\n",
       "                         'title': {'text': 'K'}},\n",
       "               'yaxis': {'mirror': True, 'range': [-8.099999999999982, 8.1], 'title': {'text': 'Energy [eV]'}}}\n",
       "})"
      ]
     },
     "metadata": {},
     "output_type": "display_data"
    }
   ],
   "source": [
    "band_struct.plot(backend=\"plotly_myown\")"
   ]
  },
  {
   "cell_type": "markdown",
   "id": "274e7b6b",
   "metadata": {},
   "source": [
    "We finish this section by stating that:\n",
    "\n",
    "- To extend a backend, you have to have **some knowledge about the corresponding framework** (in this case `plotly`)\n",
    "- You **don't need to create a new backend for every modification**. You can modify plots interactively however you want after the plot is generated. Creating a backend that extends an existing one is only useful if **there are changes that you will always want to do** because of personal preference or because you are building a graphical interface, for example."
   ]
  },
  {
   "cell_type": "markdown",
   "id": "537045a7",
   "metadata": {},
   "source": [
    "## Creating a backend for a supported framework\n",
    "\n",
    "Now imagine that, for some reason, `sisl` didn't provide a `PlotlyBandsBackend`. However, `sisl` does have a generic plotly backend:"
   ]
  },
  {
   "cell_type": "code",
   "execution_count": 11,
   "id": "86fa0668",
   "metadata": {
    "execution": {
     "iopub.execute_input": "2023-02-06T06:54:10.769868Z",
     "iopub.status.busy": "2023-02-06T06:54:10.769370Z",
     "iopub.status.idle": "2023-02-06T06:54:10.773264Z",
     "shell.execute_reply": "2023-02-06T06:54:10.772699Z"
    }
   },
   "outputs": [],
   "source": [
    "from sisl.viz.backends.plotly import PlotlyBackend"
   ]
  },
  {
   "cell_type": "markdown",
   "id": "90dcf337",
   "metadata": {},
   "source": [
    "And also a generic bands backend:"
   ]
  },
  {
   "cell_type": "code",
   "execution_count": 12,
   "id": "659a35bf",
   "metadata": {
    "execution": {
     "iopub.execute_input": "2023-02-06T06:54:10.775579Z",
     "iopub.status.busy": "2023-02-06T06:54:10.775245Z",
     "iopub.status.idle": "2023-02-06T06:54:10.778347Z",
     "shell.execute_reply": "2023-02-06T06:54:10.777738Z"
    }
   },
   "outputs": [],
   "source": [
    "from sisl.viz.backends.templates import BandsBackend"
   ]
  },
  {
   "cell_type": "markdown",
   "id": "cacb06ba",
   "metadata": {},
   "source": [
    "In these cases, your situation is not that bad. As you saw, the template backends make use of generic functions like `draw_line` as much as they can, so the effort to implement a plotly bands backend is reduced to those things that can't be generalized in that way.\n",
    "\n",
    "One thing is for sure, we need to combine the two pieces to create the backend that we want:"
   ]
  },
  {
   "cell_type": "code",
   "execution_count": 13,
   "id": "8b06d177",
   "metadata": {
    "execution": {
     "iopub.execute_input": "2023-02-06T06:54:10.780643Z",
     "iopub.status.busy": "2023-02-06T06:54:10.780310Z",
     "iopub.status.idle": "2023-02-06T06:54:10.783384Z",
     "shell.execute_reply": "2023-02-06T06:54:10.782758Z"
    }
   },
   "outputs": [],
   "source": [
    "class MyPlotlyBandsBackend(BandsBackend, PlotlyBackend):\n",
    "    pass"
   ]
  },
  {
   "cell_type": "markdown",
   "id": "ab103394",
   "metadata": {},
   "source": [
    "But is this enough? Let's see the documentation of `BandsBackend` one more time:"
   ]
  },
  {
   "cell_type": "code",
   "execution_count": 14,
   "id": "480b0224",
   "metadata": {
    "execution": {
     "iopub.execute_input": "2023-02-06T06:54:10.785744Z",
     "iopub.status.busy": "2023-02-06T06:54:10.785411Z",
     "iopub.status.idle": "2023-02-06T06:54:10.789797Z",
     "shell.execute_reply": "2023-02-06T06:54:10.789235Z"
    }
   },
   "outputs": [
    {
     "name": "stdout",
     "output_type": "stream",
     "text": [
      "Draws the bands provided by a `BandsPlot`\n",
      "\n",
      "    The workflow implemented by it is as follows:\n",
      "        First, `self.draw_bands` draws all bands like:\n",
      "            for band in bands:\n",
      "                if (spin texture needs to be drawn):\n",
      "                    `self._draw_spin_textured_band()`, NO GENERIC IMPLEMENTATION (optional) \n",
      "                else:\n",
      "                    `self._draw_band()`, generic implementation that calls `self._draw_line`\n",
      "        Once all bands are drawn, `self.draw_gaps` loops through all the gaps to be drawn:\n",
      "            for gap in gaps:\n",
      "                `self.draw_gap()`, MUST BE IMPLEMENTED!\n",
      "    \n"
     ]
    }
   ],
   "source": [
    "print(BandsBackend.__doc__)"
   ]
  },
  {
   "cell_type": "markdown",
   "id": "0bef77a7",
   "metadata": {},
   "source": [
    "So, there are to things that need to be implemented: `draw_spin_textured_band` and `draw_gap`.\n",
    "\n",
    "We won't bother to give our backend support for spin texture representations, but the `draw_gap` method is compulsory, so we have no choice. Let's understand what is expected from this method:"
   ]
  },
  {
   "cell_type": "code",
   "execution_count": 15,
   "id": "e5ca8118",
   "metadata": {
    "execution": {
     "iopub.execute_input": "2023-02-06T06:54:10.792381Z",
     "iopub.status.busy": "2023-02-06T06:54:10.791873Z",
     "iopub.status.idle": "2023-02-06T06:54:10.795680Z",
     "shell.execute_reply": "2023-02-06T06:54:10.795029Z"
    }
   },
   "outputs": [
    {
     "name": "stdout",
     "output_type": "stream",
     "text": [
      "Help on function draw_gap in module sisl.viz.backends.templates._plots.bands:\n",
      "\n",
      "draw_gap(self, ks, Es, color, name, **kwargs)\n",
      "    This method should draw a gap, given the k and E coordinates.\n",
      "    \n",
      "    The color of the line should be determined by `color`, and `name` should be used for labeling.\n",
      "    \n",
      "    Parameters\n",
      "    -----------\n",
      "    ks: numpy array of shape (2,)\n",
      "        The two k coordinates of the gap.\n",
      "    Es: numpy array of shape (2,)\n",
      "        The two E coordinates of the gap, sorted from minor to major.\n",
      "    color: str\n",
      "        Color with which the gap should be drawn.\n",
      "    name: str\n",
      "        Label that should be asigned to the gap.\n",
      "\n"
     ]
    }
   ],
   "source": [
    "help(BandsBackend.draw_gap)"
   ]
  },
  {
   "cell_type": "markdown",
   "id": "d21dcd7f",
   "metadata": {},
   "source": [
    "Quite simple, isn't it? It seems like we are provided with the coordinates of the gap and then we can display it however we want."
   ]
  },
  {
   "cell_type": "code",
   "execution_count": 16,
   "id": "68cbdb4e",
   "metadata": {
    "execution": {
     "iopub.execute_input": "2023-02-06T06:54:10.798443Z",
     "iopub.status.busy": "2023-02-06T06:54:10.798100Z",
     "iopub.status.idle": "2023-02-06T06:54:10.802914Z",
     "shell.execute_reply": "2023-02-06T06:54:10.802293Z"
    }
   },
   "outputs": [],
   "source": [
    "class MyPlotlyBandsBackend(BandsBackend, PlotlyBackend):\n",
    "    \n",
    "    def draw_gap(self, ks, Es, color, name, **kwargs):\n",
    "        \n",
    "        self.draw_line(\n",
    "            ks, Es, name=name,\n",
    "            text=f\"{Es[1]- Es[0]:.2f} eV\",\n",
    "            mode=\"lines+markers\",\n",
    "            line={\"color\": color},\n",
    "            marker_symbol = [\"triangle-up\", \"triangle-down\"],\n",
    "            marker={\"color\": color, \"size\": 20},\n",
    "            **kwargs\n",
    "        )\n",
    "\n",
    "# Make it the default backend for bands, since it is awesome.\n",
    "BandsPlot.backends.register(\"plotly_fromscratch\", MyPlotlyBandsBackend, default=True)"
   ]
  },
  {
   "cell_type": "markdown",
   "id": "233dbbbc",
   "metadata": {},
   "source": [
    "Let's see our masterpiece:"
   ]
  },
  {
   "cell_type": "code",
   "execution_count": 17,
   "id": "b8a0f8cc",
   "metadata": {
    "execution": {
     "iopub.execute_input": "2023-02-06T06:54:10.805420Z",
     "iopub.status.busy": "2023-02-06T06:54:10.805079Z",
     "iopub.status.idle": "2023-02-06T06:54:10.857292Z",
     "shell.execute_reply": "2023-02-06T06:54:10.856631Z"
    },
    "scrolled": false
   },
   "outputs": [
    {
     "data": {
      "application/vnd.jupyter.widget-view+json": {
       "model_id": "4358b92c0b0e47888543ff23cf773342",
       "version_major": 2,
       "version_minor": 0
      },
      "text/plain": [
       "FigureWidget({\n",
       "    'data': [{'line': {'color': 'black', 'width': 1.0},\n",
       "              'mode': 'lines',\n",
       "              'name': '0',\n",
       "              'opacity': 1,\n",
       "              'type': 'scatter',\n",
       "              'uid': '34322faf-b371-4fcb-8d2c-04b1cf04513c',\n",
       "              'x': array([0.        , 0.08194034, 0.16388068, 0.24582102, 0.32776136, 0.4097017 ,\n",
       "                          0.49164204, 0.57358238, 0.65552272, 0.73746306]),\n",
       "              'y': array([-8.1       , -8.07260764, -7.99070941, -7.85514486, -7.66732391,\n",
       "                          -7.42924537, -7.14352854, -6.81346515, -6.44310336, -6.03738354])},\n",
       "             {'line': {'color': 'black', 'width': 1.0},\n",
       "              'mode': 'lines',\n",
       "              'name': '1',\n",
       "              'opacity': 1,\n",
       "              'type': 'scatter',\n",
       "              'uid': '3a70ab6a-e018-4098-b8bb-651ccf58bcd2',\n",
       "              'x': array([0.        , 0.08194034, 0.16388068, 0.24582102, 0.32776136, 0.4097017 ,\n",
       "                          0.49164204, 0.57358238, 0.65552272, 0.73746306]),\n",
       "              'y': array([-2.7       , -2.78082828, -3.00808297, -3.34614692, -3.75661337,\n",
       "                          -4.20788704, -4.67653718, -5.14555076, -5.60235836, -6.03738354])},\n",
       "             {'line': {'color': 'black', 'width': 1.0},\n",
       "              'mode': 'lines',\n",
       "              'name': '2',\n",
       "              'opacity': 1,\n",
       "              'type': 'scatter',\n",
       "              'uid': '18b0c1fd-f153-40ed-9199-e1928cbe8064',\n",
       "              'x': array([0.        , 0.08194034, 0.16388068, 0.24582102, 0.32776136, 0.4097017 ,\n",
       "                          0.49164204, 0.57358238, 0.65552272, 0.73746306]),\n",
       "              'y': array([2.7       , 2.78082828, 3.00808297, 3.34614692, 3.75661337, 4.20788704,\n",
       "                          4.67653718, 5.14555076, 5.60235836, 6.03738354])},\n",
       "             {'line': {'color': 'black', 'width': 1.0},\n",
       "              'mode': 'lines',\n",
       "              'name': '3',\n",
       "              'opacity': 1,\n",
       "              'type': 'scatter',\n",
       "              'uid': '8d27eda1-c03f-4eb5-bb9d-9ff84daff384',\n",
       "              'x': array([0.        , 0.08194034, 0.16388068, 0.24582102, 0.32776136, 0.4097017 ,\n",
       "                          0.49164204, 0.57358238, 0.65552272, 0.73746306]),\n",
       "              'y': array([8.1       , 8.07260764, 7.99070941, 7.85514486, 7.66732391, 7.42924537,\n",
       "                          7.14352854, 6.81346515, 6.44310336, 6.03738354])},\n",
       "             {'marker': {'size': 20, 'symbol': ['triangle-up', 'triangle-down']},\n",
       "              'mode': 'lines+markers',\n",
       "              'name': 'Gap',\n",
       "              'opacity': 1,\n",
       "              'text': '5.40 eV',\n",
       "              'type': 'scatter',\n",
       "              'uid': '6fb70c6c-8173-41d3-8ca2-985d55c4176c',\n",
       "              'x': [0.0, 0.0],\n",
       "              'y': [-2.699999999999994, 2.7000000000000126]}],\n",
       "    'layout': {'template': '...'}\n",
       "})"
      ]
     },
     "metadata": {},
     "output_type": "display_data"
    }
   ],
   "source": [
    "band_struct.plot(gap=True)"
   ]
  },
  {
   "cell_type": "markdown",
   "id": "54b7f92b",
   "metadata": {},
   "source": [
    "Beautiful!\n",
    "\n",
    "So, to end this section, just two remarks:\n",
    "\n",
    "- We have understood that if the framework is supported, the starting point is to **combine the generic backend for the framework** (`PlotlyBackend`) **with the template backend of the specific plot** (`BandsBackend`). Afterwards, we may have to tweak things a little.\n",
    "- **Knowing how the generic framework backend works** helps to make your code simpler. E.g. if you check `PlotlyBackend.__doc__`, you will find that we could have easily included some defaults for the axes titles."
   ]
  },
  {
   "cell_type": "markdown",
   "id": "2b461994",
   "metadata": {},
   "source": [
    "## Creating a backend for a non supported framework\n",
    "\n",
    "Armed with our knowledge from the previous sections, we face the most difficult of the challenges: *there's not even a generic backend for the framework that we want to use*.\n",
    "\n",
    "What we have to do is quite clear, **develop our own generic backend**. But how? Let's go to the `Backend` class for help:"
   ]
  },
  {
   "cell_type": "code",
   "execution_count": 18,
   "id": "5a3a8142",
   "metadata": {
    "execution": {
     "iopub.execute_input": "2023-02-06T06:54:10.860319Z",
     "iopub.status.busy": "2023-02-06T06:54:10.859822Z",
     "iopub.status.idle": "2023-02-06T06:54:10.864505Z",
     "shell.execute_reply": "2023-02-06T06:54:10.863893Z"
    }
   },
   "outputs": [
    {
     "name": "stdout",
     "output_type": "stream",
     "text": [
      "Base backend class that all backends should inherit from.\n",
      "\n",
      "    This class contains various methods that need to be implemented by its subclasses.\n",
      "\n",
      "    Methods that MUST be implemented are marked as abstract methods, therefore you won't\n",
      "    even be able to use the class if you don't implement them. On the other hand, there are\n",
      "    methods that are not absolutely essential to the general workings of the framework. \n",
      "    These are written in this class to raise a NotImplementedError. Therefore, the backend \n",
      "    will be instantiable but errors may happen during the plotting process.\n",
      "\n",
      "    Below are all methods that need to be implemented by...\n",
      "\n",
      "    (1) the generic backend of the framework:\n",
      "        - `clear`, MUST\n",
      "        - `draw_on`, optional (highly recommended, otherwise no multiple plot functionality)\n",
      "        - `draw_line`, optional (highly recommended for 2D)\n",
      "        - `draw_scatter`, optional (highly recommended for 2D)\n",
      "        - `draw_line3D`, optional\n",
      "        - `draw_scatter3D`, optional\n",
      "        - `draw_arrows3D`, optional\n",
      "        - `show`, optional\n",
      "\n",
      "    (2) specific backend of a plot:\n",
      "        - `draw`, MUST\n",
      "\n",
      "    Also, you probably need to write an `__init__` method to initialize the state of the plot.\n",
      "    Usually drawing methods will add to the state and finally on `show` you display the full\n",
      "    plot.\n",
      "    \n"
     ]
    }
   ],
   "source": [
    "from sisl.viz.backends.templates import Backend\n",
    "\n",
    "print(Backend.__doc__)"
   ]
  },
  {
   "cell_type": "markdown",
   "id": "1c1a01b0",
   "metadata": {},
   "source": [
    "<div class=\"alert alert-info\">\n",
    "\n",
    "Note\n",
    "    \n",
    "You can always look at the help of each specific method to understand exactly what you need to implement. E.g. `help(Backend.draw_line)`.\n",
    "    \n",
    "</div>\n",
    "\n",
    "To make it simple, let's say we want to create a backend for \"text\". This backend will **store everything as text in its state**, and it will print it on `show`. Here would be a minimal design:"
   ]
  },
  {
   "cell_type": "code",
   "execution_count": 19,
   "id": "b5201f73",
   "metadata": {
    "execution": {
     "iopub.execute_input": "2023-02-06T06:54:10.867336Z",
     "iopub.status.busy": "2023-02-06T06:54:10.866849Z",
     "iopub.status.idle": "2023-02-06T06:54:10.873088Z",
     "shell.execute_reply": "2023-02-06T06:54:10.872515Z"
    }
   },
   "outputs": [],
   "source": [
    "class TextBackend(Backend):\n",
    "    \n",
    "    def __init__(self, *args, **kwargs):\n",
    "        super().__init__(*args, **kwargs)\n",
    "        \n",
    "        self.text = \"\"\n",
    "    \n",
    "    def clear(self):\n",
    "        self.text = \"\"\n",
    "        \n",
    "    def draw_line(self, x, y, name, **kwargs):\n",
    "        self.text += f\"\\nLINE: {name}\\n{x}\\n{y}\"\n",
    "    \n",
    "    def draw_scatter(self, x, y, name, **kwargs):\n",
    "        self.text += f\"\\nSCATTER: {name}\\n{x}\\n{y}\"\n",
    "        \n",
    "    def draw_on(self, other_backend):\n",
    "        # Set the text attribute to the other backend's text, but store ours\n",
    "        self_text = self.text\n",
    "        self.text = other_backend.text\n",
    "        # Make the plot draw the figure\n",
    "        self._plot.get_figure(backend=self._backend_name, clear_fig=False)\n",
    "        # Restore our text attribute\n",
    "        self.text = self_text\n",
    "    \n",
    "    def show(self):\n",
    "        print(self.text)"
   ]
  },
  {
   "cell_type": "markdown",
   "id": "201f4a52",
   "metadata": {},
   "source": [
    "This could very well be our generic backend for the \"text\" framework. Now we can use the knowledge of the previous section to create a backend for the bands plot:"
   ]
  },
  {
   "cell_type": "code",
   "execution_count": 20,
   "id": "ac8369ad",
   "metadata": {
    "execution": {
     "iopub.execute_input": "2023-02-06T06:54:10.875861Z",
     "iopub.status.busy": "2023-02-06T06:54:10.875379Z",
     "iopub.status.idle": "2023-02-06T06:54:10.879858Z",
     "shell.execute_reply": "2023-02-06T06:54:10.879294Z"
    }
   },
   "outputs": [],
   "source": [
    "class TextBandsBackend(BandsBackend, TextBackend):\n",
    "    \n",
    "    def draw_gap(self, ks, Es, name, **kwargs):\n",
    "        self.draw_line(ks, Es, name=name)\n",
    "        \n",
    "# Register it, as always\n",
    "BandsPlot.backends.register(\"text\", TextBandsBackend)"
   ]
  },
  {
   "cell_type": "code",
   "execution_count": 21,
   "id": "c3d3d1db",
   "metadata": {
    "execution": {
     "iopub.execute_input": "2023-02-06T06:54:10.882519Z",
     "iopub.status.busy": "2023-02-06T06:54:10.882086Z",
     "iopub.status.idle": "2023-02-06T06:54:10.917740Z",
     "shell.execute_reply": "2023-02-06T06:54:10.917146Z"
    },
    "scrolled": false
   },
   "outputs": [
    {
     "name": "stdout",
     "output_type": "stream",
     "text": [
      "\n",
      "LINE: 0\n",
      "[0.         0.08194034 0.16388068 0.24582102 0.32776136 0.4097017\n",
      " 0.49164204 0.57358238 0.65552272 0.73746306]\n",
      "[-8.1        -8.07260764 -7.99070941 -7.85514486 -7.66732391 -7.42924537\n",
      " -7.14352854 -6.81346515 -6.44310336 -6.03738354]\n",
      "LINE: 1\n",
      "[0.         0.08194034 0.16388068 0.24582102 0.32776136 0.4097017\n",
      " 0.49164204 0.57358238 0.65552272 0.73746306]\n",
      "[-2.7        -2.78082828 -3.00808297 -3.34614692 -3.75661337 -4.20788704\n",
      " -4.67653718 -5.14555076 -5.60235836 -6.03738354]\n",
      "LINE: 2\n",
      "[0.         0.08194034 0.16388068 0.24582102 0.32776136 0.4097017\n",
      " 0.49164204 0.57358238 0.65552272 0.73746306]\n",
      "[2.7        2.78082828 3.00808297 3.34614692 3.75661337 4.20788704\n",
      " 4.67653718 5.14555076 5.60235836 6.03738354]\n",
      "LINE: 3\n",
      "[0.         0.08194034 0.16388068 0.24582102 0.32776136 0.4097017\n",
      " 0.49164204 0.57358238 0.65552272 0.73746306]\n",
      "[8.1        8.07260764 7.99070941 7.85514486 7.66732391 7.42924537\n",
      " 7.14352854 6.81346515 6.44310336 6.03738354]\n",
      "LINE: Gap\n",
      "[0.0, 0.0]\n",
      "[-2.699999999999994, 2.7000000000000126]\n"
     ]
    }
   ],
   "source": [
    "band_struct.plot(backend=\"text\", gap=True, _debug=True)"
   ]
  },
  {
   "cell_type": "markdown",
   "id": "c2a7a05b",
   "metadata": {},
   "source": [
    "And everything works great! Note that since the backend is **independent of the processing logic**, I can use any setting of `BandsPlot` and it will work:"
   ]
  },
  {
   "cell_type": "code",
   "execution_count": 22,
   "id": "4d420a8d",
   "metadata": {
    "execution": {
     "iopub.execute_input": "2023-02-06T06:54:10.920633Z",
     "iopub.status.busy": "2023-02-06T06:54:10.920075Z",
     "iopub.status.idle": "2023-02-06T06:54:10.978945Z",
     "shell.execute_reply": "2023-02-06T06:54:10.978331Z"
    }
   },
   "outputs": [
    {
     "name": "stdout",
     "output_type": "stream",
     "text": [
      "\n",
      "LINE: 0\n",
      "[0.         0.08194034 0.16388068 0.24582102 0.32776136 0.4097017\n",
      " 0.49164204 0.57358238 0.65552272 0.73746306]\n",
      "[-8.1        -8.07260764 -7.99070941 -7.85514486 -7.66732391 -7.42924537\n",
      " -7.14352854 -6.81346515 -6.44310336 -6.03738354]\n",
      "LINE: 1\n",
      "[0.         0.08194034 0.16388068 0.24582102 0.32776136 0.4097017\n",
      " 0.49164204 0.57358238 0.65552272 0.73746306]\n",
      "[-2.7        -2.78082828 -3.00808297 -3.34614692 -3.75661337 -4.20788704\n",
      " -4.67653718 -5.14555076 -5.60235836 -6.03738354]\n",
      "LINE: 2\n",
      "[0.         0.08194034 0.16388068 0.24582102 0.32776136 0.4097017\n",
      " 0.49164204 0.57358238 0.65552272 0.73746306]\n",
      "[2.7        2.78082828 3.00808297 3.34614692 3.75661337 4.20788704\n",
      " 4.67653718 5.14555076 5.60235836 6.03738354]\n",
      "LINE: 3\n",
      "[0.         0.08194034 0.16388068 0.24582102 0.32776136 0.4097017\n",
      " 0.49164204 0.57358238 0.65552272 0.73746306]\n",
      "[8.1        8.07260764 7.99070941 7.85514486 7.66732391 7.42924537\n",
      " 7.14352854 6.81346515 6.44310336 6.03738354]\n",
      "LINE: Gap\n",
      "[0.0, 0.0]\n",
      "[-2.699999999999994, 2.7000000000000126]\n",
      "LINE: Gap (Gamma-Gamma)\n",
      "[0.0, 0.0]\n",
      "[-2.699999999999994, 2.7000000000000126]\n",
      "LINE: Gap (X-X)\n",
      "[0.7374630642229563, 0.7374630642229563]\n",
      "[-6.037383539249426, 6.037383539249433]\n"
     ]
    }
   ],
   "source": [
    "bands_plot = band_struct.plot(backend=\"text\", gap=True, _debug=True)\n",
    "bands_plot.update_settings(\n",
    "    bands_range=[0,1], \n",
    "    custom_gaps=[{\"from\": \"Gamma\", \"to\": \"Gamma\"}, {\"from\": \"X\", \"to\": \"X\"}]\n",
    ")"
   ]
  },
  {
   "cell_type": "markdown",
   "id": "0f2397d3",
   "metadata": {},
   "source": [
    "*It wasn't that difficult, right?*\n",
    "\n",
    "We are very thankful that you took the time to understand how to build backends on top of the `sisl.viz` framework! Any feedback on it will be highly appreciated and we are looking forward to see your implementations!"
   ]
  }
 ],
 "metadata": {
  "kernelspec": {
   "display_name": "Python 3",
   "language": "python",
   "name": "python3"
  },
  "language_info": {
   "codemirror_mode": {
    "name": "ipython",
    "version": 3
   },
   "file_extension": ".py",
   "mimetype": "text/x-python",
   "name": "python",
   "nbconvert_exporter": "python",
   "pygments_lexer": "ipython3",
   "version": "3.9.16"
  },
  "widgets": {
   "application/vnd.jupyter.widget-state+json": {
    "state": {
     "4358b92c0b0e47888543ff23cf773342": {
      "buffers": [
       {
        "data": "AAAAAAAAAAAu1InKCvq0Py7UicoK+sQ/Rb7OLxB3zz8u1InKCvrUPzpJLH2NONo/Rb7OLxB33z+pmThxyVriPy7UicoK+uQ/tA7bI0yZ5z8=",
        "encoding": "base64",
        "path": [
         "_data",
         0,
         "x",
         "buffer"
        ]
       },
       {
        "data": "KTMzMzMzIMB1sQ3ULCUgwNw91oZ89h/A1DIfGKtrH8DUHJz1VqsewAhr2BiMtx3AXzZDJfmSHMDwcUMC/UAbwNtL4eK8xRnAqPDZ3kcmGMA=",
        "encoding": "base64",
        "path": [
         "_data",
         0,
         "y",
         "buffer"
        ]
       },
       {
        "data": "AAAAAAAAAAAu1InKCvq0Py7UicoK+sQ/Rb7OLxB3zz8u1InKCvrUPzpJLH2NONo/Rb7OLxB33z+pmThxyVriPy7UicoK+uQ/tA7bI0yZ5z8=",
        "encoding": "base64",
        "path": [
         "_data",
         1,
         "x",
         "buffer"
        ]
       },
       {
        "data": "jJmZmZmZBcA46a7lIj8GwJiHZM6NEAjAmEJ3rejECsA4WvpPiw0OwFjhxlbg1BDAgwCiKca0EsAaPCNCC5UUwEPt7qDQaBbAqPDZ3kcmGMA=",
        "encoding": "base64",
        "path": [
         "_data",
         1,
         "y",
         "buffer"
        ]
       },
       {
        "data": "AAAAAAAAAAAu1InKCvq0Py7UicoK+sQ/Rb7OLxB3zz8u1InKCvrUPzpJLH2NONo/Rb7OLxB33z+pmThxyVriPy7UicoK+uQ/tA7bI0yZ5z8=",
        "encoding": "base64",
        "path": [
         "_data",
         2,
         "x",
         "buffer"
        ]
       },
       {
        "data": "tpmZmZmZBUBg6a7lIj8GQL6HZM6NEAhAskJ3rejECkBQWvpPiw0OQGThxlbg1BBAlACiKca0EkAjPCNCC5UUQEft7qDQaBZAsPDZ3kcmGEA=",
        "encoding": "base64",
        "path": [
         "_data",
         2,
         "y",
         "buffer"
        ]
       },
       {
        "data": "AAAAAAAAAAAu1InKCvq0Py7UicoK+sQ/Rb7OLxB3zz8u1InKCvrUPzpJLH2NONo/Rb7OLxB33z+pmThxyVriPy7UicoK+uQ/tA7bI0yZ5z8=",
        "encoding": "base64",
        "path": [
         "_data",
         3,
         "x",
         "buffer"
        ]
       },
       {
        "data": "MzMzMzMzIEB/sQ3ULCUgQPI91oZ89h9A7DIfGKtrH0DmHJz1VqseQBlr2BiMtx1AbzZDJfmSHED9cUMC/UAbQOFL4eK8xRlAsPDZ3kcmGEA=",
        "encoding": "base64",
        "path": [
         "_data",
         3,
         "y",
         "buffer"
        ]
       }
      ],
      "model_module": "jupyterlab-plotly",
      "model_module_version": "^5.13.0",
      "model_name": "FigureModel",
      "state": {
       "_config": {
        "plotlyServerURL": "https://plot.ly"
       },
       "_data": [
        {
         "line": {
          "color": "black",
          "width": 1.0
         },
         "mode": "lines",
         "name": "0",
         "opacity": 1,
         "type": "scatter",
         "uid": "34322faf-b371-4fcb-8d2c-04b1cf04513c",
         "x": {
          "dtype": "float64",
          "shape": [
           10
          ]
         },
         "y": {
          "dtype": "float64",
          "shape": [
           10
          ]
         }
        },
        {
         "line": {
          "color": "black",
          "width": 1.0
         },
         "mode": "lines",
         "name": "1",
         "opacity": 1,
         "type": "scatter",
         "uid": "3a70ab6a-e018-4098-b8bb-651ccf58bcd2",
         "x": {
          "dtype": "float64",
          "shape": [
           10
          ]
         },
         "y": {
          "dtype": "float64",
          "shape": [
           10
          ]
         }
        },
        {
         "line": {
          "color": "black",
          "width": 1.0
         },
         "mode": "lines",
         "name": "2",
         "opacity": 1,
         "type": "scatter",
         "uid": "18b0c1fd-f153-40ed-9199-e1928cbe8064",
         "x": {
          "dtype": "float64",
          "shape": [
           10
          ]
         },
         "y": {
          "dtype": "float64",
          "shape": [
           10
          ]
         }
        },
        {
         "line": {
          "color": "black",
          "width": 1.0
         },
         "mode": "lines",
         "name": "3",
         "opacity": 1,
         "type": "scatter",
         "uid": "8d27eda1-c03f-4eb5-bb9d-9ff84daff384",
         "x": {
          "dtype": "float64",
          "shape": [
           10
          ]
         },
         "y": {
          "dtype": "float64",
          "shape": [
           10
          ]
         }
        },
        {
         "marker": {
          "size": 20,
          "symbol": [
           "triangle-up",
           "triangle-down"
          ]
         },
         "mode": "lines+markers",
         "name": "Gap",
         "opacity": 1,
         "text": "5.40 eV",
         "type": "scatter",
         "uid": "6fb70c6c-8173-41d3-8ca2-985d55c4176c",
         "x": [
          0.0,
          0.0
         ],
         "y": [
          -2.699999999999994,
          2.7000000000000126
         ]
        }
       ],
       "_dom_classes": [],
       "_js2py_layoutDelta": {},
       "_js2py_pointsCallback": {},
       "_js2py_relayout": {},
       "_js2py_restyle": {},
       "_js2py_traceDeltas": {},
       "_js2py_update": {},
       "_last_layout_edit_id": 0,
       "_last_trace_edit_id": 0,
       "_layout": {
        "template": {
         "layout": {
          "hovermode": "closest",
          "paper_bgcolor": "white",
          "plot_bgcolor": "white",
          "scene": {
           "xaxis": {
            "color": "black",
            "gridcolor": "#ccc",
            "gridwidth": 1,
            "linewidth": 1,
            "mirror": true,
            "showgrid": false,
            "showline": true,
            "ticklen": 5,
            "ticks": "outside",
            "ticksuffix": " ",
            "visible": true,
            "zeroline": false,
            "zerolinecolor": "#ccc",
            "zerolinewidth": 1
           },
           "yaxis": {
            "color": "black",
            "gridcolor": "#ccc",
            "gridwidth": 1,
            "linewidth": 1,
            "mirror": true,
            "showgrid": false,
            "showline": true,
            "ticklen": 5,
            "ticks": "outside",
            "ticksuffix": " ",
            "visible": true,
            "zeroline": false,
            "zerolinecolor": "#ccc",
            "zerolinewidth": 1
           },
           "zaxis": {
            "color": "black",
            "gridcolor": "#ccc",
            "gridwidth": 1,
            "linewidth": 1,
            "mirror": true,
            "showgrid": false,
            "showline": true,
            "ticklen": 5,
            "ticks": "outside",
            "ticksuffix": " ",
            "visible": true,
            "zeroline": false,
            "zerolinecolor": "#ccc",
            "zerolinewidth": 1
           }
          },
          "xaxis": {
           "color": "black",
           "gridcolor": "#ccc",
           "gridwidth": 1,
           "linewidth": 1,
           "mirror": true,
           "showgrid": false,
           "showline": true,
           "ticklen": 5,
           "ticks": "outside",
           "ticksuffix": " ",
           "visible": true,
           "zeroline": false,
           "zerolinecolor": "#ccc",
           "zerolinewidth": 1
          },
          "yaxis": {
           "color": "black",
           "gridcolor": "#ccc",
           "gridwidth": 1,
           "linewidth": 1,
           "mirror": true,
           "showgrid": false,
           "showline": true,
           "ticklen": 5,
           "ticks": "outside",
           "ticksuffix": " ",
           "visible": true,
           "zeroline": false,
           "zerolinecolor": "#ccc",
           "zerolinewidth": 1
          }
         }
        }
       },
       "_model_module": "jupyterlab-plotly",
       "_model_module_version": "^5.13.0",
       "_model_name": "FigureModel",
       "_py2js_addTraces": {},
       "_py2js_animate": {},
       "_py2js_deleteTraces": {},
       "_py2js_moveTraces": {},
       "_py2js_relayout": {},
       "_py2js_removeLayoutProps": {},
       "_py2js_removeTraceProps": {},
       "_py2js_restyle": {},
       "_py2js_update": {},
       "_view_count": 0,
       "_view_module": "jupyterlab-plotly",
       "_view_module_version": "^5.13.0",
       "_view_name": "FigureView",
       "tabbable": null,
       "tooltip": null
      }
     },
     "6c116ea299e543f3af20bb572788b2e2": {
      "buffers": [
       {
        "data": "AAAAAAAAAAAu1InKCvq0Py7UicoK+sQ/Rb7OLxB3zz8u1InKCvrUPzpJLH2NONo/Rb7OLxB33z+pmThxyVriPy7UicoK+uQ/tA7bI0yZ5z8=",
        "encoding": "base64",
        "path": [
         "_data",
         0,
         "x",
         "buffer"
        ]
       },
       {
        "data": "KTMzMzMzIMB1sQ3ULCUgwNw91oZ89h/A1DIfGKtrH8DUHJz1VqsewAhr2BiMtx3AXzZDJfmSHMDwcUMC/UAbwNtL4eK8xRnAqPDZ3kcmGMA=",
        "encoding": "base64",
        "path": [
         "_data",
         0,
         "y",
         "buffer"
        ]
       },
       {
        "data": "AAAAAAAAAAAu1InKCvq0Py7UicoK+sQ/Rb7OLxB3zz8u1InKCvrUPzpJLH2NONo/Rb7OLxB33z+pmThxyVriPy7UicoK+uQ/tA7bI0yZ5z8=",
        "encoding": "base64",
        "path": [
         "_data",
         1,
         "x",
         "buffer"
        ]
       },
       {
        "data": "jJmZmZmZBcA46a7lIj8GwJiHZM6NEAjAmEJ3rejECsA4WvpPiw0OwFjhxlbg1BDAgwCiKca0EsAaPCNCC5UUwEPt7qDQaBbAqPDZ3kcmGMA=",
        "encoding": "base64",
        "path": [
         "_data",
         1,
         "y",
         "buffer"
        ]
       },
       {
        "data": "AAAAAAAAAAAu1InKCvq0Py7UicoK+sQ/Rb7OLxB3zz8u1InKCvrUPzpJLH2NONo/Rb7OLxB33z+pmThxyVriPy7UicoK+uQ/tA7bI0yZ5z8=",
        "encoding": "base64",
        "path": [
         "_data",
         2,
         "x",
         "buffer"
        ]
       },
       {
        "data": "tpmZmZmZBUBg6a7lIj8GQL6HZM6NEAhAskJ3rejECkBQWvpPiw0OQGThxlbg1BBAlACiKca0EkAjPCNCC5UUQEft7qDQaBZAsPDZ3kcmGEA=",
        "encoding": "base64",
        "path": [
         "_data",
         2,
         "y",
         "buffer"
        ]
       },
       {
        "data": "AAAAAAAAAAAu1InKCvq0Py7UicoK+sQ/Rb7OLxB3zz8u1InKCvrUPzpJLH2NONo/Rb7OLxB33z+pmThxyVriPy7UicoK+uQ/tA7bI0yZ5z8=",
        "encoding": "base64",
        "path": [
         "_data",
         3,
         "x",
         "buffer"
        ]
       },
       {
        "data": "MzMzMzMzIEB/sQ3ULCUgQPI91oZ89h9A7DIfGKtrH0DmHJz1VqseQBlr2BiMtx1AbzZDJfmSHED9cUMC/UAbQOFL4eK8xRlAsPDZ3kcmGEA=",
        "encoding": "base64",
        "path": [
         "_data",
         3,
         "y",
         "buffer"
        ]
       }
      ],
      "model_module": "jupyterlab-plotly",
      "model_module_version": "^5.13.0",
      "model_name": "FigureModel",
      "state": {
       "_config": {
        "plotlyServerURL": "https://plot.ly"
       },
       "_data": [
        {
         "hoverinfo": "name",
         "hovertemplate": "%{y:.2f} eV",
         "line": {
          "color": "black",
          "width": 1.0
         },
         "mode": "lines",
         "name": "0",
         "opacity": 1,
         "type": "scatter",
         "uid": "6400bb2f-4585-4cf0-a813-95488b7ddf69",
         "x": {
          "dtype": "float64",
          "shape": [
           10
          ]
         },
         "y": {
          "dtype": "float64",
          "shape": [
           10
          ]
         }
        },
        {
         "hoverinfo": "name",
         "hovertemplate": "%{y:.2f} eV",
         "line": {
          "color": "black",
          "width": 1.0
         },
         "mode": "lines",
         "name": "1",
         "opacity": 1,
         "type": "scatter",
         "uid": "396b8d58-aa53-4347-8a0c-46ec5aaabc2d",
         "x": {
          "dtype": "float64",
          "shape": [
           10
          ]
         },
         "y": {
          "dtype": "float64",
          "shape": [
           10
          ]
         }
        },
        {
         "hoverinfo": "name",
         "hovertemplate": "%{y:.2f} eV",
         "line": {
          "color": "black",
          "width": 1.0
         },
         "mode": "lines",
         "name": "2",
         "opacity": 1,
         "type": "scatter",
         "uid": "30950ae9-9ed5-426b-ab4a-7bd931257f0c",
         "x": {
          "dtype": "float64",
          "shape": [
           10
          ]
         },
         "y": {
          "dtype": "float64",
          "shape": [
           10
          ]
         }
        },
        {
         "hoverinfo": "name",
         "hovertemplate": "%{y:.2f} eV",
         "line": {
          "color": "black",
          "width": 1.0
         },
         "mode": "lines",
         "name": "3",
         "opacity": 1,
         "type": "scatter",
         "uid": "e730eab4-9303-40b0-8837-dd43b3ae9f0a",
         "x": {
          "dtype": "float64",
          "shape": [
           10
          ]
         },
         "y": {
          "dtype": "float64",
          "shape": [
           10
          ]
         }
        }
       ],
       "_dom_classes": [],
       "_js2py_layoutDelta": {},
       "_js2py_pointsCallback": {},
       "_js2py_relayout": {},
       "_js2py_restyle": {},
       "_js2py_traceDeltas": {},
       "_js2py_update": {},
       "_last_layout_edit_id": 0,
       "_last_trace_edit_id": 0,
       "_layout": {
        "shapes": [
         {
          "line": {
           "color": "red"
          },
          "type": "line",
          "x0": 0,
          "x1": 1,
          "xref": "x domain",
          "y0": -2,
          "y1": -2,
          "yref": "y"
         }
        ],
        "template": {
         "layout": {
          "hovermode": "closest",
          "paper_bgcolor": "white",
          "plot_bgcolor": "white",
          "scene": {
           "xaxis": {
            "color": "black",
            "gridcolor": "#ccc",
            "gridwidth": 1,
            "linewidth": 1,
            "mirror": true,
            "showgrid": false,
            "showline": true,
            "ticklen": 5,
            "ticks": "outside",
            "ticksuffix": " ",
            "visible": true,
            "zeroline": false,
            "zerolinecolor": "#ccc",
            "zerolinewidth": 1
           },
           "yaxis": {
            "color": "black",
            "gridcolor": "#ccc",
            "gridwidth": 1,
            "linewidth": 1,
            "mirror": true,
            "showgrid": false,
            "showline": true,
            "ticklen": 5,
            "ticks": "outside",
            "ticksuffix": " ",
            "visible": true,
            "zeroline": false,
            "zerolinecolor": "#ccc",
            "zerolinewidth": 1
           },
           "zaxis": {
            "color": "black",
            "gridcolor": "#ccc",
            "gridwidth": 1,
            "linewidth": 1,
            "mirror": true,
            "showgrid": false,
            "showline": true,
            "ticklen": 5,
            "ticks": "outside",
            "ticksuffix": " ",
            "visible": true,
            "zeroline": false,
            "zerolinecolor": "#ccc",
            "zerolinewidth": 1
           }
          },
          "xaxis": {
           "color": "black",
           "gridcolor": "#ccc",
           "gridwidth": 1,
           "linewidth": 1,
           "mirror": true,
           "showgrid": false,
           "showline": true,
           "ticklen": 5,
           "ticks": "outside",
           "ticksuffix": " ",
           "visible": true,
           "zeroline": false,
           "zerolinecolor": "#ccc",
           "zerolinewidth": 1
          },
          "yaxis": {
           "color": "black",
           "gridcolor": "#ccc",
           "gridwidth": 1,
           "linewidth": 1,
           "mirror": true,
           "showgrid": false,
           "showline": true,
           "ticklen": 5,
           "ticks": "outside",
           "ticksuffix": " ",
           "visible": true,
           "zeroline": false,
           "zerolinecolor": "#ccc",
           "zerolinewidth": 1
          }
         }
        },
        "xaxis": {
         "mirror": true,
         "range": [
          0.0,
          0.7374630642229563
         ],
         "showgrid": true,
         "ticktext": [
          "Gamma",
          "X"
         ],
         "tickvals": [
          0.0,
          0.7374630642229563
         ],
         "title": {
          "text": "K"
         }
        },
        "yaxis": {
         "mirror": true,
         "range": [
          -8.099999999999982,
          8.1
         ],
         "title": {
          "text": "Energy [eV]"
         }
        }
       },
       "_model_module": "jupyterlab-plotly",
       "_model_module_version": "^5.13.0",
       "_model_name": "FigureModel",
       "_py2js_addTraces": {},
       "_py2js_animate": {},
       "_py2js_deleteTraces": {},
       "_py2js_moveTraces": {},
       "_py2js_relayout": {},
       "_py2js_removeLayoutProps": {},
       "_py2js_removeTraceProps": {},
       "_py2js_restyle": {},
       "_py2js_update": {},
       "_view_count": 0,
       "_view_module": "jupyterlab-plotly",
       "_view_module_version": "^5.13.0",
       "_view_name": "FigureView",
       "tabbable": null,
       "tooltip": null
      }
     },
     "c1f211ef8b2c4193b21c97b66550acc8": {
      "buffers": [
       {
        "data": "AAAAAAAAAAAu1InKCvq0Py7UicoK+sQ/Rb7OLxB3zz8u1InKCvrUPzpJLH2NONo/Rb7OLxB33z+pmThxyVriPy7UicoK+uQ/tA7bI0yZ5z8=",
        "encoding": "base64",
        "path": [
         "_data",
         0,
         "x",
         "buffer"
        ]
       },
       {
        "data": "KTMzMzMzIMB1sQ3ULCUgwNw91oZ89h/A1DIfGKtrH8DUHJz1VqsewAhr2BiMtx3AXzZDJfmSHMDwcUMC/UAbwNtL4eK8xRnAqPDZ3kcmGMA=",
        "encoding": "base64",
        "path": [
         "_data",
         0,
         "y",
         "buffer"
        ]
       },
       {
        "data": "AAAAAAAAAAAu1InKCvq0Py7UicoK+sQ/Rb7OLxB3zz8u1InKCvrUPzpJLH2NONo/Rb7OLxB33z+pmThxyVriPy7UicoK+uQ/tA7bI0yZ5z8=",
        "encoding": "base64",
        "path": [
         "_data",
         1,
         "x",
         "buffer"
        ]
       },
       {
        "data": "jJmZmZmZBcA46a7lIj8GwJiHZM6NEAjAmEJ3rejECsA4WvpPiw0OwFjhxlbg1BDAgwCiKca0EsAaPCNCC5UUwEPt7qDQaBbAqPDZ3kcmGMA=",
        "encoding": "base64",
        "path": [
         "_data",
         1,
         "y",
         "buffer"
        ]
       },
       {
        "data": "AAAAAAAAAAAu1InKCvq0Py7UicoK+sQ/Rb7OLxB3zz8u1InKCvrUPzpJLH2NONo/Rb7OLxB33z+pmThxyVriPy7UicoK+uQ/tA7bI0yZ5z8=",
        "encoding": "base64",
        "path": [
         "_data",
         2,
         "x",
         "buffer"
        ]
       },
       {
        "data": "tpmZmZmZBUBg6a7lIj8GQL6HZM6NEAhAskJ3rejECkBQWvpPiw0OQGThxlbg1BBAlACiKca0EkAjPCNCC5UUQEft7qDQaBZAsPDZ3kcmGEA=",
        "encoding": "base64",
        "path": [
         "_data",
         2,
         "y",
         "buffer"
        ]
       },
       {
        "data": "AAAAAAAAAAAu1InKCvq0Py7UicoK+sQ/Rb7OLxB3zz8u1InKCvrUPzpJLH2NONo/Rb7OLxB33z+pmThxyVriPy7UicoK+uQ/tA7bI0yZ5z8=",
        "encoding": "base64",
        "path": [
         "_data",
         3,
         "x",
         "buffer"
        ]
       },
       {
        "data": "MzMzMzMzIEB/sQ3ULCUgQPI91oZ89h9A7DIfGKtrH0DmHJz1VqseQBlr2BiMtx1AbzZDJfmSHED9cUMC/UAbQOFL4eK8xRlAsPDZ3kcmGEA=",
        "encoding": "base64",
        "path": [
         "_data",
         3,
         "y",
         "buffer"
        ]
       }
      ],
      "model_module": "jupyterlab-plotly",
      "model_module_version": "^5.13.0",
      "model_name": "FigureModel",
      "state": {
       "_config": {
        "plotlyServerURL": "https://plot.ly"
       },
       "_data": [
        {
         "hoverinfo": "name",
         "hovertemplate": "%{y:.2f} eV",
         "line": {
          "color": "black",
          "width": 1.0
         },
         "mode": "lines",
         "name": "0",
         "opacity": 1,
         "showlegend": true,
         "type": "scatter",
         "uid": "7bc36bb4-d934-4c6e-bb93-d4718b594794",
         "x": {
          "dtype": "float64",
          "shape": [
           10
          ]
         },
         "y": {
          "dtype": "float64",
          "shape": [
           10
          ]
         }
        },
        {
         "hoverinfo": "name",
         "hovertemplate": "%{y:.2f} eV",
         "line": {
          "color": "black",
          "width": 1.0
         },
         "mode": "lines",
         "name": "1",
         "opacity": 1,
         "showlegend": true,
         "type": "scatter",
         "uid": "1021cea8-3e21-48f2-934c-542800ceefbb",
         "x": {
          "dtype": "float64",
          "shape": [
           10
          ]
         },
         "y": {
          "dtype": "float64",
          "shape": [
           10
          ]
         }
        },
        {
         "hoverinfo": "name",
         "hovertemplate": "%{y:.2f} eV",
         "line": {
          "color": "black",
          "width": 1.0
         },
         "mode": "lines",
         "name": "2",
         "opacity": 1,
         "showlegend": false,
         "type": "scatter",
         "uid": "c87bc310-523a-4919-813a-2e7779ded5ef",
         "x": {
          "dtype": "float64",
          "shape": [
           10
          ]
         },
         "y": {
          "dtype": "float64",
          "shape": [
           10
          ]
         }
        },
        {
         "hoverinfo": "name",
         "hovertemplate": "%{y:.2f} eV",
         "line": {
          "color": "black",
          "width": 1.0
         },
         "mode": "lines",
         "name": "3",
         "opacity": 1,
         "showlegend": false,
         "type": "scatter",
         "uid": "ca6d2541-0e62-489c-9273-7a17643d60cd",
         "x": {
          "dtype": "float64",
          "shape": [
           10
          ]
         },
         "y": {
          "dtype": "float64",
          "shape": [
           10
          ]
         }
        }
       ],
       "_dom_classes": [],
       "_js2py_layoutDelta": {},
       "_js2py_pointsCallback": {},
       "_js2py_relayout": {},
       "_js2py_restyle": {},
       "_js2py_traceDeltas": {},
       "_js2py_update": {},
       "_last_layout_edit_id": 0,
       "_last_trace_edit_id": 0,
       "_layout": {
        "template": {
         "layout": {
          "hovermode": "closest",
          "paper_bgcolor": "white",
          "plot_bgcolor": "white",
          "scene": {
           "xaxis": {
            "color": "black",
            "gridcolor": "#ccc",
            "gridwidth": 1,
            "linewidth": 1,
            "mirror": true,
            "showgrid": false,
            "showline": true,
            "ticklen": 5,
            "ticks": "outside",
            "ticksuffix": " ",
            "visible": true,
            "zeroline": false,
            "zerolinecolor": "#ccc",
            "zerolinewidth": 1
           },
           "yaxis": {
            "color": "black",
            "gridcolor": "#ccc",
            "gridwidth": 1,
            "linewidth": 1,
            "mirror": true,
            "showgrid": false,
            "showline": true,
            "ticklen": 5,
            "ticks": "outside",
            "ticksuffix": " ",
            "visible": true,
            "zeroline": false,
            "zerolinecolor": "#ccc",
            "zerolinewidth": 1
           },
           "zaxis": {
            "color": "black",
            "gridcolor": "#ccc",
            "gridwidth": 1,
            "linewidth": 1,
            "mirror": true,
            "showgrid": false,
            "showline": true,
            "ticklen": 5,
            "ticks": "outside",
            "ticksuffix": " ",
            "visible": true,
            "zeroline": false,
            "zerolinecolor": "#ccc",
            "zerolinewidth": 1
           }
          },
          "xaxis": {
           "color": "black",
           "gridcolor": "#ccc",
           "gridwidth": 1,
           "linewidth": 1,
           "mirror": true,
           "showgrid": false,
           "showline": true,
           "ticklen": 5,
           "ticks": "outside",
           "ticksuffix": " ",
           "visible": true,
           "zeroline": false,
           "zerolinecolor": "#ccc",
           "zerolinewidth": 1
          },
          "yaxis": {
           "color": "black",
           "gridcolor": "#ccc",
           "gridwidth": 1,
           "linewidth": 1,
           "mirror": true,
           "showgrid": false,
           "showline": true,
           "ticklen": 5,
           "ticks": "outside",
           "ticksuffix": " ",
           "visible": true,
           "zeroline": false,
           "zerolinecolor": "#ccc",
           "zerolinewidth": 1
          }
         }
        },
        "xaxis": {
         "mirror": true,
         "range": [
          0.0,
          0.7374630642229563
         ],
         "showgrid": true,
         "ticktext": [
          "Gamma",
          "X"
         ],
         "tickvals": [
          0.0,
          0.7374630642229563
         ],
         "title": {
          "text": "K"
         }
        },
        "yaxis": {
         "mirror": true,
         "range": [
          -8.099999999999982,
          8.1
         ],
         "title": {
          "text": "Energy [eV]"
         }
        }
       },
       "_model_module": "jupyterlab-plotly",
       "_model_module_version": "^5.13.0",
       "_model_name": "FigureModel",
       "_py2js_addTraces": {},
       "_py2js_animate": {},
       "_py2js_deleteTraces": {},
       "_py2js_moveTraces": {},
       "_py2js_relayout": {},
       "_py2js_removeLayoutProps": {},
       "_py2js_removeTraceProps": {},
       "_py2js_restyle": {},
       "_py2js_update": {},
       "_view_count": 0,
       "_view_module": "jupyterlab-plotly",
       "_view_module_version": "^5.13.0",
       "_view_name": "FigureView",
       "tabbable": null,
       "tooltip": null
      }
     },
     "db082be5e3b9422a9073865f756e82f1": {
      "buffers": [
       {
        "data": "AAAAAAAAAAAu1InKCvq0Py7UicoK+sQ/Rb7OLxB3zz8u1InKCvrUPzpJLH2NONo/Rb7OLxB33z+pmThxyVriPy7UicoK+uQ/tA7bI0yZ5z8=",
        "encoding": "base64",
        "path": [
         "_data",
         0,
         "x",
         "buffer"
        ]
       },
       {
        "data": "KTMzMzMzIMB1sQ3ULCUgwNw91oZ89h/A1DIfGKtrH8DUHJz1VqsewAhr2BiMtx3AXzZDJfmSHMDwcUMC/UAbwNtL4eK8xRnAqPDZ3kcmGMA=",
        "encoding": "base64",
        "path": [
         "_data",
         0,
         "y",
         "buffer"
        ]
       },
       {
        "data": "AAAAAAAAAAAu1InKCvq0Py7UicoK+sQ/Rb7OLxB3zz8u1InKCvrUPzpJLH2NONo/Rb7OLxB33z+pmThxyVriPy7UicoK+uQ/tA7bI0yZ5z8=",
        "encoding": "base64",
        "path": [
         "_data",
         1,
         "x",
         "buffer"
        ]
       },
       {
        "data": "jJmZmZmZBcA46a7lIj8GwJiHZM6NEAjAmEJ3rejECsA4WvpPiw0OwFjhxlbg1BDAgwCiKca0EsAaPCNCC5UUwEPt7qDQaBbAqPDZ3kcmGMA=",
        "encoding": "base64",
        "path": [
         "_data",
         1,
         "y",
         "buffer"
        ]
       },
       {
        "data": "AAAAAAAAAAAu1InKCvq0Py7UicoK+sQ/Rb7OLxB3zz8u1InKCvrUPzpJLH2NONo/Rb7OLxB33z+pmThxyVriPy7UicoK+uQ/tA7bI0yZ5z8=",
        "encoding": "base64",
        "path": [
         "_data",
         2,
         "x",
         "buffer"
        ]
       },
       {
        "data": "tpmZmZmZBUBg6a7lIj8GQL6HZM6NEAhAskJ3rejECkBQWvpPiw0OQGThxlbg1BBAlACiKca0EkAjPCNCC5UUQEft7qDQaBZAsPDZ3kcmGEA=",
        "encoding": "base64",
        "path": [
         "_data",
         2,
         "y",
         "buffer"
        ]
       },
       {
        "data": "AAAAAAAAAAAu1InKCvq0Py7UicoK+sQ/Rb7OLxB3zz8u1InKCvrUPzpJLH2NONo/Rb7OLxB33z+pmThxyVriPy7UicoK+uQ/tA7bI0yZ5z8=",
        "encoding": "base64",
        "path": [
         "_data",
         3,
         "x",
         "buffer"
        ]
       },
       {
        "data": "MzMzMzMzIEB/sQ3ULCUgQPI91oZ89h9A7DIfGKtrH0DmHJz1VqseQBlr2BiMtx1AbzZDJfmSHED9cUMC/UAbQOFL4eK8xRlAsPDZ3kcmGEA=",
        "encoding": "base64",
        "path": [
         "_data",
         3,
         "y",
         "buffer"
        ]
       }
      ],
      "model_module": "jupyterlab-plotly",
      "model_module_version": "^5.13.0",
      "model_name": "FigureModel",
      "state": {
       "_config": {
        "plotlyServerURL": "https://plot.ly"
       },
       "_data": [
        {
         "hoverinfo": "name",
         "hovertemplate": "%{y:.2f} eV",
         "line": {
          "color": "black",
          "width": 1.0
         },
         "mode": "lines",
         "name": "0",
         "opacity": 1,
         "type": "scatter",
         "uid": "e917ce21-7ce8-4335-a3f4-d0c96ac70711",
         "x": {
          "dtype": "float64",
          "shape": [
           10
          ]
         },
         "y": {
          "dtype": "float64",
          "shape": [
           10
          ]
         }
        },
        {
         "hoverinfo": "name",
         "hovertemplate": "%{y:.2f} eV",
         "line": {
          "color": "black",
          "width": 1.0
         },
         "mode": "lines",
         "name": "1",
         "opacity": 1,
         "type": "scatter",
         "uid": "00592c73-5cc6-4d43-a6f1-8c174b0aa5de",
         "x": {
          "dtype": "float64",
          "shape": [
           10
          ]
         },
         "y": {
          "dtype": "float64",
          "shape": [
           10
          ]
         }
        },
        {
         "hoverinfo": "name",
         "hovertemplate": "%{y:.2f} eV",
         "line": {
          "color": "black",
          "width": 1.0
         },
         "mode": "lines",
         "name": "2",
         "opacity": 1,
         "type": "scatter",
         "uid": "fa5f9a66-a16d-4132-91f1-76c8cf6f0f3e",
         "x": {
          "dtype": "float64",
          "shape": [
           10
          ]
         },
         "y": {
          "dtype": "float64",
          "shape": [
           10
          ]
         }
        },
        {
         "hoverinfo": "name",
         "hovertemplate": "%{y:.2f} eV",
         "line": {
          "color": "black",
          "width": 1.0
         },
         "mode": "lines",
         "name": "3",
         "opacity": 1,
         "type": "scatter",
         "uid": "ecab5080-38dd-42c5-b3e3-3450511778f4",
         "x": {
          "dtype": "float64",
          "shape": [
           10
          ]
         },
         "y": {
          "dtype": "float64",
          "shape": [
           10
          ]
         }
        }
       ],
       "_dom_classes": [],
       "_js2py_layoutDelta": {},
       "_js2py_pointsCallback": {},
       "_js2py_relayout": {},
       "_js2py_restyle": {},
       "_js2py_traceDeltas": {},
       "_js2py_update": {},
       "_last_layout_edit_id": 0,
       "_last_trace_edit_id": 0,
       "_layout": {
        "template": {
         "layout": {
          "hovermode": "closest",
          "paper_bgcolor": "white",
          "plot_bgcolor": "white",
          "scene": {
           "xaxis": {
            "color": "black",
            "gridcolor": "#ccc",
            "gridwidth": 1,
            "linewidth": 1,
            "mirror": true,
            "showgrid": false,
            "showline": true,
            "ticklen": 5,
            "ticks": "outside",
            "ticksuffix": " ",
            "visible": true,
            "zeroline": false,
            "zerolinecolor": "#ccc",
            "zerolinewidth": 1
           },
           "yaxis": {
            "color": "black",
            "gridcolor": "#ccc",
            "gridwidth": 1,
            "linewidth": 1,
            "mirror": true,
            "showgrid": false,
            "showline": true,
            "ticklen": 5,
            "ticks": "outside",
            "ticksuffix": " ",
            "visible": true,
            "zeroline": false,
            "zerolinecolor": "#ccc",
            "zerolinewidth": 1
           },
           "zaxis": {
            "color": "black",
            "gridcolor": "#ccc",
            "gridwidth": 1,
            "linewidth": 1,
            "mirror": true,
            "showgrid": false,
            "showline": true,
            "ticklen": 5,
            "ticks": "outside",
            "ticksuffix": " ",
            "visible": true,
            "zeroline": false,
            "zerolinecolor": "#ccc",
            "zerolinewidth": 1
           }
          },
          "xaxis": {
           "color": "black",
           "gridcolor": "#ccc",
           "gridwidth": 1,
           "linewidth": 1,
           "mirror": true,
           "showgrid": false,
           "showline": true,
           "ticklen": 5,
           "ticks": "outside",
           "ticksuffix": " ",
           "visible": true,
           "zeroline": false,
           "zerolinecolor": "#ccc",
           "zerolinewidth": 1
          },
          "yaxis": {
           "color": "black",
           "gridcolor": "#ccc",
           "gridwidth": 1,
           "linewidth": 1,
           "mirror": true,
           "showgrid": false,
           "showline": true,
           "ticklen": 5,
           "ticks": "outside",
           "ticksuffix": " ",
           "visible": true,
           "zeroline": false,
           "zerolinecolor": "#ccc",
           "zerolinewidth": 1
          }
         }
        },
        "xaxis": {
         "mirror": true,
         "range": [
          0.0,
          0.7374630642229563
         ],
         "showgrid": true,
         "ticktext": [
          "Gamma",
          "X"
         ],
         "tickvals": [
          0.0,
          0.7374630642229563
         ],
         "title": {
          "text": "K"
         }
        },
        "yaxis": {
         "mirror": true,
         "range": [
          -8.099999999999982,
          8.1
         ],
         "title": {
          "text": "Energy [eV]"
         }
        }
       },
       "_model_module": "jupyterlab-plotly",
       "_model_module_version": "^5.13.0",
       "_model_name": "FigureModel",
       "_py2js_addTraces": {},
       "_py2js_animate": {},
       "_py2js_deleteTraces": {},
       "_py2js_moveTraces": {},
       "_py2js_relayout": {},
       "_py2js_removeLayoutProps": {},
       "_py2js_removeTraceProps": {},
       "_py2js_restyle": {},
       "_py2js_update": {},
       "_view_count": 0,
       "_view_module": "jupyterlab-plotly",
       "_view_module_version": "^5.13.0",
       "_view_name": "FigureView",
       "tabbable": null,
       "tooltip": null
      }
     }
    },
    "version_major": 2,
    "version_minor": 0
   }
  }
 },
 "nbformat": 4,
 "nbformat_minor": 5
}
